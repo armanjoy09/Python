{
 "cells": [
  {
   "cell_type": "code",
   "execution_count": 3,
   "id": "13c1462a",
   "metadata": {},
   "outputs": [
    {
     "name": "stdout",
     "output_type": "stream",
     "text": [
      "this is my super number 80\n"
     ]
    }
   ],
   "source": [
    "num1=30\n",
    "num2=50\n",
    "print(f\"this is my super number {num1+num2}\")"
   ]
  },
  {
   "cell_type": "code",
   "execution_count": 6,
   "id": "ba6fdb93",
   "metadata": {},
   "outputs": [
    {
     "name": "stdout",
     "output_type": "stream",
     "text": [
      "this is my name joy & this is my roll 18\n"
     ]
    }
   ],
   "source": [
    "username='joy'\n",
    "roll=18\n",
    "print(f\"this is my name {username} & this is my roll {roll}\")"
   ]
  },
  {
   "cell_type": "code",
   "execution_count": 7,
   "id": "d8a4b936",
   "metadata": {},
   "outputs": [
    {
     "name": "stdout",
     "output_type": "stream",
     "text": [
      "<class 'bytes'>\n"
     ]
    }
   ],
   "source": [
    "# Binary type data\n",
    "List=[1,3,4,5,6,67,78,255]\n",
    "J=bytes(List)\n",
    "print(type(J))"
   ]
  },
  {
   "cell_type": "code",
   "execution_count": 17,
   "id": "41cbe880",
   "metadata": {},
   "outputs": [
    {
     "ename": "TypeError",
     "evalue": "'bytes' object does not support item assignment",
     "output_type": "error",
     "traceback": [
      "\u001b[1;31m---------------------------------------------------------------------------\u001b[0m",
      "\u001b[1;31mTypeError\u001b[0m                                 Traceback (most recent call last)",
      "Cell \u001b[1;32mIn[17], line 4\u001b[0m\n\u001b[0;32m      2\u001b[0m \u001b[38;5;28mlist\u001b[39m\u001b[38;5;241m=\u001b[39m[\u001b[38;5;241m1\u001b[39m,\u001b[38;5;241m2\u001b[39m,\u001b[38;5;241m3\u001b[39m,\u001b[38;5;241m4\u001b[39m,\u001b[38;5;241m58\u001b[39m,\u001b[38;5;241m255\u001b[39m]\n\u001b[0;32m      3\u001b[0m B\u001b[38;5;241m=\u001b[39m\u001b[38;5;28mbytes\u001b[39m(\u001b[38;5;28mlist\u001b[39m)\n\u001b[1;32m----> 4\u001b[0m B[\u001b[38;5;241m2\u001b[39m]\u001b[38;5;241m=\u001b[39m\u001b[38;5;241m50\u001b[39m\n\u001b[0;32m      5\u001b[0m \u001b[38;5;28mprint\u001b[39m(B[\u001b[38;5;241m2\u001b[39m])\n",
      "\u001b[1;31mTypeError\u001b[0m: 'bytes' object does not support item assignment"
     ]
    }
   ],
   "source": [
    "# Binary type data \n",
    "list=[1,2,3,4,58,255]\n",
    "B=bytes(list)\n",
    "B[2]=50\n",
    "print(B[2])"
   ]
  },
  {
   "cell_type": "code",
   "execution_count": 16,
   "id": "db9d8f3a",
   "metadata": {},
   "outputs": [
    {
     "name": "stdout",
     "output_type": "stream",
     "text": [
      "50\n"
     ]
    }
   ],
   "source": [
    "# binary type data\n",
    "list=[1,2,3,4,5,255]\n",
    "b=bytearray(list)\n",
    "b[2]=50\n",
    "print(b[2])"
   ]
  },
  {
   "cell_type": "code",
   "execution_count": 15,
   "id": "e9f63cac",
   "metadata": {},
   "outputs": [
    {
     "name": "stdout",
     "output_type": "stream",
     "text": [
      "10\n"
     ]
    }
   ],
   "source": [
    "List=[2,4,5,6,255]\n",
    "b=bytearray(list)\n",
    "b[0]=10\n",
    "print(b[0])"
   ]
  },
  {
   "cell_type": "code",
   "execution_count": 14,
   "id": "6f708461",
   "metadata": {},
   "outputs": [
    {
     "name": "stdout",
     "output_type": "stream",
     "text": [
      "10\n"
     ]
    }
   ],
   "source": [
    "# binary type data\n",
    "list=[1,2,3,4,255]\n",
    "b=bytearray(list)\n",
    "b[2]=10\n",
    "print(b[2])"
   ]
  },
  {
   "cell_type": "code",
   "execution_count": 4,
   "id": "b6b00bfb",
   "metadata": {},
   "outputs": [
    {
     "name": "stdout",
     "output_type": "stream",
     "text": [
      "<class 'bytes'>\n"
     ]
    }
   ],
   "source": [
    "list=[20,25,30,40,50]\n",
    "b=bytes(list)\n",
    "print(type(b))"
   ]
  },
  {
   "cell_type": "code",
   "execution_count": 6,
   "id": "c8f77156",
   "metadata": {},
   "outputs": [
    {
     "name": "stdout",
     "output_type": "stream",
     "text": [
      "<class 'bytes'>\n"
     ]
    }
   ],
   "source": [
    "list=[20,30,40,50]\n",
    "x=bytes(list)\n",
    "print(type(x))"
   ]
  },
  {
   "cell_type": "code",
   "execution_count": 10,
   "id": "308d2c0e",
   "metadata": {},
   "outputs": [
    {
     "ename": "TypeError",
     "evalue": "'bytes' object does not support item assignment",
     "output_type": "error",
     "traceback": [
      "\u001b[1;31m---------------------------------------------------------------------------\u001b[0m",
      "\u001b[1;31mTypeError\u001b[0m                                 Traceback (most recent call last)",
      "Cell \u001b[1;32mIn[10], line 3\u001b[0m\n\u001b[0;32m      1\u001b[0m lsit\u001b[38;5;241m=\u001b[39m[\u001b[38;5;241m10\u001b[39m,\u001b[38;5;241m20\u001b[39m,\u001b[38;5;241m30\u001b[39m,\u001b[38;5;241m40\u001b[39m,\u001b[38;5;241m50\u001b[39m]\n\u001b[0;32m      2\u001b[0m x\u001b[38;5;241m=\u001b[39m\u001b[38;5;28mbytes\u001b[39m(\u001b[38;5;28mlist\u001b[39m)\n\u001b[1;32m----> 3\u001b[0m x[\u001b[38;5;241m2\u001b[39m]\u001b[38;5;241m=\u001b[39m\u001b[38;5;241m35\u001b[39m\n\u001b[0;32m      4\u001b[0m \u001b[38;5;28mprint\u001b[39m(x[\u001b[38;5;241m2\u001b[39m])\n",
      "\u001b[1;31mTypeError\u001b[0m: 'bytes' object does not support item assignment"
     ]
    }
   ],
   "source": [
    "lsit=[10,20,30,40,50]\n",
    "x=bytes(list)\n",
    "x[2]=35\n",
    "print(x[2])   #bytes object immuteable(change hoy na) but bytearray muteable"
   ]
  },
  {
   "cell_type": "code",
   "execution_count": 13,
   "id": "48af4ee8",
   "metadata": {},
   "outputs": [
    {
     "name": "stdout",
     "output_type": "stream",
     "text": [
      "35\n"
     ]
    }
   ],
   "source": [
    "list=[10,20,30,40]\n",
    "x=bytearray(list)\n",
    "x[2]=35\n",
    "print(x[2])"
   ]
  },
  {
   "cell_type": "code",
   "execution_count": 15,
   "id": "90a2b3f8",
   "metadata": {},
   "outputs": [
    {
     "name": "stdout",
     "output_type": "stream",
     "text": [
      "<class 'bytes'>\n"
     ]
    }
   ],
   "source": [
    "list=[10,30,40,50]\n",
    "x=bytes(list)\n",
    "print(type(x))"
   ]
  },
  {
   "cell_type": "code",
   "execution_count": 16,
   "id": "c818330c",
   "metadata": {},
   "outputs": [
    {
     "name": "stdout",
     "output_type": "stream",
     "text": [
      "<class 'bytearray'>\n"
     ]
    }
   ],
   "source": [
    "list=[10,20,30,40,50]\n",
    "x=bytearray(list)\n",
    "print(type(x))"
   ]
  },
  {
   "cell_type": "code",
   "execution_count": 19,
   "id": "66327293",
   "metadata": {},
   "outputs": [
    {
     "ename": "ValueError",
     "evalue": "byte must be in range(0, 256)",
     "output_type": "error",
     "traceback": [
      "\u001b[1;31m---------------------------------------------------------------------------\u001b[0m",
      "\u001b[1;31mValueError\u001b[0m                                Traceback (most recent call last)",
      "Cell \u001b[1;32mIn[19], line 2\u001b[0m\n\u001b[0;32m      1\u001b[0m \u001b[38;5;28mlist\u001b[39m\u001b[38;5;241m=\u001b[39m[\u001b[38;5;241m100\u001b[39m,\u001b[38;5;241m200\u001b[39m,\u001b[38;5;241m225\u001b[39m,\u001b[38;5;241m290\u001b[39m]\n\u001b[1;32m----> 2\u001b[0m x\u001b[38;5;241m=\u001b[39m\u001b[38;5;28;43mbytearray\u001b[39;49m\u001b[43m(\u001b[49m\u001b[38;5;28;43mlist\u001b[39;49m\u001b[43m)\u001b[49m\n\u001b[0;32m      3\u001b[0m x[\u001b[38;5;241m3\u001b[39m]\u001b[38;5;241m=\u001b[39m\u001b[38;5;241m40\u001b[39m\n\u001b[0;32m      4\u001b[0m \u001b[38;5;28mprint\u001b[39m(x[\u001b[38;5;241m3\u001b[39m])\n",
      "\u001b[1;31mValueError\u001b[0m: byte must be in range(0, 256)"
     ]
    }
   ],
   "source": [
    "list=[100,200,225,290]\n",
    "x=bytearray(list)\n",
    "x[3]=40\n",
    "print(x[3])"
   ]
  },
  {
   "cell_type": "code",
   "execution_count": 20,
   "id": "17cb5c4a",
   "metadata": {},
   "outputs": [
    {
     "name": "stdout",
     "output_type": "stream",
     "text": [
      "<class 'NoneType'>\n"
     ]
    }
   ],
   "source": [
    "x=None\n",
    "print(type(x))"
   ]
  },
  {
   "cell_type": "code",
   "execution_count": 21,
   "id": "4b701f1e",
   "metadata": {},
   "outputs": [
    {
     "name": "stdout",
     "output_type": "stream",
     "text": [
      "<class 'NoneType'>\n"
     ]
    }
   ],
   "source": [
    "x=None\n",
    "print(type(x))"
   ]
  },
  {
   "cell_type": "code",
   "execution_count": 22,
   "id": "c9201423",
   "metadata": {},
   "outputs": [
    {
     "name": "stdout",
     "output_type": "stream",
     "text": [
      "<class 'NoneType'>\n"
     ]
    }
   ],
   "source": [
    "x=None\n",
    "print(type(x))"
   ]
  },
  {
   "cell_type": "code",
   "execution_count": null,
   "id": "f68ae476",
   "metadata": {},
   "outputs": [],
   "source": []
  }
 ],
 "metadata": {
  "kernelspec": {
   "display_name": "Python 3 (ipykernel)",
   "language": "python",
   "name": "python3"
  },
  "language_info": {
   "codemirror_mode": {
    "name": "ipython",
    "version": 3
   },
   "file_extension": ".py",
   "mimetype": "text/x-python",
   "name": "python",
   "nbconvert_exporter": "python",
   "pygments_lexer": "ipython3",
   "version": "3.10.9"
  }
 },
 "nbformat": 4,
 "nbformat_minor": 5
}
