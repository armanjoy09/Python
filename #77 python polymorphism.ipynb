{
 "cells": [
  {
   "cell_type": "code",
   "execution_count": 2,
   "id": "290044a2",
   "metadata": {},
   "outputs": [
    {
     "name": "stdout",
     "output_type": "stream",
     "text": [
      "bangla biman\n"
     ]
    }
   ],
   "source": [
    "class vehicle:\n",
    "    def __init__(self,model,brand,component):\n",
    "        self.model=model\n",
    "        self.brand=brand\n",
    "        self.component=component\n",
    "        \n",
    "class plane(vehicle):\n",
    "    pass\n",
    "p1=plane(\"zeed404\",\"bangla biman\",\"main component\")\n",
    "print(p1.brand)"
   ]
  },
  {
   "cell_type": "code",
   "execution_count": 9,
   "id": "7668d62f",
   "metadata": {},
   "outputs": [
    {
     "name": "stdout",
     "output_type": "stream",
     "text": [
      "suzuki\n",
      "strong component\n"
     ]
    }
   ],
   "source": [
    "class vehicle:\n",
    "    def __init__(self,Model,Brand,Component):\n",
    "        self.Model=Model\n",
    "        self.Brand=Brand\n",
    "        self.Component=Component\n",
    "        \n",
    "        \n",
    "class plane(vehicle):\n",
    "    pass\n",
    "class car(vehicle):\n",
    "    pass\n",
    "class Bike(vehicle):\n",
    "    pass\n",
    "b1=Bike(\"suzuki90\",\"suzuki\",\"all component\")\n",
    "c1=car(\"bm-909\",\"bmw\",\"strong component\")\n",
    "print(b1.Brand)\n",
    "print(c1.Component)"
   ]
  },
  {
   "cell_type": "code",
   "execution_count": 18,
   "id": "c9a1514c",
   "metadata": {},
   "outputs": [
    {
     "name": "stdout",
     "output_type": "stream",
     "text": [
      "RTR105 main component\n",
      "audi bmw309\n",
      "all component biman bangla\n"
     ]
    }
   ],
   "source": [
    "class vehicle:\n",
    "    def __init__(self,Model,Brand,Component):\n",
    "        self.Model=Model\n",
    "        self.Brand=Brand\n",
    "        self.Component=Component\n",
    "        \n",
    "class car(vehicle):\n",
    "    pass\n",
    "class bike(vehicle):\n",
    "    pass\n",
    "class plane(vehicle):\n",
    "    pass\n",
    "b1=bike(\"RTR105\",\"suzuki\",\"main component\")\n",
    "c1=car(\"bmw309\",\"audi\",\"real component\")\n",
    "p1=plane(\"airzet209\",\"biman bangla\",\"all component\")\n",
    "print(b1.Model,b1.Component)\n",
    "print(c1.Brand,c1.Model)\n",
    "print(p1.Component,p1.Brand)"
   ]
  },
  {
   "cell_type": "code",
   "execution_count": 24,
   "id": "e1aa857e",
   "metadata": {},
   "outputs": [
    {
     "name": "stdout",
     "output_type": "stream",
     "text": [
      "duronto\n",
      "hhacomponent\n",
      "RTR105 main component\n",
      "audi204 audi car strong component\n",
      "auto2020 vivatake all component\n"
     ]
    }
   ],
   "source": [
    "class vehicle:\n",
    "    def __init__(self,Brand,Model,Component):\n",
    "        self.Brand=Brand\n",
    "        self.Model=Model\n",
    "        self.Component=Component\n",
    "        \n",
    "        \n",
    "class plane(vehicle):\n",
    "    pass\n",
    "class car(vehicle):\n",
    "    pass\n",
    "class bike(vehicle):\n",
    "    pass\n",
    "class cycle(vehicle):\n",
    "    pass\n",
    "class auto(vehicle):\n",
    "    pass\n",
    "a1=auto(\"auto2020\",\"vivatake\",\"all component\")\n",
    "c1=car(\"audi204\",\"audi car\",\"strong component\")\n",
    "p1=plane(\"zet909\",\"biman0003\",\"main component\")\n",
    "c2=cycle(\"duronto\",\"bicycle402\",\"hhacomponent\")\n",
    "print(c2.Brand)\n",
    "print(c2.Component)\n",
    "print(b1.Model,b1.Component)\n",
    "print(c1.Brand,c1.Model,c1.Component)\n",
    "print(a1.Brand,a1.Model,a1.Component)\n",
    "        "
   ]
  },
  {
   "cell_type": "code",
   "execution_count": null,
   "id": "390b3d68",
   "metadata": {},
   "outputs": [],
   "source": []
  }
 ],
 "metadata": {
  "kernelspec": {
   "display_name": "Python 3 (ipykernel)",
   "language": "python",
   "name": "python3"
  },
  "language_info": {
   "codemirror_mode": {
    "name": "ipython",
    "version": 3
   },
   "file_extension": ".py",
   "mimetype": "text/x-python",
   "name": "python",
   "nbconvert_exporter": "python",
   "pygments_lexer": "ipython3",
   "version": "3.10.9"
  }
 },
 "nbformat": 4,
 "nbformat_minor": 5
}
