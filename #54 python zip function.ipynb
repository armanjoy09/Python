{
 "cells": [
  {
   "cell_type": "code",
   "execution_count": 1,
   "id": "f76cc210",
   "metadata": {},
   "outputs": [
    {
     "name": "stdout",
     "output_type": "stream",
     "text": [
      "[(10, 'pori'), (20, 'munal'), (30, 'apu'), (40, 'rai'), (50, 'anu')]\n"
     ]
    }
   ],
   "source": [
    "roll=[10,20,30,40,50]\n",
    "name=[\"pori\",\"munal\",\"apu\",\"rai\",\"anu\"]\n",
    "print(list(zip(roll,name)))"
   ]
  },
  {
   "cell_type": "code",
   "execution_count": 4,
   "id": "4abf2a2a",
   "metadata": {},
   "outputs": [
    {
     "name": "stdout",
     "output_type": "stream",
     "text": [
      "[(10, 'pori', 'A'), (20, 'munal', 'B'), (30, 'apu', 'A'), (40, 'rai', 'B')]\n"
     ]
    }
   ],
   "source": [
    "roll=[10,20,30,40,50]\n",
    "name=[\"pori\",\"munal\",\"apu\",\"rai\",\"anu\"]\n",
    "print(list(zip(roll,name,\"ABAB\")))"
   ]
  },
  {
   "cell_type": "code",
   "execution_count": 7,
   "id": "d29af8f0",
   "metadata": {},
   "outputs": [
    {
     "name": "stdout",
     "output_type": "stream",
     "text": [
      "[('pori', 10, 'S'), ('apu', 20, 'E'), ('anuska', 30, 'X')]\n"
     ]
    }
   ],
   "source": [
    "roll=[10,20,30]\n",
    "name=[\"pori\",\"apu\",\"anuska\"]\n",
    "print(list(zip(name,roll,\"SEXY\")))"
   ]
  },
  {
   "cell_type": "code",
   "execution_count": null,
   "id": "1d696362",
   "metadata": {},
   "outputs": [],
   "source": []
  }
 ],
 "metadata": {
  "kernelspec": {
   "display_name": "Python 3 (ipykernel)",
   "language": "python",
   "name": "python3"
  },
  "language_info": {
   "codemirror_mode": {
    "name": "ipython",
    "version": 3
   },
   "file_extension": ".py",
   "mimetype": "text/x-python",
   "name": "python",
   "nbconvert_exporter": "python",
   "pygments_lexer": "ipython3",
   "version": "3.10.9"
  }
 },
 "nbformat": 4,
 "nbformat_minor": 5
}
