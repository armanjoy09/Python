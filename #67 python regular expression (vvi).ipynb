{
 "cells": [
  {
   "cell_type": "code",
   "execution_count": 1,
   "id": "894398e4",
   "metadata": {},
   "outputs": [
    {
     "name": "stdout",
     "output_type": "stream",
     "text": [
      "['h', 'e', 'a', 'i', 'i', 'm', 'h', 'e', 'a', 'i']\n"
     ]
    }
   ],
   "source": [
    "# a set of characters[]\n",
    "import re\n",
    "text=\"The rain im the Spain\"\n",
    "#find all the lower case characters alphabetically between \"a\" and \"m\".\n",
    "x=re.findall(\"[a-m]\",text)\n",
    "print(x)"
   ]
  },
  {
   "cell_type": "code",
   "execution_count": 5,
   "id": "3e1116c4",
   "metadata": {},
   "outputs": [
    {
     "name": "stdout",
     "output_type": "stream",
     "text": [
      "['h', 'e', 'r', 'i', 'n', 'i', 'n', 'h', 'e', 'p', 'i', 'n']\n"
     ]
    }
   ],
   "source": [
    "import re\n",
    "text=\"The rain in the Spain\"\n",
    "x=re.findall(\"[d-s]\",text)\n",
    "print(x)"
   ]
  },
  {
   "cell_type": "code",
   "execution_count": 6,
   "id": "298c0be0",
   "metadata": {},
   "outputs": [
    {
     "name": "stdout",
     "output_type": "stream",
     "text": [
      "['h', 'e', 'r', 'a', 'i', 'n', 'i', 'n', 't', 'h', 'e', 'p', 'a', 'i', 'n']\n"
     ]
    }
   ],
   "source": [
    "import re \n",
    "text=\"The rain in the Spain\"\n",
    "x=re.findall(\"[a-z]\",text)\n",
    "print(x)"
   ]
  },
  {
   "cell_type": "code",
   "execution_count": 7,
   "id": "dbef2163",
   "metadata": {},
   "outputs": [
    {
     "name": "stdout",
     "output_type": "stream",
     "text": [
      "['5', '9']\n"
     ]
    }
   ],
   "source": [
    "# \\ signals a special sequence(can also be used to escape special characters) =\"\\d\"\n",
    "import re\n",
    "text=\"there is 59 dollars\"\n",
    "x=re.findall(\"\\d\",text)\n",
    "print(x)\n"
   ]
  },
  {
   "cell_type": "code",
   "execution_count": 8,
   "id": "1804486f",
   "metadata": {},
   "outputs": [
    {
     "name": "stdout",
     "output_type": "stream",
     "text": [
      "['5', '9']\n"
     ]
    }
   ],
   "source": [
    "import re\n",
    "text=\"there is 59 dollars\"\n",
    "x=re.findall(\"\\d\",text)\n",
    "print(x)"
   ]
  },
  {
   "cell_type": "code",
   "execution_count": 9,
   "id": "14e391a6",
   "metadata": {},
   "outputs": [
    {
     "name": "stdout",
     "output_type": "stream",
     "text": [
      "['hello']\n"
     ]
    }
   ],
   "source": [
    "# . any character (except newline character)\"he..o\"\n",
    "import re\n",
    "text=\"hello planet\"\n",
    "#search for a sequence that starts with \"he\",followed by two(any) characters,and an \"o\"\n",
    "x=re.findall(\"he..o\",text)\n",
    "print(x)"
   ]
  },
  {
   "cell_type": "code",
   "execution_count": 10,
   "id": "427f0db7",
   "metadata": {},
   "outputs": [
    {
     "name": "stdout",
     "output_type": "stream",
     "text": [
      "['planet']\n"
     ]
    }
   ],
   "source": [
    "import re\n",
    "text=\"hello planet\"\n",
    "x=re.findall(\"pl...t\",text)\n",
    "print(x)"
   ]
  },
  {
   "cell_type": "code",
   "execution_count": 11,
   "id": "67f71eda",
   "metadata": {},
   "outputs": [
    {
     "name": "stdout",
     "output_type": "stream",
     "text": [
      "['hello']\n"
     ]
    }
   ],
   "source": [
    "import re\n",
    "text=\"hello planet\"\n",
    "x=re.findall(\"h...o\",text)\n",
    "print(x)"
   ]
  },
  {
   "cell_type": "code",
   "execution_count": 12,
   "id": "530d0f58",
   "metadata": {},
   "outputs": [
    {
     "name": "stdout",
     "output_type": "stream",
     "text": [
      "yes,the string start with hello\n"
     ]
    }
   ],
   "source": [
    "# ^ starts with:\"^hello\"\n",
    "    import re\n",
    "text=\"hello planet\"\n",
    "#check if the string start with 'hello':\n",
    "x=re.findall(\"^hello\",text)\n",
    "if x:\n",
    "    print(\"yes,the string start with hello\")\n",
    "else:\n",
    "    print(\"no match\")"
   ]
  },
  {
   "cell_type": "code",
   "execution_count": 13,
   "id": "094c27c7",
   "metadata": {},
   "outputs": [
    {
     "name": "stdout",
     "output_type": "stream",
     "text": [
      "yes,the string start with hello\n"
     ]
    }
   ],
   "source": [
    "import re\n",
    "text=\"hello planet\"\n",
    "x=re.findall(\"^hello\",text)\n",
    "if x:\n",
    "    print(\"yes,the string start with hello\")\n",
    "else:\n",
    "    print(\"no match\")"
   ]
  },
  {
   "cell_type": "code",
   "execution_count": 14,
   "id": "a7b9f2a7",
   "metadata": {},
   "outputs": [
    {
     "name": "stdout",
     "output_type": "stream",
     "text": [
      "no match\n"
     ]
    }
   ],
   "source": [
    "import re\n",
    "text=\"ami planet\"\n",
    "x=re.findall(\"^hello\",text)\n",
    "if x:\n",
    "    print(\"yes,the string start with hello\")\n",
    "else:\n",
    "    print(\"no match\")\n"
   ]
  },
  {
   "cell_type": "code",
   "execution_count": 15,
   "id": "174a9564",
   "metadata": {},
   "outputs": [
    {
     "name": "stdout",
     "output_type": "stream",
     "text": [
      "yes,the string ends with planet\n"
     ]
    }
   ],
   "source": [
    "# $ ends with:\"planets$\"\n",
    "import re \n",
    "text=\"hello planet\"\n",
    "# check if the string ends with planets\n",
    "x=re.findall(\"planet$\",text)\n",
    "if x:\n",
    "    print(\"yes,the string ends with planet\")\n",
    "else:\n",
    "    print(\"no match\")"
   ]
  },
  {
   "cell_type": "code",
   "execution_count": 17,
   "id": "8663f106",
   "metadata": {},
   "outputs": [
    {
     "name": "stdout",
     "output_type": "stream",
     "text": [
      "no match\n"
     ]
    }
   ],
   "source": [
    "import re \n",
    "text=\"hello planet\"\n",
    "x=re.findall(\"hello$\",text)\n",
    "if x:\n",
    "    print(\"yes,the string ends with planet\")\n",
    "else:\n",
    "    print(\"no match\")"
   ]
  },
  {
   "cell_type": "code",
   "execution_count": 18,
   "id": "f9cca995",
   "metadata": {},
   "outputs": [
    {
     "name": "stdout",
     "output_type": "stream",
     "text": [
      "['hello']\n"
     ]
    }
   ],
   "source": [
    "# * zero or more occurrences \"he.*o\"\n",
    "import re\n",
    "text=\"hello planet\"\n",
    "# search for a sequence that starts with \"he\",followed by 0 or more(any) characters,and an \"o\"\n",
    "x=re.findall(\"he.*o\",text)\n",
    "print(x)"
   ]
  },
  {
   "cell_type": "code",
   "execution_count": 19,
   "id": "1b069a38",
   "metadata": {},
   "outputs": [
    {
     "name": "stdout",
     "output_type": "stream",
     "text": [
      "['hello']\n"
     ]
    }
   ],
   "source": [
    "# + one or more occurrances \"he.+o\"\n",
    "import re\n",
    "text=\"hello planet\"\n",
    "# search for a sequences that starts with \"he\",followed by one or more(any) characters,and an \"o\"\n",
    "x=re.findall(\"he.+o\",text)\n",
    "print(x)\n"
   ]
  },
  {
   "cell_type": "code",
   "execution_count": 21,
   "id": "73e34d25",
   "metadata": {},
   "outputs": [
    {
     "name": "stdout",
     "output_type": "stream",
     "text": [
      "['hello']\n"
     ]
    }
   ],
   "source": [
    "import re\n",
    "text=\"hello planet\"\n",
    "x=re.findall(\"he.+o\",text)\n",
    "print(x)"
   ]
  },
  {
   "cell_type": "code",
   "execution_count": 22,
   "id": "9132bd22",
   "metadata": {},
   "outputs": [
    {
     "name": "stdout",
     "output_type": "stream",
     "text": [
      "['hello']\n"
     ]
    }
   ],
   "source": [
    "import re \n",
    "text=\"hello planet\"\n",
    "x=re.findall(\"he.*o\",text)\n",
    "print(x)"
   ]
  },
  {
   "cell_type": "code",
   "execution_count": 24,
   "id": "7a6ee682",
   "metadata": {},
   "outputs": [
    {
     "name": "stdout",
     "output_type": "stream",
     "text": [
      "[]\n"
     ]
    }
   ],
   "source": [
    "# ? zero or one occurrances \"he.?o\"\n",
    "import re\n",
    "text=\"hello planet\"\n",
    "x=re.findall(\"he.?0\",text)\n",
    "print(x) #this time we got no match,because there were not zero,not one,but two characters between \"he\" and the \"o\""
   ]
  },
  {
   "cell_type": "code",
   "execution_count": 25,
   "id": "de5b6235",
   "metadata": {},
   "outputs": [
    {
     "name": "stdout",
     "output_type": "stream",
     "text": [
      "[]\n"
     ]
    }
   ],
   "source": [
    "import re \n",
    "text=\"hello planet\"\n",
    "x=re.findall(\"hel?o\",text)\n",
    "print(x)"
   ]
  },
  {
   "cell_type": "code",
   "execution_count": 26,
   "id": "8f74e146",
   "metadata": {},
   "outputs": [
    {
     "name": "stdout",
     "output_type": "stream",
     "text": [
      "['hello']\n"
     ]
    }
   ],
   "source": [
    "# {} exectlly the specified number of occurrances \"he.{2}o\"\n",
    "import re\n",
    "text=\"hello planet\"\n",
    "#search for a sequence that starts with \"he\",followed exectly 2(any) characters,and an \"o\":\n",
    "x=re.findall(\"he.{2}o\",text)\n",
    "print(x)"
   ]
  },
  {
   "cell_type": "code",
   "execution_count": 27,
   "id": "2ecbc35b",
   "metadata": {},
   "outputs": [
    {
     "name": "stdout",
     "output_type": "stream",
     "text": [
      "['hello']\n"
     ]
    }
   ],
   "source": [
    "import re\n",
    "text=\"hello planet\"\n",
    "x=re.findall(\"he.{2}o\",text)\n",
    "print(x)"
   ]
  },
  {
   "cell_type": "code",
   "execution_count": 28,
   "id": "19f0313f",
   "metadata": {},
   "outputs": [
    {
     "name": "stdout",
     "output_type": "stream",
     "text": [
      "yes,there is at least one match\n"
     ]
    }
   ],
   "source": [
    "# | either or:\"falls|stays\"\n",
    "import re\n",
    "text=\"The rain in the Spain falls mainly in the plain!\"\n",
    "# check if the string contains either \"falls\" or \"stays\"\n",
    "x=re.findall(\"falls|stays\",text)\n",
    "if x:\n",
    "    print(\"yes,there is at least one match\")\n",
    "else:\n",
    "    print(\"no match\")"
   ]
  },
  {
   "cell_type": "code",
   "execution_count": 30,
   "id": "89e1d78b",
   "metadata": {},
   "outputs": [
    {
     "name": "stdout",
     "output_type": "stream",
     "text": [
      "ofs sorry there is no match\n"
     ]
    }
   ],
   "source": [
    "import re \n",
    "text=\"The rain in the spain stays mainly in the plain\"\n",
    "x=re.findall(\"falls|down\",text)\n",
    "if x:\n",
    "    print(\"yes,there is at least one match\")\n",
    "else:\n",
    "    print(\"ofs sorry there is no match\")"
   ]
  },
  {
   "cell_type": "code",
   "execution_count": 31,
   "id": "34e63a0d",
   "metadata": {},
   "outputs": [
    {
     "name": "stdout",
     "output_type": "stream",
     "text": [
      "['ai', 'ai']\n"
     ]
    }
   ],
   "source": [
    "import re\n",
    "text=\"The rain in the Spain\"\n",
    "x=re.findall(\"ai\",text)\n",
    "print(x)"
   ]
  },
  {
   "cell_type": "code",
   "execution_count": 32,
   "id": "50f03a73",
   "metadata": {},
   "outputs": [
    {
     "name": "stdout",
     "output_type": "stream",
     "text": [
      "the white space character is located in position: 3\n"
     ]
    }
   ],
   "source": [
    "import re\n",
    "text=\"the rain in the spain\"\n",
    "x=re.search(\"\\s\",text)\n",
    "print(\"the white space character is located in position:\",x.start())"
   ]
  },
  {
   "cell_type": "code",
   "execution_count": 33,
   "id": "7894248a",
   "metadata": {},
   "outputs": [
    {
     "name": "stdout",
     "output_type": "stream",
     "text": [
      "the white space character is located in position: 3\n"
     ]
    }
   ],
   "source": [
    "import re\n",
    "text=\"the rain in the spain\"\n",
    "x=re.search(\"\\s\",text)\n",
    "print(\"the white space character is located in position:\",x.start())"
   ]
  },
  {
   "cell_type": "code",
   "execution_count": 34,
   "id": "cb85a33e",
   "metadata": {},
   "outputs": [
    {
     "name": "stdout",
     "output_type": "stream",
     "text": [
      "None\n"
     ]
    }
   ],
   "source": [
    "import re\n",
    "text=\"the rain in the spain\"\n",
    "x=re.search(\"portugal\",text)\n",
    "print(x)"
   ]
  },
  {
   "cell_type": "code",
   "execution_count": 35,
   "id": "017f07fc",
   "metadata": {},
   "outputs": [
    {
     "name": "stdout",
     "output_type": "stream",
     "text": [
      "['the', 'rain', 'in', 'the', 'spain']\n"
     ]
    }
   ],
   "source": [
    "# split() function\n",
    "import re \n",
    "text=\"the rain in the spain\"\n",
    "x=re.split(\"\\s\",text)\n",
    "print(x)"
   ]
  },
  {
   "cell_type": "code",
   "execution_count": 36,
   "id": "7cedb9bb",
   "metadata": {},
   "outputs": [
    {
     "name": "stdout",
     "output_type": "stream",
     "text": [
      "['the', 'rain', 'in the spain']\n"
     ]
    }
   ],
   "source": [
    "import re\n",
    "text=\"the rain in the spain\"\n",
    "x=re.split(\"\\s\",text,2)\n",
    "print(x)"
   ]
  },
  {
   "cell_type": "code",
   "execution_count": 37,
   "id": "35a14138",
   "metadata": {},
   "outputs": [
    {
     "name": "stdout",
     "output_type": "stream",
     "text": [
      "['the', 'rain in the spain']\n"
     ]
    }
   ],
   "source": [
    "import re\n",
    "text=\"the rain in the spain\"\n",
    "x=re.split(\"\\s\",text,1)\n",
    "print(x)"
   ]
  },
  {
   "cell_type": "code",
   "execution_count": 40,
   "id": "bab5b2c1",
   "metadata": {},
   "outputs": [
    {
     "name": "stdout",
     "output_type": "stream",
     "text": [
      "the9rain9in9in9the9spain\n"
     ]
    }
   ],
   "source": [
    "# the sub() function\n",
    "import re\n",
    "text=\"the rain in in the spain\"\n",
    "# replace all the white space characters with the digit \"9\"\n",
    "x=re.sub(\"\\s\",\"9\",text)\n",
    "print(x)"
   ]
  },
  {
   "cell_type": "code",
   "execution_count": 41,
   "id": "b0cf9bfe",
   "metadata": {},
   "outputs": [
    {
     "name": "stdout",
     "output_type": "stream",
     "text": [
      "the10rain10in10the10spain\n"
     ]
    }
   ],
   "source": [
    "import re \n",
    "text=\"the rain in the spain\"\n",
    "x=re.sub(\"\\s\",\"10\",text)\n",
    "print(x)"
   ]
  },
  {
   "cell_type": "code",
   "execution_count": 42,
   "id": "0cc3959a",
   "metadata": {},
   "outputs": [
    {
     "name": "stdout",
     "output_type": "stream",
     "text": [
      "the10rain10in the spain\n"
     ]
    }
   ],
   "source": [
    "import re\n",
    "text=\"the rain in the spain\"\n",
    "x=re.sub(\"\\s\",\"10\",text,2)\n",
    "print(x)"
   ]
  },
  {
   "cell_type": "code",
   "execution_count": 43,
   "id": "da3bf344",
   "metadata": {},
   "outputs": [
    {
     "name": "stdout",
     "output_type": "stream",
     "text": [
      "the10rain10in the spain\n"
     ]
    }
   ],
   "source": [
    "import re\n",
    "text=\"the rain in the spain\"\n",
    "x=re.sub(\"\\s\",\"10\",text,2)\n",
    "print(x)"
   ]
  },
  {
   "cell_type": "code",
   "execution_count": null,
   "id": "628caa0a",
   "metadata": {},
   "outputs": [],
   "source": []
  }
 ],
 "metadata": {
  "kernelspec": {
   "display_name": "Python 3 (ipykernel)",
   "language": "python",
   "name": "python3"
  },
  "language_info": {
   "codemirror_mode": {
    "name": "ipython",
    "version": 3
   },
   "file_extension": ".py",
   "mimetype": "text/x-python",
   "name": "python",
   "nbconvert_exporter": "python",
   "pygments_lexer": "ipython3",
   "version": "3.10.9"
  }
 },
 "nbformat": 4,
 "nbformat_minor": 5
}
