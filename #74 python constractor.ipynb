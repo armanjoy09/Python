{
 "cells": [
  {
   "cell_type": "code",
   "execution_count": 7,
   "id": "aa51fb7f",
   "metadata": {},
   "outputs": [
    {
     "name": "stdout",
     "output_type": "stream",
     "text": [
      "my name is ema and my age is 20\n"
     ]
    }
   ],
   "source": [
    "class parentinfo:\n",
    "    def eshansfamily(name,age):\n",
    "        print(f\"my name is {name} and my age is {age}\")\n",
    "parentinfo.eshansfamily(\"ema\",20)\n"
   ]
  },
  {
   "cell_type": "code",
   "execution_count": null,
   "id": "81b16e3e",
   "metadata": {},
   "outputs": [],
   "source": []
  },
  {
   "cell_type": "code",
   "execution_count": 11,
   "id": "63df0d27",
   "metadata": {},
   "outputs": [
    {
     "name": "stdout",
     "output_type": "stream",
     "text": [
      "my name is joy and my brother age is 18\n"
     ]
    }
   ],
   "source": [
    "class parentinfo:\n",
    "    def eshansfamily(self,name,age):\n",
    "        print(f\"my name is {name} and my brother age is {age}\")\n",
    "        \n",
    "p1=parentinfo()\n",
    "p1.eshansfamily(\"joy\",18)"
   ]
  },
  {
   "cell_type": "code",
   "execution_count": 18,
   "id": "a854a374",
   "metadata": {},
   "outputs": [
    {
     "name": "stdout",
     "output_type": "stream",
     "text": [
      "my name is joy and my age is 20\n"
     ]
    }
   ],
   "source": [
    "class parentinfo:\n",
    "    def joysfamily(name,age):\n",
    "        print(f\"my name is {name} and my age is {age}\")\n",
    "p1=parentinfo\n",
    "p1.joysfamily(\"joy\",20)"
   ]
  },
  {
   "cell_type": "code",
   "execution_count": 22,
   "id": "db72991c",
   "metadata": {},
   "outputs": [
    {
     "name": "stdout",
     "output_type": "stream",
     "text": [
      "my name is joy and my age is 23\n"
     ]
    }
   ],
   "source": [
    "# but when we create constraction\n",
    "class parentinfo:\n",
    "    def __init__(self,name,age):\n",
    "        print(f\"my name is {name} and my age is {age}\")\n",
    "        \n",
    "g=parentinfo(\"joy\",23)"
   ]
  },
  {
   "cell_type": "code",
   "execution_count": 25,
   "id": "fcbe0b19",
   "metadata": {},
   "outputs": [
    {
     "name": "stdout",
     "output_type": "stream",
     "text": [
      "my name is arman and my age is 23\n"
     ]
    }
   ],
   "source": [
    "class parentinfo:\n",
    "    def __init__(self,name,age):\n",
    "        print(f\"my name is {name} and my age is {age}\")\n",
    "        \n",
    "a=parentinfo(\"arman\",23)"
   ]
  },
  {
   "cell_type": "code",
   "execution_count": 27,
   "id": "5016766b",
   "metadata": {},
   "outputs": [
    {
     "name": "stdout",
     "output_type": "stream",
     "text": [
      "her name is picchi and her age is 19\n"
     ]
    }
   ],
   "source": [
    "class ishainfo:\n",
    "    def __init__(self,name,age):\n",
    "        print(f\"her name is {name} and her age is {age}\")\n",
    "p=ishainfo(\"picchi\",19)"
   ]
  },
  {
   "cell_type": "code",
   "execution_count": 36,
   "id": "186db631",
   "metadata": {},
   "outputs": [
    {
     "name": "stdout",
     "output_type": "stream",
     "text": [
      "my name is picchi and age is 19\n"
     ]
    }
   ],
   "source": [
    "class pakhiinfo:\n",
    "    def __init__(self,name,age):\n",
    "        print(f\"my name is {name} and age is {age}\")\n",
    "        \n",
    "p=pakhiinfo(\"picchi\",19)"
   ]
  },
  {
   "cell_type": "code",
   "execution_count": 1,
   "id": "06c9f01e",
   "metadata": {},
   "outputs": [
    {
     "name": "stdout",
     "output_type": "stream",
     "text": [
      "my name is picchi, & my age is 19\n"
     ]
    }
   ],
   "source": [
    "class myinfo:\n",
    "    def __init__(self,name,age):\n",
    "        print(f\"my name is {name}, & my age is {age}\")\n",
    "        \n",
    "p1=myinfo(\"picchi\",19)\n",
    "        "
   ]
  },
  {
   "cell_type": "code",
   "execution_count": 4,
   "id": "b8f76af6",
   "metadata": {},
   "outputs": [
    {
     "name": "stdout",
     "output_type": "stream",
     "text": [
      "my name is joy, and my age is 23\n"
     ]
    }
   ],
   "source": [
    "class parentinfo():\n",
    "    def joysfamily(self,name,age):\n",
    "        print(f\"my name is {name}, and my age is {age}\")\n",
    "        \n",
    "p1=parentinfo()\n",
    "p1.joysfamily(\"joy\",23)"
   ]
  },
  {
   "cell_type": "code",
   "execution_count": 9,
   "id": "5cbaefdb",
   "metadata": {},
   "outputs": [
    {
     "name": "stdout",
     "output_type": "stream",
     "text": [
      "my  name is joy, and my age is 23\n",
      "my  name is picchi, and my age is 19\n",
      "my  name is arman, and my age is 23\n"
     ]
    }
   ],
   "source": [
    "class parentinfo:\n",
    "    def joysfamily(name,age):\n",
    "        print(f\"my  name is {name}, and my age is {age}\")\n",
    "        \n",
    "p1=parentinfo\n",
    "p1.joysfamily(\"joy\",23)\n",
    "p1.joysfamily(\"picchi\",19)\n",
    "p1.joysfamily(\"arman\",23)"
   ]
  },
  {
   "cell_type": "code",
   "execution_count": 10,
   "id": "52b2826b",
   "metadata": {},
   "outputs": [
    {
     "name": "stdout",
     "output_type": "stream",
     "text": [
      "my name is joy, and my number is 23\n"
     ]
    }
   ],
   "source": [
    "class myinfo:\n",
    "    def __init__(self,name,number):\n",
    "        print(f\"my name is {name}, and my number is {number}\")\n",
    "        \n",
    "haha=myinfo(\"joy\",23)"
   ]
  },
  {
   "cell_type": "code",
   "execution_count": 13,
   "id": "a81287e7",
   "metadata": {},
   "outputs": [
    {
     "name": "stdout",
     "output_type": "stream",
     "text": [
      "my name is arman, and my number is 23\n",
      "my name is joy, and my number is 233\n",
      "my name is picchi, and my number is 19\n"
     ]
    }
   ],
   "source": [
    "class myinfo:\n",
    "    def __init__(self,name,number):\n",
    "        print(f\"my name is {name}, and my number is {number}\")\n",
    "        \n",
    "haha=myinfo(\"arman\",23)\n",
    "haha=myinfo(\"joy\",233)\n",
    "haha=myinfo(\"picchi\",19)"
   ]
  },
  {
   "cell_type": "code",
   "execution_count": null,
   "id": "52ba9375",
   "metadata": {},
   "outputs": [],
   "source": []
  }
 ],
 "metadata": {
  "kernelspec": {
   "display_name": "Python 3 (ipykernel)",
   "language": "python",
   "name": "python3"
  },
  "language_info": {
   "codemirror_mode": {
    "name": "ipython",
    "version": 3
   },
   "file_extension": ".py",
   "mimetype": "text/x-python",
   "name": "python",
   "nbconvert_exporter": "python",
   "pygments_lexer": "ipython3",
   "version": "3.10.9"
  }
 },
 "nbformat": 4,
 "nbformat_minor": 5
}
