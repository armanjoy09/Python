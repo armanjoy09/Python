{
 "cells": [
  {
   "cell_type": "code",
   "execution_count": 1,
   "id": "75fd88c9",
   "metadata": {},
   "outputs": [],
   "source": [
    "# delete file\n",
    "import os\n",
    "os.remove(\"haha.text\")"
   ]
  },
  {
   "cell_type": "code",
   "execution_count": 2,
   "id": "af213626",
   "metadata": {},
   "outputs": [],
   "source": [
    "import os\n",
    "os.remove(\"haha.txt\")"
   ]
  },
  {
   "cell_type": "code",
   "execution_count": 4,
   "id": "c98d4949",
   "metadata": {},
   "outputs": [],
   "source": [
    "import os \n",
    "os.remove(\"picchi.txt\")"
   ]
  },
  {
   "cell_type": "code",
   "execution_count": 8,
   "id": "e20cad39",
   "metadata": {},
   "outputs": [],
   "source": [
    "import os\n",
    "os.remove(\"picchi.html\")"
   ]
  },
  {
   "cell_type": "code",
   "execution_count": 9,
   "id": "a868a21e",
   "metadata": {},
   "outputs": [],
   "source": [
    "import os\n",
    "os.remove(\"isha.html\")"
   ]
  },
  {
   "cell_type": "code",
   "execution_count": 10,
   "id": "c6f725ff",
   "metadata": {},
   "outputs": [],
   "source": [
    "import os\n",
    "os.remove(\"text.txt\")"
   ]
  },
  {
   "cell_type": "code",
   "execution_count": 11,
   "id": "807121ac",
   "metadata": {},
   "outputs": [],
   "source": [
    "import os\n",
    "os.remove(\"isha.text\")"
   ]
  },
  {
   "cell_type": "code",
   "execution_count": 1,
   "id": "fb9f73ab",
   "metadata": {},
   "outputs": [],
   "source": [
    "# folder delete\n",
    "import os\n",
    "os.rmdir(\"picchi\")"
   ]
  },
  {
   "cell_type": "code",
   "execution_count": 2,
   "id": "14141bd1",
   "metadata": {},
   "outputs": [],
   "source": [
    "import os\n",
    "os.rmdir(\"armanjoy\")"
   ]
  },
  {
   "cell_type": "code",
   "execution_count": 3,
   "id": "a4f48bb0",
   "metadata": {},
   "outputs": [],
   "source": [
    "import os\n",
    "os.rmdir(\"isha pakhi\")"
   ]
  },
  {
   "cell_type": "code",
   "execution_count": null,
   "id": "a2d0b192",
   "metadata": {},
   "outputs": [],
   "source": []
  }
 ],
 "metadata": {
  "kernelspec": {
   "display_name": "Python 3 (ipykernel)",
   "language": "python",
   "name": "python3"
  },
  "language_info": {
   "codemirror_mode": {
    "name": "ipython",
    "version": 3
   },
   "file_extension": ".py",
   "mimetype": "text/x-python",
   "name": "python",
   "nbconvert_exporter": "python",
   "pygments_lexer": "ipython3",
   "version": "3.10.9"
  }
 },
 "nbformat": 4,
 "nbformat_minor": 5
}
