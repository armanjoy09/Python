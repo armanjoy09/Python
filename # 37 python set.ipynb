{
 "cells": [
  {
   "cell_type": "code",
   "execution_count": 1,
   "id": "b9a637ee",
   "metadata": {},
   "outputs": [
    {
     "name": "stdout",
     "output_type": "stream",
     "text": [
      "<class 'set'>\n"
     ]
    }
   ],
   "source": [
    "myset={\"apple\",\"banana\",\"cherry\"}\n",
    "print(type(myset))"
   ]
  },
  {
   "cell_type": "code",
   "execution_count": 4,
   "id": "cd546c39",
   "metadata": {},
   "outputs": [
    {
     "name": "stdout",
     "output_type": "stream",
     "text": [
      "{'apple', 'banana', 'cherry'}\n"
     ]
    }
   ],
   "source": [
    "# duplicates not contain\n",
    "myset={\"apple\",\"banana\",\"cherry\",\"apple\"}\n",
    "print(myset)"
   ]
  },
  {
   "cell_type": "code",
   "execution_count": 6,
   "id": "122a476b",
   "metadata": {},
   "outputs": [
    {
     "name": "stdout",
     "output_type": "stream",
     "text": [
      "{'apple', 'banana', 'cherry'}\n"
     ]
    }
   ],
   "source": [
    "print(myset)"
   ]
  },
  {
   "cell_type": "code",
   "execution_count": null,
   "id": "64e3fff8",
   "metadata": {},
   "outputs": [],
   "source": []
  },
  {
   "cell_type": "code",
   "execution_count": 7,
   "id": "bb2a5807",
   "metadata": {},
   "outputs": [
    {
     "name": "stdout",
     "output_type": "stream",
     "text": [
      "{'apple', 'banana', 'cherry'}\n"
     ]
    }
   ],
   "source": [
    "print(myset)"
   ]
  },
  {
   "cell_type": "code",
   "execution_count": 10,
   "id": "c5fb42ce",
   "metadata": {},
   "outputs": [
    {
     "name": "stdout",
     "output_type": "stream",
     "text": [
      "{0, True, 'apple', 'joy', 'banana', 'cheery'}\n"
     ]
    }
   ],
   "source": [
    "# True or 1 same and False or 0 same\n",
    "myset={\"apple\",\"banana\",\"cheery\",\"joy\",True,1,0,False}\n",
    "print(myset)"
   ]
  },
  {
   "cell_type": "code",
   "execution_count": 11,
   "id": "27e08769",
   "metadata": {},
   "outputs": [
    {
     "name": "stdout",
     "output_type": "stream",
     "text": [
      "6\n"
     ]
    }
   ],
   "source": [
    "print(len(myset))"
   ]
  },
  {
   "cell_type": "code",
   "execution_count": 12,
   "id": "8f0b32fc",
   "metadata": {},
   "outputs": [
    {
     "name": "stdout",
     "output_type": "stream",
     "text": [
      "6\n"
     ]
    }
   ],
   "source": [
    "myset={\"apple\",\"banana\",\"cheery\",\"joy\",True,1,0,False}\n",
    "print(len(myset))"
   ]
  },
  {
   "cell_type": "code",
   "execution_count": 14,
   "id": "b29b5d8d",
   "metadata": {},
   "outputs": [
    {
     "name": "stdout",
     "output_type": "stream",
     "text": [
      "{'apple', 'banana', 'cheery'}\n"
     ]
    }
   ],
   "source": [
    "myset=(\"apple\",\"banana\",\"cheery\")\n",
    "y=set(myset)\n",
    "print(y)"
   ]
  },
  {
   "cell_type": "code",
   "execution_count": 1,
   "id": "592a54d5",
   "metadata": {},
   "outputs": [
    {
     "name": "stdout",
     "output_type": "stream",
     "text": [
      "<class 'set'>\n"
     ]
    }
   ],
   "source": [
    "myset={\"arman\",\"joy\",\"nehal\",\"arhan\",\"nehal\"}\n",
    "print(type(myset))"
   ]
  },
  {
   "cell_type": "code",
   "execution_count": 2,
   "id": "0d5af052",
   "metadata": {},
   "outputs": [
    {
     "name": "stdout",
     "output_type": "stream",
     "text": [
      "{'arman', 'joy', 'arhan', 'nehal'}\n"
     ]
    }
   ],
   "source": [
    "print(myset) #set don't allowed dupplicates"
   ]
  },
  {
   "cell_type": "code",
   "execution_count": 3,
   "id": "fb7ac0bf",
   "metadata": {},
   "outputs": [
    {
     "name": "stdout",
     "output_type": "stream",
     "text": [
      "{'arman', 'joy', 'arhan', 'nehal'}\n"
     ]
    }
   ],
   "source": [
    "print(myset)"
   ]
  },
  {
   "cell_type": "code",
   "execution_count": 4,
   "id": "70b1d53a",
   "metadata": {},
   "outputs": [
    {
     "name": "stdout",
     "output_type": "stream",
     "text": [
      "{'arman', 'joy', 'arhan', 'nehal'}\n"
     ]
    }
   ],
   "source": [
    "print(myset)"
   ]
  },
  {
   "cell_type": "code",
   "execution_count": 5,
   "id": "2d63091d",
   "metadata": {},
   "outputs": [
    {
     "name": "stdout",
     "output_type": "stream",
     "text": [
      "{'arman', 'joy', 'arhan', 'nehal'}\n"
     ]
    }
   ],
   "source": [
    "print(myset)"
   ]
  },
  {
   "cell_type": "code",
   "execution_count": 6,
   "id": "5057697a",
   "metadata": {},
   "outputs": [
    {
     "name": "stdout",
     "output_type": "stream",
     "text": [
      "{'arman', 'joy', 'arhan', 'nehal'}\n"
     ]
    }
   ],
   "source": [
    "myset={'arman', 'joy', 'arhan', 'nehal'}\n",
    "print(myset)"
   ]
  },
  {
   "cell_type": "code",
   "execution_count": 7,
   "id": "46fcc147",
   "metadata": {},
   "outputs": [
    {
     "name": "stdout",
     "output_type": "stream",
     "text": [
      "{'kiwi', 'mango', 'banana', 'cherry'}\n"
     ]
    }
   ],
   "source": [
    "fruits={\"banana\",\"cherry\",\"kiwi\",\"mango\"}\n",
    "print(fruits)  #sets are unordered"
   ]
  },
  {
   "cell_type": "code",
   "execution_count": 8,
   "id": "b3ee7978",
   "metadata": {},
   "outputs": [
    {
     "name": "stdout",
     "output_type": "stream",
     "text": [
      "{0, True, 'kiwi', 'banana', 'mango', 'cherry'}\n"
     ]
    }
   ],
   "source": [
    "myset={\"banana\",\"cherry\",\"kiwi\",\"mango\",True,0,1,False}\n",
    "print(myset)   #True and 1 is the same in set also False and 0,thats why its counts a duplicate item"
   ]
  },
  {
   "cell_type": "code",
   "execution_count": 9,
   "id": "22b55099",
   "metadata": {},
   "outputs": [
    {
     "name": "stdout",
     "output_type": "stream",
     "text": [
      "7\n"
     ]
    }
   ],
   "source": [
    "myset={\"apple\",\"banana\",\"cherry\",\"mango\",\"kiwi\",True,0}\n",
    "print(len(myset))  #to see how many items in the set  use len() function"
   ]
  },
  {
   "cell_type": "code",
   "execution_count": 10,
   "id": "7fa3c017",
   "metadata": {},
   "outputs": [
    {
     "name": "stdout",
     "output_type": "stream",
     "text": [
      "{0, True, '40', 'abc', 'arman', 30}\n"
     ]
    }
   ],
   "source": [
    "myset={\"abc\",\"40\",\"arman\",True,0,1,30}\n",
    "print(myset)"
   ]
  },
  {
   "cell_type": "code",
   "execution_count": 11,
   "id": "1880746b",
   "metadata": {},
   "outputs": [
    {
     "name": "stdout",
     "output_type": "stream",
     "text": [
      "{'pritam', 'arman', 'joy', 'nehal'}\n"
     ]
    }
   ],
   "source": [
    "mytuple=(\"arman\",\"joy\",\"nehal\",\"pritam\")\n",
    "print(set(mytuple))  #set constructor"
   ]
  },
  {
   "cell_type": "code",
   "execution_count": 12,
   "id": "f82c6248",
   "metadata": {},
   "outputs": [
    {
     "name": "stdout",
     "output_type": "stream",
     "text": [
      "<class 'set'>\n"
     ]
    }
   ],
   "source": [
    "myset={\"arman\",\"joy\",\"nrhal\"}\n",
    "print(type(myset))"
   ]
  },
  {
   "cell_type": "code",
   "execution_count": 13,
   "id": "ca39b42a",
   "metadata": {},
   "outputs": [
    {
     "name": "stdout",
     "output_type": "stream",
     "text": [
      "{False, True, 'nehal', 495, 49, 'arman', 'koli', 29}\n"
     ]
    }
   ],
   "source": [
    "myset={29,49,495,\"arman\",\"koli\",\"nehal\",True,False}\n",
    "print(myset)"
   ]
  },
  {
   "cell_type": "code",
   "execution_count": 16,
   "id": "954acb4b",
   "metadata": {},
   "outputs": [
    {
     "name": "stdout",
     "output_type": "stream",
     "text": [
      "{False, True, 'nehal', 495, 49, 'arman', 'koli', 29}\n"
     ]
    }
   ],
   "source": [
    "myset={29,49,495,\"arman\",\"koli\",\"nehal\",True,False,0,1,\"arman\"}\n",
    "print(myset)"
   ]
  },
  {
   "cell_type": "code",
   "execution_count": 17,
   "id": "71af9e8f",
   "metadata": {},
   "outputs": [
    {
     "name": "stdout",
     "output_type": "stream",
     "text": [
      "8\n"
     ]
    }
   ],
   "source": [
    "print(len(myset))"
   ]
  },
  {
   "cell_type": "code",
   "execution_count": 18,
   "id": "c01c46ae",
   "metadata": {},
   "outputs": [
    {
     "name": "stdout",
     "output_type": "stream",
     "text": [
      "{'pritam', 'arman', 'joy', 'nehal'}\n"
     ]
    }
   ],
   "source": [
    "yourtuple=(\"arman\",\"joy\",\"nehal\",\"pritam\")\n",
    "print(set(yourtuple))"
   ]
  },
  {
   "cell_type": "code",
   "execution_count": null,
   "id": "75ab98d9",
   "metadata": {},
   "outputs": [],
   "source": []
  }
 ],
 "metadata": {
  "kernelspec": {
   "display_name": "Python 3 (ipykernel)",
   "language": "python",
   "name": "python3"
  },
  "language_info": {
   "codemirror_mode": {
    "name": "ipython",
    "version": 3
   },
   "file_extension": ".py",
   "mimetype": "text/x-python",
   "name": "python",
   "nbconvert_exporter": "python",
   "pygments_lexer": "ipython3",
   "version": "3.10.9"
  }
 },
 "nbformat": 4,
 "nbformat_minor": 5
}
