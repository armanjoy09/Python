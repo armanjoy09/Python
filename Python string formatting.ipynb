{
 "cells": [
  {
   "cell_type": "code",
   "execution_count": 4,
   "id": "fada17cc",
   "metadata": {},
   "outputs": [
    {
     "name": "stdout",
     "output_type": "stream",
     "text": [
      "My name is joy\n"
     ]
    }
   ],
   "source": [
    "# string type data \n",
    "hablu=\"imad\"\n",
    "myname=\"joy\"\n",
    "print(\"My name is\"+ ' ' +myname)"
   ]
  },
  {
   "cell_type": "code",
   "execution_count": 6,
   "id": "6f24e2c6",
   "metadata": {},
   "outputs": [
    {
     "name": "stdout",
     "output_type": "stream",
     "text": [
      "my friend is tina\n"
     ]
    }
   ],
   "source": [
    "# string type data \n",
    "x=\"tina\"\n",
    "y=\"dina\"\n",
    "print(\"my friend is\"+' '+x )"
   ]
  },
  {
   "cell_type": "code",
   "execution_count": 9,
   "id": "e7252da3",
   "metadata": {},
   "outputs": [
    {
     "name": "stdout",
     "output_type": "stream",
     "text": [
      "this my super number 70\n"
     ]
    }
   ],
   "source": [
    "num1=30\n",
    "num2=40\n",
    "print(f\"this my super number {num1+num2}\")"
   ]
  },
  {
   "cell_type": "code",
   "execution_count": 10,
   "id": "0dd22ecd",
   "metadata": {},
   "outputs": [
    {
     "name": "stdout",
     "output_type": "stream",
     "text": [
      "this is my super number 70\n"
     ]
    }
   ],
   "source": [
    "x=30\n",
    "y=40\n",
    "print(f\"this is my super number {x+y}\")"
   ]
  },
  {
   "cell_type": "code",
   "execution_count": 18,
   "id": "b4550b30",
   "metadata": {},
   "outputs": [
    {
     "name": "stdout",
     "output_type": "stream",
     "text": [
      "this is my number 93 & this is my roll 50\n"
     ]
    }
   ],
   "source": [
    "num1=39\n",
    "num2=54\n",
    "roll=50\n",
    "print(f\"this is my number {num1+num2} & this is my roll {roll}\")"
   ]
  },
  {
   "cell_type": "code",
   "execution_count": 21,
   "id": "70072d9d",
   "metadata": {},
   "outputs": [
    {
     "name": "stdout",
     "output_type": "stream",
     "text": [
      "this is my super number 90 & this is my roll 18\n"
     ]
    }
   ],
   "source": [
    "num1=40\n",
    "num2=50\n",
    "myroll=18\n",
    "print(f\"this is my super number {num1+num2} & this is my roll {myroll}\")"
   ]
  },
  {
   "cell_type": "code",
   "execution_count": 29,
   "id": "8830f368",
   "metadata": {},
   "outputs": [
    {
     "name": "stdout",
     "output_type": "stream",
     "text": [
      "this is my super number 70\n"
     ]
    }
   ],
   "source": [
    "num1=30\n",
    "num2=40\n",
    "roll=50\n",
    "print(\"this is my super number\",num1+num2)  #string er baire jawa lagtce"
   ]
  },
  {
   "cell_type": "code",
   "execution_count": 26,
   "id": "6a2c9026",
   "metadata": {},
   "outputs": [
    {
     "ename": "TypeError",
     "evalue": "unsupported operand type(s) for &: 'str' and 'str'",
     "output_type": "error",
     "traceback": [
      "\u001b[1;31m---------------------------------------------------------------------------\u001b[0m",
      "\u001b[1;31mTypeError\u001b[0m                                 Traceback (most recent call last)",
      "Cell \u001b[1;32mIn[26], line 3\u001b[0m\n\u001b[0;32m      1\u001b[0m username\u001b[38;5;241m=\u001b[39m\u001b[38;5;124m\"\u001b[39m\u001b[38;5;124mjoy\u001b[39m\u001b[38;5;124m\"\u001b[39m\n\u001b[0;32m      2\u001b[0m roll\u001b[38;5;241m=\u001b[39m\u001b[38;5;241m39\u001b[39m\n\u001b[1;32m----> 3\u001b[0m \u001b[38;5;28mprint\u001b[39m(\u001b[38;5;124;43mf\u001b[39;49m\u001b[38;5;124;43m\"\u001b[39;49m\u001b[38;5;124;43mthis is my name\u001b[39;49m\u001b[38;5;124;43m\"\u001b[39;49m\u001b[38;5;241;43m+\u001b[39;49m\u001b[38;5;124;43m\"\u001b[39;49m\u001b[38;5;124;43musername\u001b[39;49m\u001b[38;5;124;43m\"\u001b[39;49m\u001b[43m \u001b[49m\u001b[38;5;241;43m&\u001b[39;49m\u001b[43m \u001b[49m\u001b[38;5;124;43m\"\u001b[39;49m\u001b[38;5;124;43mthis is my roll\u001b[39;49m\u001b[38;5;124;43m\"\u001b[39;49m\u001b[38;5;241;43m+\u001b[39;49m\u001b[38;5;124;43m\"\u001b[39;49m\u001b[38;5;124;43mroll\u001b[39;49m\u001b[38;5;124;43m\"\u001b[39;49m)\n",
      "\u001b[1;31mTypeError\u001b[0m: unsupported operand type(s) for &: 'str' and 'str'"
     ]
    }
   ],
   "source": [
    "username=\"joy\"\n",
    "roll=39\n",
    "print(f\"this is my name\"+\"username\" & \"this is my roll\"+\"roll\")"
   ]
  },
  {
   "cell_type": "code",
   "execution_count": 28,
   "id": "4aaea7b8",
   "metadata": {},
   "outputs": [
    {
     "name": "stdout",
     "output_type": "stream",
     "text": [
      "this is my name joy & this is my roll 20\n"
     ]
    }
   ],
   "source": [
    "username=\"joy\"\n",
    "roll=20\n",
    "print(f\"this is my name {username} & this is my roll {roll}\")"
   ]
  },
  {
   "cell_type": "code",
   "execution_count": 4,
   "id": "3b8562c0",
   "metadata": {},
   "outputs": [
    {
     "name": "stdout",
     "output_type": "stream",
     "text": [
      "this my super number 60 & this is my rollnumber 2029018\n"
     ]
    }
   ],
   "source": [
    "num1=20\n",
    "num2=40\n",
    "roll=2029018\n",
    "print(f\"this my super number {num1+num2} & this is my rollnumber {roll}\")"
   ]
  },
  {
   "cell_type": "markdown",
   "id": "f1b045f6",
   "metadata": {},
   "source": []
  },
  {
   "cell_type": "code",
   "execution_count": 7,
   "id": "a373d2a0",
   "metadata": {},
   "outputs": [
    {
     "name": "stdout",
     "output_type": "stream",
     "text": [
      "this is my super number 100 & this is my roll number 2029018\n"
     ]
    }
   ],
   "source": [
    "num1=100\n",
    "num2=500\n",
    "print(f\"this is my super number {num1} & this is my roll number {roll}\")"
   ]
  },
  {
   "cell_type": "code",
   "execution_count": 8,
   "id": "bca36070",
   "metadata": {},
   "outputs": [
    {
     "name": "stdout",
     "output_type": "stream",
     "text": [
      "this is my super number 80\n"
     ]
    }
   ],
   "source": [
    "num1=30\n",
    "num2=50\n",
    "print(\"this is my super number\",num1+num2)  # f aviod korte caile"
   ]
  },
  {
   "cell_type": "code",
   "execution_count": 9,
   "id": "750e0116",
   "metadata": {},
   "outputs": [
    {
     "name": "stdout",
     "output_type": "stream",
     "text": [
      "this is my super number 500 & this is my roll 2029018\n"
     ]
    }
   ],
   "source": [
    "num1=200\n",
    "num2=300\n",
    "roll=2029018\n",
    "print(f\"this is my super number {num1+num2} & this is my roll {roll}\") #akta string er bitore e hoye gece ,atai subida"
   ]
  },
  {
   "cell_type": "code",
   "execution_count": null,
   "id": "87469f7f",
   "metadata": {},
   "outputs": [],
   "source": []
  }
 ],
 "metadata": {
  "kernelspec": {
   "display_name": "Python 3 (ipykernel)",
   "language": "python",
   "name": "python3"
  },
  "language_info": {
   "codemirror_mode": {
    "name": "ipython",
    "version": 3
   },
   "file_extension": ".py",
   "mimetype": "text/x-python",
   "name": "python",
   "nbconvert_exporter": "python",
   "pygments_lexer": "ipython3",
   "version": "3.10.9"
  }
 },
 "nbformat": 4,
 "nbformat_minor": 5
}
