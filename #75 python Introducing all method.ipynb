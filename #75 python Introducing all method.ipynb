{
 "cells": [
  {
   "cell_type": "code",
   "execution_count": 4,
   "id": "d3432480",
   "metadata": {},
   "outputs": [
    {
     "ename": "AttributeError",
     "evalue": "'className' object has no attribute 'classmethod'",
     "output_type": "error",
     "traceback": [
      "\u001b[1;31m---------------------------------------------------------------------------\u001b[0m",
      "\u001b[1;31mAttributeError\u001b[0m                            Traceback (most recent call last)",
      "Cell \u001b[1;32mIn[4], line 9\u001b[0m\n\u001b[0;32m      5\u001b[0m         \u001b[38;5;129m@classmethod\u001b[39m\n\u001b[0;32m      6\u001b[0m         \u001b[38;5;28;01mdef\u001b[39;00m \u001b[38;5;21mclassmethod\u001b[39m(\u001b[38;5;28mcls\u001b[39m):\n\u001b[0;32m      7\u001b[0m             \u001b[38;5;28mprint\u001b[39m(\u001b[38;5;124m\"\u001b[39m\u001b[38;5;124mthis is class method\u001b[39m\u001b[38;5;124m\"\u001b[39m)\n\u001b[1;32m----> 9\u001b[0m \u001b[43mph\u001b[49m\u001b[38;5;241;43m.\u001b[39;49m\u001b[43mclassmethod\u001b[49m()\n",
      "\u001b[1;31mAttributeError\u001b[0m: 'className' object has no attribute 'classmethod'"
     ]
    }
   ],
   "source": [
    "class className:\n",
    "    def InstanceMethod(self):\n",
    "        print(\"this is a Instances Method\")\n",
    "        \n",
    "    "
   ]
  },
  {
   "cell_type": "code",
   "execution_count": null,
   "id": "925b952e",
   "metadata": {},
   "outputs": [],
   "source": []
  }
 ],
 "metadata": {
  "kernelspec": {
   "display_name": "Python 3 (ipykernel)",
   "language": "python",
   "name": "python3"
  },
  "language_info": {
   "codemirror_mode": {
    "name": "ipython",
    "version": 3
   },
   "file_extension": ".py",
   "mimetype": "text/x-python",
   "name": "python",
   "nbconvert_exporter": "python",
   "pygments_lexer": "ipython3",
   "version": "3.10.9"
  }
 },
 "nbformat": 4,
 "nbformat_minor": 5
}
