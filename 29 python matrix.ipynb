{
 "cells": [
  {
   "cell_type": "code",
   "execution_count": 3,
   "id": "7fd66b88",
   "metadata": {},
   "outputs": [
    {
     "name": "stdout",
     "output_type": "stream",
     "text": [
      "monir\n"
     ]
    }
   ],
   "source": [
    "list=[['joy','monir','masum'],[2,3,4,5],8]\n",
    "print(list[0][1])"
   ]
  },
  {
   "cell_type": "code",
   "execution_count": 4,
   "id": "2067ddcb",
   "metadata": {},
   "outputs": [
    {
     "name": "stdout",
     "output_type": "stream",
     "text": [
      "455\n"
     ]
    }
   ],
   "source": [
    "list=[['aman','banam','kanam'],[2,3,455,6],[4,7,9],9]\n",
    "print(list[1][2])"
   ]
  },
  {
   "cell_type": "code",
   "execution_count": 14,
   "id": "39be265a",
   "metadata": {},
   "outputs": [
    {
     "name": "stdout",
     "output_type": "stream",
     "text": [
      "nehal\n"
     ]
    }
   ],
   "source": [
    "mylist=[[\"arman\",\"joy\",\"nehal\",23,45],304,500,[2,5,67]]\n",
    "print(mylist[0][2])"
   ]
  },
  {
   "cell_type": "code",
   "execution_count": 15,
   "id": "3a524e22",
   "metadata": {},
   "outputs": [
    {
     "name": "stdout",
     "output_type": "stream",
     "text": [
      "500\n"
     ]
    }
   ],
   "source": [
    "mylist=[[\"arman\",\"joy\",\"nehal\",100,300],\"joya\",300,500,[\"pritam\",\"arhan\",2000]]\n",
    "print(mylist[3])"
   ]
  },
  {
   "cell_type": "code",
   "execution_count": 17,
   "id": "ccc7e059",
   "metadata": {},
   "outputs": [
    {
     "name": "stdout",
     "output_type": "stream",
     "text": [
      "arhan\n"
     ]
    }
   ],
   "source": [
    "mylist=[[\"arman\",\"joy\",\"nehal\",100,300],\"joya\",300,500,[\"pritam\",\"arhan\",2000]]\n",
    "print(mylist[4][1])"
   ]
  },
  {
   "cell_type": "code",
   "execution_count": 18,
   "id": "3c3c86e9",
   "metadata": {},
   "outputs": [
    {
     "name": "stdout",
     "output_type": "stream",
     "text": [
      "2000\n"
     ]
    }
   ],
   "source": [
    "print(mylist[4][2])"
   ]
  },
  {
   "cell_type": "code",
   "execution_count": null,
   "id": "4cba8afa",
   "metadata": {},
   "outputs": [],
   "source": []
  }
 ],
 "metadata": {
  "kernelspec": {
   "display_name": "Python 3 (ipykernel)",
   "language": "python",
   "name": "python3"
  },
  "language_info": {
   "codemirror_mode": {
    "name": "ipython",
    "version": 3
   },
   "file_extension": ".py",
   "mimetype": "text/x-python",
   "name": "python",
   "nbconvert_exporter": "python",
   "pygments_lexer": "ipython3",
   "version": "3.10.9"
  }
 },
 "nbformat": 4,
 "nbformat_minor": 5
}
