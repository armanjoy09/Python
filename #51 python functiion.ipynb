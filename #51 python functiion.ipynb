{
 "cells": [
  {
   "cell_type": "code",
   "execution_count": 5,
   "id": "4e06be33",
   "metadata": {},
   "outputs": [
    {
     "name": "stdout",
     "output_type": "stream",
     "text": [
      "my name is Arman\n",
      "my fevarite subject is BME\n"
     ]
    }
   ],
   "source": [
    "def my_function(name,subject):\n",
    " print(f\"my name is {name}\")\n",
    " print(f\"my fevarite subject is {subject}\")\n",
    "my_function(\"Arman\",\"BME\")"
   ]
  },
  {
   "cell_type": "code",
   "execution_count": 6,
   "id": "fb843fc6",
   "metadata": {},
   "outputs": [
    {
     "name": "stdout",
     "output_type": "stream",
     "text": [
      "50\n"
     ]
    }
   ],
   "source": [
    "def my_function(a,b):\n",
    "    sum=a+b\n",
    "    print(sum)\n",
    "my_function(20,30)"
   ]
  },
  {
   "cell_type": "code",
   "execution_count": 7,
   "id": "a35392bf",
   "metadata": {},
   "outputs": [
    {
     "name": "stdout",
     "output_type": "stream",
     "text": [
      "60\n"
     ]
    }
   ],
   "source": [
    "def my_function(a,b,c):\n",
    "    sum=a+b+c\n",
    "    print(sum)\n",
    "my_function(10,20,30)"
   ]
  },
  {
   "cell_type": "code",
   "execution_count": 9,
   "id": "737c82d4",
   "metadata": {},
   "outputs": [
    {
     "name": "stdout",
     "output_type": "stream",
     "text": [
      "100\n"
     ]
    }
   ],
   "source": [
    "def my_function(a,b,c,d):\n",
    "    sum=a+b+c+d\n",
    "    print(sum)\n",
    "my_function(10,20,30,40)"
   ]
  },
  {
   "cell_type": "code",
   "execution_count": 10,
   "id": "c283b7eb",
   "metadata": {},
   "outputs": [
    {
     "name": "stdout",
     "output_type": "stream",
     "text": [
      "-80\n"
     ]
    }
   ],
   "source": [
    "def my_function(a,b,c,d):\n",
    "    minus=a-b-c-d\n",
    "    print(minus)\n",
    "my_function(10,20,30,40)"
   ]
  },
  {
   "cell_type": "code",
   "execution_count": 11,
   "id": "8e22b99c",
   "metadata": {},
   "outputs": [
    {
     "name": "stdout",
     "output_type": "stream",
     "text": [
      "240000\n"
     ]
    }
   ],
   "source": [
    "def my_function(a,b,c,d):\n",
    "    multiply=a*b*c*d\n",
    "    print(multiply)\n",
    "my_function(10,20,30,40)"
   ]
  },
  {
   "cell_type": "code",
   "execution_count": 12,
   "id": "a4154c07",
   "metadata": {},
   "outputs": [
    {
     "name": "stdout",
     "output_type": "stream",
     "text": [
      "0.000125\n"
     ]
    }
   ],
   "source": [
    "def my_function(a,b,c,d):\n",
    "    division=a/b/c/d\n",
    "    print(division)\n",
    "my_function(300,400,30,200)"
   ]
  },
  {
   "cell_type": "code",
   "execution_count": 13,
   "id": "cee46c3d",
   "metadata": {},
   "outputs": [
    {
     "name": "stdout",
     "output_type": "stream",
     "text": [
      "hello from a function\n"
     ]
    }
   ],
   "source": [
    "def my_function():\n",
    "    print(\"hello from a function\")\n",
    "my_function()\n",
    "    "
   ]
  },
  {
   "cell_type": "code",
   "execution_count": 19,
   "id": "edb5e404",
   "metadata": {},
   "outputs": [
    {
     "name": "stdout",
     "output_type": "stream",
     "text": [
      "emil refsnes\n",
      "tobias refsnes\n",
      "linus refsnes\n"
     ]
    }
   ],
   "source": [
    "def my_function(fname):\n",
    "    print(fname + \" refsnes\")\n",
    "my_function(\"emil\")\n",
    "my_function(\"tobias\")\n",
    "my_function(\"linus\")"
   ]
  },
  {
   "cell_type": "code",
   "execution_count": null,
   "id": "d01df623",
   "metadata": {},
   "outputs": [],
   "source": []
  },
  {
   "cell_type": "code",
   "execution_count": 20,
   "id": "aeb039af",
   "metadata": {},
   "outputs": [
    {
     "name": "stdout",
     "output_type": "stream",
     "text": [
      "emil renses\n"
     ]
    }
   ],
   "source": [
    "def my_function(fname):\n",
    "    print(fname + \" renses\")\n",
    "my_function(\"emil\")"
   ]
  },
  {
   "cell_type": "code",
   "execution_count": 23,
   "id": "eea4c574",
   "metadata": {},
   "outputs": [
    {
     "name": "stdout",
     "output_type": "stream",
     "text": [
      "my name is {name}\n"
     ]
    }
   ],
   "source": [
    "def my_function(fname):\n",
    "    print(\"my name is {name}\")\n",
    "my_function(\"khan\")"
   ]
  },
  {
   "cell_type": "code",
   "execution_count": 24,
   "id": "822fa4a7",
   "metadata": {},
   "outputs": [
    {
     "name": "stdout",
     "output_type": "stream",
     "text": [
      "my name is Arman\n",
      "my subject name is biomedical\n",
      "my dept is engineering\n"
     ]
    }
   ],
   "source": [
    "# sob ceye sundur upay\n",
    "def my_function(fname,fsubject,fdept):\n",
    "    print(\"my name is \" +fname)\n",
    "    print(\"my subject name is \"+fsubject)\n",
    "    print(\"my dept is \"+fdept)\n",
    "my_function(\"Arman\",\"biomedical\",\"engineering\")"
   ]
  },
  {
   "cell_type": "code",
   "execution_count": 26,
   "id": "8997c191",
   "metadata": {},
   "outputs": [
    {
     "name": "stdout",
     "output_type": "stream",
     "text": [
      "my name is arman and my subject is biomedical engineering and i am studying in islamic university\n"
     ]
    }
   ],
   "source": [
    "# ata o dekhte hobe valo kore\n",
    "def my_function(fname,fsubject,funiversity):\n",
    "  print(f\"my name is {fname} and my subject is {fsubject} and i am studying in {funiversity}\")  \n",
    "my_function(\"arman\",\"biomedical engineering\",\"islamic university\")"
   ]
  },
  {
   "cell_type": "code",
   "execution_count": 28,
   "id": "d9269c4e",
   "metadata": {},
   "outputs": [
    {
     "name": "stdout",
     "output_type": "stream",
     "text": [
      "arman joy\n"
     ]
    }
   ],
   "source": [
    "def my_function(fname,lname):\n",
    "    print(fname+\" \"+lname)\n",
    "my_function(\"arman\",\"joy\")\n",
    "    "
   ]
  },
  {
   "cell_type": "code",
   "execution_count": 35,
   "id": "99371206",
   "metadata": {},
   "outputs": [
    {
     "name": "stdout",
     "output_type": "stream",
     "text": [
      "arman joy\n"
     ]
    }
   ],
   "source": [
    "def my_function(fname,lname):\n",
    "    print(fname+\" \"+lname)\n",
    "my_function(\"arman\",\"joy\")"
   ]
  },
  {
   "cell_type": "code",
   "execution_count": 41,
   "id": "279b6b70",
   "metadata": {},
   "outputs": [
    {
     "name": "stdout",
     "output_type": "stream",
     "text": [
      "hi jenny\n",
      "is your department cs?\n"
     ]
    }
   ],
   "source": [
    "def my_function(fname,fdept):\n",
    "    print(\"hi \"+fname)\n",
    "    print(\"is your department \"+fdept+\"?\")\n",
    "my_function(\"jenny\",\"cs\")"
   ]
  },
  {
   "cell_type": "code",
   "execution_count": 45,
   "id": "87a73c4e",
   "metadata": {},
   "outputs": [
    {
     "name": "stdout",
     "output_type": "stream",
     "text": [
      "hi jenny\n",
      "are you from CS?\n"
     ]
    }
   ],
   "source": [
    "def my_function(name,dept):\n",
    "    print(f\"hi {name}\")\n",
    "    print(f\"are you from {dept}?\")\n",
    "my_function(\"jenny\",\"CS\")"
   ]
  },
  {
   "cell_type": "code",
   "execution_count": 46,
   "id": "fdb91862",
   "metadata": {},
   "outputs": [
    {
     "name": "stdout",
     "output_type": "stream",
     "text": [
      "hi jenny\n",
      "are you from cs department?\n"
     ]
    }
   ],
   "source": [
    "def my_function(name,dept):\n",
    "    print(f\"hi {name}\")\n",
    "    print(f\"are you from {dept} department?\")\n",
    "my_function(name=\"jenny\",dept=\"cs\")"
   ]
  },
  {
   "cell_type": "code",
   "execution_count": 47,
   "id": "54744e5d",
   "metadata": {},
   "outputs": [
    {
     "ename": "SyntaxError",
     "evalue": "positional argument follows keyword argument (3051960676.py, line 4)",
     "output_type": "error",
     "traceback": [
      "\u001b[1;36m  Cell \u001b[1;32mIn[47], line 4\u001b[1;36m\u001b[0m\n\u001b[1;33m    my_function(name=\"jenny\",\"cs\")\u001b[0m\n\u001b[1;37m                                 ^\u001b[0m\n\u001b[1;31mSyntaxError\u001b[0m\u001b[1;31m:\u001b[0m positional argument follows keyword argument\n"
     ]
    }
   ],
   "source": [
    "def my_function(name,dept):\n",
    "    print(f\"hi {name}\")\n",
    "    print(f\"are you from {dept} department?\")\n",
    "my_function(name=\"jenny\",\"cs\")"
   ]
  },
  {
   "cell_type": "code",
   "execution_count": 50,
   "id": "c20f4836",
   "metadata": {},
   "outputs": [
    {
     "name": "stdout",
     "output_type": "stream",
     "text": [
      "hi jenny\n",
      "are you from cs department?\n"
     ]
    }
   ],
   "source": [
    "def my_function(name,dept):\n",
    "    print(\"hi \"+name)\n",
    "    print(f\"are you from {dept} department?\")\n",
    "my_function(\"jenny\",dept=\"cs\")"
   ]
  },
  {
   "cell_type": "code",
   "execution_count": 53,
   "id": "7638df14",
   "metadata": {},
   "outputs": [
    {
     "name": "stdout",
     "output_type": "stream",
     "text": [
      "hi {name}\n",
      "are you from cs department?\n"
     ]
    }
   ],
   "source": [
    "def my_function(name,dept=\"cs\"):\n",
    "    print(\"hi {name}\")\n",
    "    print(f\"are you from {dept} department?\")\n",
    "my_function(\"honery\")"
   ]
  },
  {
   "cell_type": "code",
   "execution_count": 59,
   "id": "5259f35e",
   "metadata": {},
   "outputs": [
    {
     "name": "stdout",
     "output_type": "stream",
     "text": [
      "hi jenny\n",
      "do you teach python\n",
      "are you from cse department?\n"
     ]
    }
   ],
   "source": [
    "def my_function(name,subject,dept=\"cse\"):\n",
    "    print(f\"hi {name}\")\n",
    "    print(f\"do you teach {subject}\")\n",
    "    print(f\"are you from {dept} department?\")\n",
    "my_function(\"jenny\",\"python\")"
   ]
  },
  {
   "cell_type": "code",
   "execution_count": 61,
   "id": "e7022a12",
   "metadata": {},
   "outputs": [
    {
     "name": "stdout",
     "output_type": "stream",
     "text": [
      "hi jenny\n",
      "do you teach haha\n",
      "are you from cse department?\n"
     ]
    }
   ],
   "source": [
    "my_function(\"jenny\",\"haha\")"
   ]
  },
  {
   "cell_type": "code",
   "execution_count": 62,
   "id": "ce37ad17",
   "metadata": {},
   "outputs": [
    {
     "ename": "TypeError",
     "evalue": "my_function() missing 1 required positional argument: 'subject'",
     "output_type": "error",
     "traceback": [
      "\u001b[1;31m---------------------------------------------------------------------------\u001b[0m",
      "\u001b[1;31mTypeError\u001b[0m                                 Traceback (most recent call last)",
      "Cell \u001b[1;32mIn[62], line 1\u001b[0m\n\u001b[1;32m----> 1\u001b[0m \u001b[43mmy_function\u001b[49m\u001b[43m(\u001b[49m\u001b[38;5;124;43m\"\u001b[39;49m\u001b[38;5;124;43mjenny\u001b[39;49m\u001b[38;5;124;43m\"\u001b[39;49m\u001b[43m)\u001b[49m\n",
      "\u001b[1;31mTypeError\u001b[0m: my_function() missing 1 required positional argument: 'subject'"
     ]
    }
   ],
   "source": [
    "my_function(\"jenny\")"
   ]
  },
  {
   "cell_type": "code",
   "execution_count": 63,
   "id": "54fe3034",
   "metadata": {},
   "outputs": [
    {
     "ename": "SyntaxError",
     "evalue": "non-default argument follows default argument (1453675095.py, line 1)",
     "output_type": "error",
     "traceback": [
      "\u001b[1;36m  Cell \u001b[1;32mIn[63], line 1\u001b[1;36m\u001b[0m\n\u001b[1;33m    def my_function(name,dept=\"cse\",suject):\u001b[0m\n\u001b[1;37m                                    ^\u001b[0m\n\u001b[1;31mSyntaxError\u001b[0m\u001b[1;31m:\u001b[0m non-default argument follows default argument\n"
     ]
    }
   ],
   "source": [
    "def my_function(name,dept=\"cse\",suject):\n",
    "    print(f\"hi {name}\")\n",
    "    print(f\"are you from {dept} department?\")\n",
    "    print(f\"do you teach {subject}?\")\n",
    "    my_function(\"jenny\",\"bme\",\"paython\")"
   ]
  },
  {
   "cell_type": "code",
   "execution_count": 66,
   "id": "913bf935",
   "metadata": {},
   "outputs": [
    {
     "name": "stdout",
     "output_type": "stream",
     "text": [
      "hi jenny\n",
      "are you from BME department?\n",
      "do you teach python?\n"
     ]
    }
   ],
   "source": [
    "# defalt argument follows non default argument\n",
    "def my_function(name,subject,dept=\"cse\"):\n",
    "    print(f\"hi {name}\")\n",
    "    print(f\"are you from {dept} department?\")\n",
    "    print(f\"do you teach {subject}?\")\n",
    "my_function(\"jenny\",\"python\",\"BME\")"
   ]
  },
  {
   "cell_type": "code",
   "execution_count": 3,
   "id": "c3f5e9b2",
   "metadata": {},
   "outputs": [
    {
     "name": "stdout",
     "output_type": "stream",
     "text": [
      "first child is lina\n"
     ]
    }
   ],
   "source": [
    "# arbitrary argument(*args)\n",
    "def my_function(*kids):\n",
    "    print(\"first child is \"+kids[2])\n",
    "my_function(\"toma\",\"juma\",\"lina\")\n",
    "    "
   ]
  },
  {
   "cell_type": "code",
   "execution_count": 7,
   "id": "c61bd46a",
   "metadata": {},
   "outputs": [
    {
     "name": "stdout",
     "output_type": "stream",
     "text": [
      "her last name is akter\n"
     ]
    }
   ],
   "source": [
    "# arbitrary keyword argument(**kwargs)\n",
    "def my_function(**kids):\n",
    "    print(\"her last name is \"+kids[\"lname\"])\n",
    "my_function(fname=\"lima\",lname=\"akter\")\n",
    "    "
   ]
  },
  {
   "cell_type": "code",
   "execution_count": 12,
   "id": "753b1faa",
   "metadata": {},
   "outputs": [
    {
     "name": "stdout",
     "output_type": "stream",
     "text": [
      "apple\n",
      "banana\n",
      "cherry\n"
     ]
    }
   ],
   "source": [
    "# passing a list as an argument\n",
    "def my_function(food):\n",
    "    for i in food:\n",
    "     print(i)\n",
    "fruits=[\"apple\",\"banana\",\"cherry\"]\n",
    "my_function(fruits)"
   ]
  },
  {
   "cell_type": "code",
   "execution_count": 13,
   "id": "63ac0ef0",
   "metadata": {},
   "outputs": [
    {
     "name": "stdout",
     "output_type": "stream",
     "text": [
      "apple\n",
      "banana\n",
      "cherry\n"
     ]
    }
   ],
   "source": [
    "# normal for loop hole ja kortam\n",
    "fruits=[\"apple\",\"banana\",\"cherry\"]\n",
    "for i in fruits:\n",
    "    print(i)"
   ]
  },
  {
   "cell_type": "code",
   "execution_count": 17,
   "id": "83ecd81a",
   "metadata": {},
   "outputs": [
    {
     "name": "stdout",
     "output_type": "stream",
     "text": [
      "apple\n",
      "banana\n",
      "cherry\n"
     ]
    }
   ],
   "source": [
    "def my_function(food):\n",
    "    for i in food:\n",
    "        print(i)\n",
    "    fruits=[\"apple\",\"banana\",\"cherry\"]\n",
    "my_function(fruits)"
   ]
  },
  {
   "cell_type": "code",
   "execution_count": 18,
   "id": "4fe2b5fb",
   "metadata": {},
   "outputs": [
    {
     "name": "stdout",
     "output_type": "stream",
     "text": [
      "20\n",
      "25\n",
      "30\n"
     ]
    }
   ],
   "source": [
    "# return values\n",
    "def my_function(x):\n",
    "    return 5*x\n",
    "print(my_function(4))\n",
    "print(my_function(5))\n",
    "print(my_function(6))"
   ]
  },
  {
   "cell_type": "code",
   "execution_count": 19,
   "id": "3e16271c",
   "metadata": {},
   "outputs": [
    {
     "name": "stdout",
     "output_type": "stream",
     "text": [
      "40\n",
      "72\n",
      "80\n"
     ]
    }
   ],
   "source": [
    "def my_function(x):\n",
    "    return 8*x\n",
    "print(my_function(5))\n",
    "print(my_function(9))\n",
    "print(my_function(10))"
   ]
  },
  {
   "cell_type": "code",
   "execution_count": 26,
   "id": "fef33d3e",
   "metadata": {},
   "outputs": [
    {
     "name": "stdout",
     "output_type": "stream",
     "text": [
      "43\n"
     ]
    }
   ],
   "source": [
    "# positional only argument\n",
    "def my_function(x,/):\n",
    "    print(x)\n",
    "my_function(43)"
   ]
  },
  {
   "cell_type": "code",
   "execution_count": 24,
   "id": "e2315a7d",
   "metadata": {},
   "outputs": [
    {
     "name": "stdout",
     "output_type": "stream",
     "text": [
      "3\n"
     ]
    }
   ],
   "source": [
    "# positional only argument\n",
    "def my_function(x):\n",
    "    print(x)\n",
    "my_function(3)"
   ]
  },
  {
   "cell_type": "code",
   "execution_count": 27,
   "id": "4526be84",
   "metadata": {},
   "outputs": [
    {
     "ename": "TypeError",
     "evalue": "my_function() got some positional-only arguments passed as keyword arguments: 'x'",
     "output_type": "error",
     "traceback": [
      "\u001b[1;31m---------------------------------------------------------------------------\u001b[0m",
      "\u001b[1;31mTypeError\u001b[0m                                 Traceback (most recent call last)",
      "Cell \u001b[1;32mIn[27], line 3\u001b[0m\n\u001b[0;32m      1\u001b[0m \u001b[38;5;28;01mdef\u001b[39;00m \u001b[38;5;21mmy_function\u001b[39m(x,\u001b[38;5;241m/\u001b[39m):\n\u001b[0;32m      2\u001b[0m     \u001b[38;5;28mprint\u001b[39m(x)\n\u001b[1;32m----> 3\u001b[0m \u001b[43mmy_function\u001b[49m\u001b[43m(\u001b[49m\u001b[43mx\u001b[49m\u001b[38;5;241;43m=\u001b[39;49m\u001b[38;5;241;43m3\u001b[39;49m\u001b[43m)\u001b[49m\n",
      "\u001b[1;31mTypeError\u001b[0m: my_function() got some positional-only arguments passed as keyword arguments: 'x'"
     ]
    }
   ],
   "source": [
    "def my_function(x,/):\n",
    "    print(x)\n",
    "my_function(x=3)"
   ]
  },
  {
   "cell_type": "code",
   "execution_count": 30,
   "id": "08d0dbd1",
   "metadata": {},
   "outputs": [
    {
     "name": "stdout",
     "output_type": "stream",
     "text": [
      "30\n"
     ]
    }
   ],
   "source": [
    "# keyword only argument\n",
    "def my_function(*,x):\n",
    "    print(x)\n",
    "my_function(x=30)"
   ]
  },
  {
   "cell_type": "code",
   "execution_count": 31,
   "id": "34fea185",
   "metadata": {},
   "outputs": [
    {
     "name": "stdout",
     "output_type": "stream",
     "text": [
      "3\n"
     ]
    }
   ],
   "source": [
    "def my_function(x):\n",
    "    print(x)\n",
    "my_function(x=3)"
   ]
  },
  {
   "cell_type": "code",
   "execution_count": 32,
   "id": "4c312c68",
   "metadata": {},
   "outputs": [
    {
     "ename": "TypeError",
     "evalue": "my_function() takes 0 positional arguments but 1 was given",
     "output_type": "error",
     "traceback": [
      "\u001b[1;31m---------------------------------------------------------------------------\u001b[0m",
      "\u001b[1;31mTypeError\u001b[0m                                 Traceback (most recent call last)",
      "Cell \u001b[1;32mIn[32], line 3\u001b[0m\n\u001b[0;32m      1\u001b[0m \u001b[38;5;28;01mdef\u001b[39;00m \u001b[38;5;21mmy_function\u001b[39m(\u001b[38;5;241m*\u001b[39m,x):\n\u001b[0;32m      2\u001b[0m     \u001b[38;5;28mprint\u001b[39m(x)\n\u001b[1;32m----> 3\u001b[0m \u001b[43mmy_function\u001b[49m\u001b[43m(\u001b[49m\u001b[38;5;241;43m4\u001b[39;49m\u001b[43m)\u001b[49m\n",
      "\u001b[1;31mTypeError\u001b[0m: my_function() takes 0 positional arguments but 1 was given"
     ]
    }
   ],
   "source": [
    "def my_function(*,x):\n",
    "    print(x)\n",
    "my_function(4)"
   ]
  },
  {
   "cell_type": "code",
   "execution_count": 40,
   "id": "ff9eea3d",
   "metadata": {},
   "outputs": [
    {
     "name": "stdout",
     "output_type": "stream",
     "text": [
      "30\n"
     ]
    }
   ],
   "source": [
    "# combine positional only and keyword only arument\n",
    "def my_function(a,b,/,*,c,d):\n",
    "    print(a+b+c+d)\n",
    "my_function(5,6,c=10,d=9)"
   ]
  },
  {
   "cell_type": "code",
   "execution_count": null,
   "id": "1312d86b",
   "metadata": {},
   "outputs": [],
   "source": []
  }
 ],
 "metadata": {
  "kernelspec": {
   "display_name": "Python 3 (ipykernel)",
   "language": "python",
   "name": "python3"
  },
  "language_info": {
   "codemirror_mode": {
    "name": "ipython",
    "version": 3
   },
   "file_extension": ".py",
   "mimetype": "text/x-python",
   "name": "python",
   "nbconvert_exporter": "python",
   "pygments_lexer": "ipython3",
   "version": "3.10.9"
  }
 },
 "nbformat": 4,
 "nbformat_minor": 5
}
