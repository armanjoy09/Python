{
 "cells": [
  {
   "cell_type": "code",
   "execution_count": 1,
   "id": "b3eff8b5",
   "metadata": {},
   "outputs": [
    {
     "name": "stdout",
     "output_type": "stream",
     "text": [
      "suzuki\n"
     ]
    }
   ],
   "source": [
    "class baba:\n",
    "    car=\"BMW\"\n",
    "    home=\"10 floor\"\n",
    "    tk=\"10 crore\"\n",
    "    \n",
    "class son(baba):\n",
    "    bike=\"suzuki\"\n",
    "    laptop=\"hp\"\n",
    "    \n",
    "class son1(son):\n",
    "    tv=\"samsumg\"\n",
    "    ac=\"walton\"\n",
    "    \n",
    "class son2(son1):\n",
    "    earbard=\"oneplus\"\n",
    "    mobile=\"Iphone\"\n",
    "    \n",
    "class son3(son2):\n",
    "    brokenphone=\"lenebo\"\n",
    "    brokenheart=\"haha\"\n",
    "    \n",
    "k=son3()\n",
    "print(k.bike)"
   ]
  },
  {
   "cell_type": "code",
   "execution_count": 2,
   "id": "c42bcade",
   "metadata": {},
   "outputs": [
    {
     "name": "stdout",
     "output_type": "stream",
     "text": [
      "oneplus\n"
     ]
    }
   ],
   "source": [
    "print(k.earbard)"
   ]
  },
  {
   "cell_type": "code",
   "execution_count": 3,
   "id": "c0830479",
   "metadata": {},
   "outputs": [
    {
     "name": "stdout",
     "output_type": "stream",
     "text": [
      "haha\n",
      "Iphone\n",
      "walton\n",
      "BMW\n",
      "10 crore\n",
      "hp\n"
     ]
    }
   ],
   "source": [
    "print(k.brokenheart)\n",
    "print(k.mobile)\n",
    "print(k.ac)\n",
    "print(k.car)\n",
    "print(k.tk)\n",
    "print(k.laptop)"
   ]
  },
  {
   "cell_type": "code",
   "execution_count": null,
   "id": "c2d95899",
   "metadata": {},
   "outputs": [],
   "source": []
  }
 ],
 "metadata": {
  "kernelspec": {
   "display_name": "Python 3 (ipykernel)",
   "language": "python",
   "name": "python3"
  },
  "language_info": {
   "codemirror_mode": {
    "name": "ipython",
    "version": 3
   },
   "file_extension": ".py",
   "mimetype": "text/x-python",
   "name": "python",
   "nbconvert_exporter": "python",
   "pygments_lexer": "ipython3",
   "version": "3.10.9"
  }
 },
 "nbformat": 4,
 "nbformat_minor": 5
}
