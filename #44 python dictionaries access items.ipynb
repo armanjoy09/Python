{
 "cells": [
  {
   "cell_type": "code",
   "execution_count": 8,
   "id": "2b20abbf",
   "metadata": {},
   "outputs": [
    {
     "name": "stdout",
     "output_type": "stream",
     "text": [
      "{'arman': {'name': 'arman', 'study': 'Bsc', 'instution': 'islamic university', 'roll': '2029018', 'number': '924694463'}, 'monir': {'name': 'monir', 'study': 'nursing', 'college': 'prime', 'roll': '30309', 'number': '203048804'}, 'masum': {'name': 'masum', 'study': 'college', 'inistitution': 'precidency', 'roll': '203934', 'number': '4048394'}}\n"
     ]
    }
   ],
   "source": [
    "thisdict={\n",
    "    \"arman\":{\n",
    "        \"name\":\"arman\",\n",
    "        \"study\":\"Bsc\",\n",
    "        \"instution\":\"islamic university\",\n",
    "        \"roll\":\"2029018\",\n",
    "        \"number\":\"924694463\"\n",
    "    },\n",
    "    \"monir\":{\n",
    "        \"name\":\"monir\",\n",
    "        \"study\":\"nursing\",\n",
    "        \"college\":\"prime\",\n",
    "        \"roll\":\"30309\",\n",
    "        \"number\":\"203048804\"\n",
    "    },\n",
    "    \"masum\":{\n",
    "        \"name\":\"masum\",\n",
    "        \"study\":\"college\",\n",
    "        \"inistitution\":\"precidency\",\n",
    "        \"roll\":\"203934\",\n",
    "        \"number\":\"4048394\"\n",
    "        \n",
    "    }\n",
    "}\n",
    "print(thisdict)"
   ]
  },
  {
   "cell_type": "code",
   "execution_count": 9,
   "id": "43c4158e",
   "metadata": {},
   "outputs": [
    {
     "name": "stdout",
     "output_type": "stream",
     "text": [
      "{'name': 'masum', 'study': 'college', 'inistitution': 'precidency', 'roll': '203934', 'number': '4048394'}\n"
     ]
    }
   ],
   "source": [
    "print(thisdict[\"masum\"])"
   ]
  },
  {
   "cell_type": "code",
   "execution_count": 10,
   "id": "2fa363dd",
   "metadata": {},
   "outputs": [
    {
     "name": "stdout",
     "output_type": "stream",
     "text": [
      "masum\n"
     ]
    }
   ],
   "source": [
    "print(thisdict[\"masum\"][\"name\"])"
   ]
  },
  {
   "cell_type": "code",
   "execution_count": 12,
   "id": "ae2ae7ea",
   "metadata": {},
   "outputs": [
    {
     "name": "stdout",
     "output_type": "stream",
     "text": [
      "{'name': 'masum', 'study': 'college', 'inistitution': 'precidency', 'roll': '203934', 'number': '4048394'}\n"
     ]
    }
   ],
   "source": [
    "print(thisdict.get(\"masum\"))"
   ]
  },
  {
   "cell_type": "code",
   "execution_count": 15,
   "id": "3e78102b",
   "metadata": {},
   "outputs": [
    {
     "name": "stdout",
     "output_type": "stream",
     "text": [
      "{'name': 'monir', 'study': 'nursing', 'college': 'prime', 'roll': '30309', 'number': '203048804'}\n"
     ]
    }
   ],
   "source": [
    "x=thisdict.get(\"monir\",\"name\")\n",
    "print(x)"
   ]
  },
  {
   "cell_type": "code",
   "execution_count": 16,
   "id": "a671fa5b",
   "metadata": {},
   "outputs": [
    {
     "name": "stdout",
     "output_type": "stream",
     "text": [
      "dict_keys(['arman', 'monir', 'masum'])\n"
     ]
    }
   ],
   "source": [
    "# this will only keys on the dictionaries\n",
    "x=thisdict.keys()\n",
    "print(x)"
   ]
  },
  {
   "cell_type": "code",
   "execution_count": 17,
   "id": "1d6c3532",
   "metadata": {},
   "outputs": [
    {
     "ename": "TypeError",
     "evalue": "dict.values() takes no arguments (1 given)",
     "output_type": "error",
     "traceback": [
      "\u001b[1;31m---------------------------------------------------------------------------\u001b[0m",
      "\u001b[1;31mTypeError\u001b[0m                                 Traceback (most recent call last)",
      "Cell \u001b[1;32mIn[17], line 1\u001b[0m\n\u001b[1;32m----> 1\u001b[0m x\u001b[38;5;241m=\u001b[39m\u001b[43mthisdict\u001b[49m\u001b[38;5;241;43m.\u001b[39;49m\u001b[43mvalues\u001b[49m\u001b[43m(\u001b[49m\u001b[38;5;124;43m\"\u001b[39;49m\u001b[38;5;124;43marman\u001b[39;49m\u001b[38;5;124;43m\"\u001b[39;49m\u001b[43m)\u001b[49m\n\u001b[0;32m      2\u001b[0m \u001b[38;5;28mprint\u001b[39m(x)\n",
      "\u001b[1;31mTypeError\u001b[0m: dict.values() takes no arguments (1 given)"
     ]
    }
   ],
   "source": [
    "x=thisdict.values(\"arman\")\n",
    "print(x)"
   ]
  },
  {
   "cell_type": "code",
   "execution_count": 18,
   "id": "1853f65e",
   "metadata": {},
   "outputs": [
    {
     "name": "stdout",
     "output_type": "stream",
     "text": [
      "dict_values([{'name': 'arman', 'study': 'Bsc', 'instution': 'islamic university', 'roll': '2029018', 'number': '924694463'}, {'name': 'monir', 'study': 'nursing', 'college': 'prime', 'roll': '30309', 'number': '203048804'}, {'name': 'masum', 'study': 'college', 'inistitution': 'precidency', 'roll': '203934', 'number': '4048394'}])\n"
     ]
    }
   ],
   "source": [
    "x=thisdict.values()\n",
    "print(x)"
   ]
  },
  {
   "cell_type": "code",
   "execution_count": 19,
   "id": "35d25c17",
   "metadata": {},
   "outputs": [
    {
     "name": "stdout",
     "output_type": "stream",
     "text": [
      "{'name': 'arman', 'study': 'Bsc', 'instution': 'islamic university', 'roll': '2029018', 'number': '924694463'}\n"
     ]
    }
   ],
   "source": [
    "print(thisdict[\"arman\"])"
   ]
  },
  {
   "cell_type": "code",
   "execution_count": 20,
   "id": "5b47d5a5",
   "metadata": {},
   "outputs": [
    {
     "name": "stdout",
     "output_type": "stream",
     "text": [
      "{'name': 'masum', 'study': 'college', 'inistitution': 'precidency', 'roll': '203934', 'number': '4048394'}\n"
     ]
    }
   ],
   "source": [
    "print(thisdict.get(\"masum\"))"
   ]
  },
  {
   "cell_type": "code",
   "execution_count": 21,
   "id": "808a077f",
   "metadata": {},
   "outputs": [
    {
     "name": "stdout",
     "output_type": "stream",
     "text": [
      "{'name': 'monir', 'study': 'nursing', 'college': 'prime', 'roll': '30309', 'number': '203048804'}\n"
     ]
    }
   ],
   "source": [
    "print(thisdict.get(\"monir\"))"
   ]
  },
  {
   "cell_type": "code",
   "execution_count": 22,
   "id": "a543dbbf",
   "metadata": {},
   "outputs": [
    {
     "name": "stdout",
     "output_type": "stream",
     "text": [
      "dict_keys(['arman', 'monir', 'masum'])\n"
     ]
    }
   ],
   "source": [
    "print(thisdict.keys())"
   ]
  },
  {
   "cell_type": "code",
   "execution_count": 23,
   "id": "06f3eeda",
   "metadata": {},
   "outputs": [
    {
     "name": "stdout",
     "output_type": "stream",
     "text": [
      "dict_values([{'name': 'arman', 'study': 'Bsc', 'instution': 'islamic university', 'roll': '2029018', 'number': '924694463'}, {'name': 'monir', 'study': 'nursing', 'college': 'prime', 'roll': '30309', 'number': '203048804'}, {'name': 'masum', 'study': 'college', 'inistitution': 'precidency', 'roll': '203934', 'number': '4048394'}])\n"
     ]
    }
   ],
   "source": [
    "print(thisdict.values())"
   ]
  },
  {
   "cell_type": "code",
   "execution_count": 6,
   "id": "622b7309",
   "metadata": {},
   "outputs": [
    {
     "name": "stdout",
     "output_type": "stream",
     "text": [
      "{'name': 'masum', 'study': 'college', 'institute': 'prime'}\n"
     ]
    }
   ],
   "source": [
    "thisdict={\n",
    "    \"name\":\"masum\",\n",
    "    \"study\" : \"college\",\n",
    "    \"institute\":\"prime\"\n",
    "}\n",
    "print(thisdict)"
   ]
  },
  {
   "cell_type": "code",
   "execution_count": 7,
   "id": "f882247c",
   "metadata": {},
   "outputs": [
    {
     "name": "stdout",
     "output_type": "stream",
     "text": [
      "dict_keys(['name', 'study', 'institute'])\n"
     ]
    }
   ],
   "source": [
    "x=thisdict.keys()\n",
    "print(x)"
   ]
  },
  {
   "cell_type": "code",
   "execution_count": 8,
   "id": "c5bc1805",
   "metadata": {},
   "outputs": [
    {
     "name": "stdout",
     "output_type": "stream",
     "text": [
      "dict_keys(['name', 'study', 'institute'])\n"
     ]
    }
   ],
   "source": [
    "print(thisdict.keys())"
   ]
  },
  {
   "cell_type": "code",
   "execution_count": 10,
   "id": "8fab6edf",
   "metadata": {},
   "outputs": [
    {
     "name": "stdout",
     "output_type": "stream",
     "text": [
      "college\n"
     ]
    }
   ],
   "source": [
    "print(thisdict.get(\"study\"))"
   ]
  },
  {
   "cell_type": "code",
   "execution_count": 11,
   "id": "a1f96459",
   "metadata": {},
   "outputs": [
    {
     "name": "stdout",
     "output_type": "stream",
     "text": [
      "dict_values(['masum', 'college', 'prime'])\n"
     ]
    }
   ],
   "source": [
    "print(thisdict.values())"
   ]
  },
  {
   "cell_type": "code",
   "execution_count": 12,
   "id": "bf29a903",
   "metadata": {},
   "outputs": [
    {
     "name": "stdout",
     "output_type": "stream",
     "text": [
      "dict_values(['masum', 'college', 'prime'])\n"
     ]
    }
   ],
   "source": [
    "print(thisdict.values())"
   ]
  },
  {
   "cell_type": "code",
   "execution_count": 13,
   "id": "201e8cb2",
   "metadata": {},
   "outputs": [
    {
     "name": "stdout",
     "output_type": "stream",
     "text": [
      "dict_keys(['name', 'study', 'institute'])\n"
     ]
    }
   ],
   "source": [
    "print(thisdict.keys())"
   ]
  },
  {
   "cell_type": "code",
   "execution_count": 14,
   "id": "e1be41d3",
   "metadata": {},
   "outputs": [
    {
     "name": "stdout",
     "output_type": "stream",
     "text": [
      "masum\n"
     ]
    }
   ],
   "source": [
    "print(thisdict.get(\"name\"))"
   ]
  },
  {
   "cell_type": "code",
   "execution_count": null,
   "id": "6102b3df",
   "metadata": {},
   "outputs": [],
   "source": []
  }
 ],
 "metadata": {
  "kernelspec": {
   "display_name": "Python 3 (ipykernel)",
   "language": "python",
   "name": "python3"
  },
  "language_info": {
   "codemirror_mode": {
    "name": "ipython",
    "version": 3
   },
   "file_extension": ".py",
   "mimetype": "text/x-python",
   "name": "python",
   "nbconvert_exporter": "python",
   "pygments_lexer": "ipython3",
   "version": "3.10.9"
  }
 },
 "nbformat": 4,
 "nbformat_minor": 5
}
