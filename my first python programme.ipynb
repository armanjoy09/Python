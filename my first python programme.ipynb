{
 "cells": [
  {
   "cell_type": "code",
   "execution_count": 1,
   "id": "62231455",
   "metadata": {},
   "outputs": [
    {
     "name": "stdout",
     "output_type": "stream",
     "text": [
      "arman joy\n"
     ]
    }
   ],
   "source": [
    "print(\"arman joy\")"
   ]
  },
  {
   "cell_type": "code",
   "execution_count": 2,
   "id": "652701bc",
   "metadata": {},
   "outputs": [
    {
     "name": "stdout",
     "output_type": "stream",
     "text": [
      "arman\n"
     ]
    }
   ],
   "source": [
    "print('arman')"
   ]
  },
  {
   "cell_type": "code",
   "execution_count": 3,
   "id": "d7b9af25",
   "metadata": {},
   "outputs": [
    {
     "name": "stdout",
     "output_type": "stream",
     "text": [
      "364\n"
     ]
    }
   ],
   "source": [
    "print(\"364\")"
   ]
  },
  {
   "cell_type": "code",
   "execution_count": 4,
   "id": "79a08020",
   "metadata": {},
   "outputs": [
    {
     "name": "stdout",
     "output_type": "stream",
     "text": [
      "475\n"
     ]
    }
   ],
   "source": [
    "print(475)"
   ]
  },
  {
   "cell_type": "code",
   "execution_count": 5,
   "id": "56dfe852",
   "metadata": {},
   "outputs": [
    {
     "name": "stdout",
     "output_type": "stream",
     "text": [
      "joy\n"
     ]
    }
   ],
   "source": [
    "#allah maaf kore den\n",
    "print(\"joy\")"
   ]
  },
  {
   "cell_type": "code",
   "execution_count": 6,
   "id": "3af0fd3b",
   "metadata": {},
   "outputs": [
    {
     "ename": "SyntaxError",
     "evalue": "invalid syntax (1475119517.py, line 2)",
     "output_type": "error",
     "traceback": [
      "\u001b[1;36m  Cell \u001b[1;32mIn[6], line 2\u001b[1;36m\u001b[0m\n\u001b[1;33m    amake shoho sobaik\u001b[0m\n\u001b[1;37m          ^\u001b[0m\n\u001b[1;31mSyntaxError\u001b[0m\u001b[1;31m:\u001b[0m invalid syntax\n"
     ]
    }
   ],
   "source": [
    "#allah maaf kore den\n",
    "amake shoho sobaik\n",
    "print(\"joy\")"
   ]
  },
  {
   "cell_type": "code",
   "execution_count": 10,
   "id": "ceec2b1e",
   "metadata": {},
   "outputs": [
    {
     "name": "stdout",
     "output_type": "stream",
     "text": [
      "joy\n"
     ]
    }
   ],
   "source": [
    "'''amak maf kore \n",
    "den allah sathe sobaik\n",
    "amar poribar k shoho'''\n",
    "print(\"joy\")"
   ]
  },
  {
   "cell_type": "code",
   "execution_count": 13,
   "id": "65c8dd89",
   "metadata": {},
   "outputs": [
    {
     "name": "stdout",
     "output_type": "stream",
     "text": [
      "amin\n"
     ]
    }
   ],
   "source": [
    "'''allah \n",
    "amak shoho sobaik\n",
    "maf kore den \n",
    "amin'''\n",
    "print    (\"amin\")"
   ]
  },
  {
   "cell_type": "code",
   "execution_count": 19,
   "id": "7afcce20",
   "metadata": {},
   "outputs": [
    {
     "name": "stdout",
     "output_type": "stream",
     "text": [
      "tabassum joy\n"
     ]
    }
   ],
   "source": [
    "x=\"tabassum\"\n",
    "y=\"joy\"\n",
    "print(x,y)\n"
   ]
  },
  {
   "cell_type": "code",
   "execution_count": 21,
   "id": "6230bdcc",
   "metadata": {},
   "outputs": [
    {
     "ename": "NameError",
     "evalue": "name 'joy' is not defined",
     "output_type": "error",
     "traceback": [
      "\u001b[1;31m---------------------------------------------------------------------------\u001b[0m",
      "\u001b[1;31mNameError\u001b[0m                                 Traceback (most recent call last)",
      "Cell \u001b[1;32mIn[21], line 1\u001b[0m\n\u001b[1;32m----> 1\u001b[0m x\u001b[38;5;241m=\u001b[39m\u001b[43mjoy\u001b[49m\n\u001b[0;32m      2\u001b[0m \u001b[38;5;28mprint\u001b[39m(\u001b[38;5;124m\"\u001b[39m\u001b[38;5;124my\u001b[39m\u001b[38;5;124m\"\u001b[39m)\n",
      "\u001b[1;31mNameError\u001b[0m: name 'joy' is not defined"
     ]
    }
   ],
   "source": [
    "x=joy\n",
    "print(\")"
   ]
  },
  {
   "cell_type": "code",
   "execution_count": null,
   "id": "fef0f745",
   "metadata": {},
   "outputs": [],
   "source": []
  },
  {
   "cell_type": "code",
   "execution_count": null,
   "id": "f78de54c",
   "metadata": {},
   "outputs": [],
   "source": []
  }
 ],
 "metadata": {
  "kernelspec": {
   "display_name": "Python 3 (ipykernel)",
   "language": "python",
   "name": "python3"
  },
  "language_info": {
   "codemirror_mode": {
    "name": "ipython",
    "version": 3
   },
   "file_extension": ".py",
   "mimetype": "text/x-python",
   "name": "python",
   "nbconvert_exporter": "python",
   "pygments_lexer": "ipython3",
   "version": "3.10.9"
  }
 },
 "nbformat": 4,
 "nbformat_minor": 5
}
