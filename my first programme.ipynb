{
 "cells": [
  {
   "cell_type": "code",
   "execution_count": 1,
   "id": "635b91ac",
   "metadata": {},
   "outputs": [
    {
     "name": "stdout",
     "output_type": "stream",
     "text": [
      "arman joy\n"
     ]
    }
   ],
   "source": [
    "print(\"arman joy\")"
   ]
  },
  {
   "cell_type": "code",
   "execution_count": 2,
   "id": "2882383d",
   "metadata": {},
   "outputs": [
    {
     "name": "stdout",
     "output_type": "stream",
     "text": [
      "arman\n"
     ]
    }
   ],
   "source": [
    "print('arman')"
   ]
  },
  {
   "cell_type": "code",
   "execution_count": 3,
   "id": "4a4f3da0",
   "metadata": {},
   "outputs": [
    {
     "name": "stdout",
     "output_type": "stream",
     "text": [
      "364\n"
     ]
    }
   ],
   "source": [
    "print(\"364\")"
   ]
  },
  {
   "cell_type": "code",
   "execution_count": 4,
   "id": "c1b64725",
   "metadata": {},
   "outputs": [
    {
     "name": "stdout",
     "output_type": "stream",
     "text": [
      "475\n"
     ]
    }
   ],
   "source": [
    "print(475)"
   ]
  },
  {
   "cell_type": "code",
   "execution_count": 5,
   "id": "7e4cf1a1",
   "metadata": {},
   "outputs": [
    {
     "name": "stdout",
     "output_type": "stream",
     "text": [
      "joy\n"
     ]
    }
   ],
   "source": [
    "#allah maaf kore den\n",
    "print(\"joy\")"
   ]
  },
  {
   "cell_type": "code",
   "execution_count": 6,
   "id": "7c540fa2",
   "metadata": {},
   "outputs": [
    {
     "ename": "SyntaxError",
     "evalue": "invalid syntax (1475119517.py, line 2)",
     "output_type": "error",
     "traceback": [
      "\u001b[1;36m  Cell \u001b[1;32mIn[6], line 2\u001b[1;36m\u001b[0m\n\u001b[1;33m    amake shoho sobaik\u001b[0m\n\u001b[1;37m          ^\u001b[0m\n\u001b[1;31mSyntaxError\u001b[0m\u001b[1;31m:\u001b[0m invalid syntax\n"
     ]
    }
   ],
   "source": [
    "#allah maaf kore den\n",
    "amake shoho sobaik\n",
    "print(\"joy\")"
   ]
  },
  {
   "cell_type": "code",
   "execution_count": 10,
   "id": "034a0537",
   "metadata": {},
   "outputs": [
    {
     "name": "stdout",
     "output_type": "stream",
     "text": [
      "joy\n"
     ]
    }
   ],
   "source": [
    "'''amak maf kore \n",
    "den allah sathe sobaik\n",
    "amar poribar k shoho'''\n",
    "print(\"joy\")"
   ]
  },
  {
   "cell_type": "code",
   "execution_count": 13,
   "id": "e98d7257",
   "metadata": {},
   "outputs": [
    {
     "name": "stdout",
     "output_type": "stream",
     "text": [
      "amin\n"
     ]
    }
   ],
   "source": [
    "'''allah \n",
    "amak shoho sobaik\n",
    "maf kore den \n",
    "amin'''\n",
    "print    (\"amin\")"
   ]
  },
  {
   "cell_type": "code",
   "execution_count": 19,
   "id": "dcd8a1dc",
   "metadata": {},
   "outputs": [
    {
     "name": "stdout",
     "output_type": "stream",
     "text": [
      "tabassum joy\n"
     ]
    }
   ],
   "source": [
    "x=\"tabassum\"\n",
    "y=\"joy\"\n",
    "print(x,y)\n"
   ]
  },
  {
   "cell_type": "code",
   "execution_count": 23,
   "id": "f9449cc3",
   "metadata": {},
   "outputs": [
    {
     "name": "stdout",
     "output_type": "stream",
     "text": [
      "joy\n"
     ]
    }
   ],
   "source": [
    "x=\"joy\"\n",
    "print(x)"
   ]
  },
  {
   "cell_type": "code",
   "execution_count": 2,
   "id": "523a23cf",
   "metadata": {},
   "outputs": [
    {
     "name": "stdout",
     "output_type": "stream",
     "text": [
      "joy\n"
     ]
    }
   ],
   "source": [
    "x=\"arman\"\n",
    "y=\"joy\"\n",
    "print(y)"
   ]
  },
  {
   "cell_type": "code",
   "execution_count": 3,
   "id": "817a2ba3",
   "metadata": {},
   "outputs": [
    {
     "name": "stdout",
     "output_type": "stream",
     "text": [
      "arman\n"
     ]
    }
   ],
   "source": [
    "# 2 ta e amr nam\n",
    "print(x)"
   ]
  },
  {
   "cell_type": "code",
   "execution_count": 5,
   "id": "c4b7ddf6",
   "metadata": {},
   "outputs": [
    {
     "name": "stdout",
     "output_type": "stream",
     "text": [
      "arman\n"
     ]
    }
   ],
   "source": [
    "'''kinto ami jodi \n",
    "multiline comment kori \n",
    "taile to 3 ta cotesotin dite hoy'''\n",
    "print(x)          "
   ]
  },
  {
   "cell_type": "code",
   "execution_count": null,
   "id": "414e6609",
   "metadata": {},
   "outputs": [],
   "source": []
  },
  {
   "cell_type": "code",
   "execution_count": null,
   "id": "67ae1fff",
   "metadata": {},
   "outputs": [],
   "source": []
  },
  {
   "cell_type": "code",
   "execution_count": null,
   "id": "737d96aa",
   "metadata": {},
   "outputs": [],
   "source": []
  },
  {
   "cell_type": "code",
   "execution_count": null,
   "id": "f6c2cb4b",
   "metadata": {},
   "outputs": [],
   "source": []
  }
 ],
 "metadata": {
  "kernelspec": {
   "display_name": "Python 3 (ipykernel)",
   "language": "python",
   "name": "python3"
  },
  "language_info": {
   "codemirror_mode": {
    "name": "ipython",
    "version": 3
   },
   "file_extension": ".py",
   "mimetype": "text/x-python",
   "name": "python",
   "nbconvert_exporter": "python",
   "pygments_lexer": "ipython3",
   "version": "3.10.9"
  }
 },
 "nbformat": 4,
 "nbformat_minor": 5
}
