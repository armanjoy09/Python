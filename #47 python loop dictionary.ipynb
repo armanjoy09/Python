{
 "cells": [
  {
   "cell_type": "code",
   "execution_count": 2,
   "id": "2c66a0ea",
   "metadata": {},
   "outputs": [
    {
     "name": "stdout",
     "output_type": "stream",
     "text": [
      "brand\n",
      "model\n",
      "year\n"
     ]
    }
   ],
   "source": [
    "thisdict={\n",
    "    \"brand\":\"ford\",\n",
    "    \"model\":\"mustang\",\n",
    "    \"year\":1964\n",
    "}\n",
    "for i in thisdict:\n",
    "    print(i)"
   ]
  },
  {
   "cell_type": "code",
   "execution_count": 4,
   "id": "aae9f27b",
   "metadata": {},
   "outputs": [
    {
     "name": "stdout",
     "output_type": "stream",
     "text": [
      "arman\n",
      "monir\n",
      "masum\n"
     ]
    }
   ],
   "source": [
    "thisdict={\n",
    "    \"arman\":{\n",
    "        \"name\":\"arman\",\n",
    "        \"study\":\"bsc\",\n",
    "        \"university\":\"islamic university\",\n",
    "        \"year\":\"2022\"\n",
    "    },\n",
    "    \"monir\":{\n",
    "        \"name\":\"monir\",\n",
    "        \"study\":\"nursing\",\n",
    "        \"college\":\"prime\",\n",
    "        \"year\":2023\n",
    "    },\n",
    "    \"masum\":{\n",
    "        \"name\":\"masum\",\n",
    "        \"study\":\"bondami\",\n",
    "        \"year\":\"2024\"\n",
    "    }\n",
    "}\n",
    "for i in thisdict:\n",
    "    print(i)"
   ]
  },
  {
   "cell_type": "code",
   "execution_count": 6,
   "id": "76689cfb",
   "metadata": {},
   "outputs": [
    {
     "name": "stdout",
     "output_type": "stream",
     "text": [
      "{'name': 'arman', 'study': 'bsc', 'university': 'islamic university', 'year': '2022'}\n",
      "{'name': 'monir', 'study': 'nursing', 'college': 'prime', 'year': 2023}\n",
      "{'name': 'masum', 'study': 'bondami', 'year': '2024'}\n"
     ]
    }
   ],
   "source": [
    "for i in thisdict.values():\n",
    "    print(i)"
   ]
  },
  {
   "cell_type": "code",
   "execution_count": 7,
   "id": "0f904e88",
   "metadata": {},
   "outputs": [
    {
     "name": "stdout",
     "output_type": "stream",
     "text": [
      "arman\n",
      "monir\n",
      "masum\n"
     ]
    }
   ],
   "source": [
    "for i in thisdict.keys():\n",
    "    print(i)"
   ]
  },
  {
   "cell_type": "code",
   "execution_count": 8,
   "id": "a2fed1d1",
   "metadata": {},
   "outputs": [
    {
     "name": "stdout",
     "output_type": "stream",
     "text": [
      "('arman', {'name': 'arman', 'study': 'bsc', 'university': 'islamic university', 'year': '2022'})\n",
      "('monir', {'name': 'monir', 'study': 'nursing', 'college': 'prime', 'year': 2023})\n",
      "('masum', {'name': 'masum', 'study': 'bondami', 'year': '2024'})\n"
     ]
    }
   ],
   "source": [
    "for i in thisdict.items():\n",
    "    print(i)"
   ]
  },
  {
   "cell_type": "code",
   "execution_count": 9,
   "id": "ebba0c9c",
   "metadata": {},
   "outputs": [
    {
     "name": "stdout",
     "output_type": "stream",
     "text": [
      "brand\n",
      "model\n",
      "year\n"
     ]
    }
   ],
   "source": [
    "thisdict={\n",
    "    \"brand\":\"ford\",\n",
    "    \"model\":\"mustange\",\n",
    "    \"year\":1964\n",
    "}\n",
    "for i in thisdict:\n",
    "    print(i)"
   ]
  },
  {
   "cell_type": "code",
   "execution_count": 10,
   "id": "1a6d0048",
   "metadata": {},
   "outputs": [
    {
     "name": "stdout",
     "output_type": "stream",
     "text": [
      "ford\n",
      "mustange\n",
      "1964\n"
     ]
    }
   ],
   "source": [
    "for i in thisdict.values():\n",
    "    print(i)"
   ]
  },
  {
   "cell_type": "code",
   "execution_count": 11,
   "id": "431ca297",
   "metadata": {},
   "outputs": [
    {
     "name": "stdout",
     "output_type": "stream",
     "text": [
      "brand\n",
      "model\n",
      "year\n"
     ]
    }
   ],
   "source": [
    "for i in thisdict.keys():\n",
    "    print(i)"
   ]
  },
  {
   "cell_type": "code",
   "execution_count": 12,
   "id": "13c35f1e",
   "metadata": {},
   "outputs": [
    {
     "name": "stdout",
     "output_type": "stream",
     "text": [
      "('brand', 'ford')\n",
      "('model', 'mustange')\n",
      "('year', 1964)\n"
     ]
    }
   ],
   "source": [
    "for i in thisdict.items():\n",
    "    print(i)"
   ]
  },
  {
   "cell_type": "code",
   "execution_count": 2,
   "id": "e7f52ab6",
   "metadata": {},
   "outputs": [
    {
     "name": "stdout",
     "output_type": "stream",
     "text": [
      "name\n",
      "department\n",
      "player\n",
      "club\n"
     ]
    }
   ],
   "source": [
    "thisdict={\n",
    "    \"name\":\"arman\",\n",
    "    \"department\":\"BME\",\n",
    "    \"player\":\"football\",\n",
    "    \"club\":\"barcelona\"\n",
    "    \n",
    "    \n",
    "}\n",
    "for i in thisdict:\n",
    "    print(i)"
   ]
  },
  {
   "cell_type": "code",
   "execution_count": 3,
   "id": "b32868cd",
   "metadata": {},
   "outputs": [
    {
     "name": "stdout",
     "output_type": "stream",
     "text": [
      "name\n",
      "department\n",
      "player\n",
      "club\n"
     ]
    }
   ],
   "source": [
    "for i in thisdict.keys():\n",
    "    print(i)"
   ]
  },
  {
   "cell_type": "code",
   "execution_count": 4,
   "id": "688ad253",
   "metadata": {},
   "outputs": [
    {
     "name": "stdout",
     "output_type": "stream",
     "text": [
      "arman\n",
      "BME\n",
      "football\n",
      "barcelona\n"
     ]
    }
   ],
   "source": [
    "for i in thisdict.values():\n",
    "    print(i)"
   ]
  },
  {
   "cell_type": "code",
   "execution_count": 5,
   "id": "dd5bb8c0",
   "metadata": {},
   "outputs": [
    {
     "name": "stdout",
     "output_type": "stream",
     "text": [
      "arman\n",
      "BME\n",
      "football\n",
      "barcelona\n"
     ]
    }
   ],
   "source": [
    "for i in thisdict:\n",
    "    print(thisdict[i])"
   ]
  },
  {
   "cell_type": "code",
   "execution_count": 7,
   "id": "cb02e3b2",
   "metadata": {},
   "outputs": [
    {
     "name": "stdout",
     "output_type": "stream",
     "text": [
      "('name', 'arman')\n",
      "('department', 'BME')\n",
      "('player', 'football')\n",
      "('club', 'barcelona')\n"
     ]
    }
   ],
   "source": [
    "for i in thisdict.items():  #to print all the keys and values use the items() method\n",
    "    print(i)"
   ]
  },
  {
   "cell_type": "code",
   "execution_count": 8,
   "id": "a86c6181",
   "metadata": {},
   "outputs": [
    {
     "name": "stdout",
     "output_type": "stream",
     "text": [
      "name\n",
      "department\n",
      "player\n",
      "club\n"
     ]
    }
   ],
   "source": [
    "for i in thisdict:\n",
    "    print(i)"
   ]
  },
  {
   "cell_type": "code",
   "execution_count": 9,
   "id": "068e8563",
   "metadata": {},
   "outputs": [
    {
     "name": "stdout",
     "output_type": "stream",
     "text": [
      "arman\n",
      "BME\n",
      "football\n",
      "barcelona\n"
     ]
    }
   ],
   "source": [
    "for i in thisdict:\n",
    "    print(thisdict[i])"
   ]
  },
  {
   "cell_type": "code",
   "execution_count": 10,
   "id": "f71a56c6",
   "metadata": {},
   "outputs": [
    {
     "name": "stdout",
     "output_type": "stream",
     "text": [
      "name\n",
      "department\n",
      "player\n",
      "club\n"
     ]
    }
   ],
   "source": [
    "for i in thisdict.keys():\n",
    "    print(i)"
   ]
  },
  {
   "cell_type": "code",
   "execution_count": 11,
   "id": "d489ec7b",
   "metadata": {},
   "outputs": [
    {
     "name": "stdout",
     "output_type": "stream",
     "text": [
      "arman\n",
      "BME\n",
      "football\n",
      "barcelona\n"
     ]
    }
   ],
   "source": [
    "for i in thisdict.values():\n",
    "    print(i)"
   ]
  },
  {
   "cell_type": "code",
   "execution_count": 12,
   "id": "57894fab",
   "metadata": {},
   "outputs": [
    {
     "name": "stdout",
     "output_type": "stream",
     "text": [
      "('name', 'arman')\n",
      "('department', 'BME')\n",
      "('player', 'football')\n",
      "('club', 'barcelona')\n"
     ]
    }
   ],
   "source": [
    "for i in thisdict.items():\n",
    "    print(i)"
   ]
  },
  {
   "cell_type": "code",
   "execution_count": null,
   "id": "cac9d9f7",
   "metadata": {},
   "outputs": [],
   "source": []
  }
 ],
 "metadata": {
  "kernelspec": {
   "display_name": "Python 3 (ipykernel)",
   "language": "python",
   "name": "python3"
  },
  "language_info": {
   "codemirror_mode": {
    "name": "ipython",
    "version": 3
   },
   "file_extension": ".py",
   "mimetype": "text/x-python",
   "name": "python",
   "nbconvert_exporter": "python",
   "pygments_lexer": "ipython3",
   "version": "3.10.9"
  }
 },
 "nbformat": 4,
 "nbformat_minor": 5
}
