{
 "cells": [
  {
   "cell_type": "code",
   "execution_count": 1,
   "id": "cff93278",
   "metadata": {},
   "outputs": [
    {
     "name": "stdout",
     "output_type": "stream",
     "text": [
      "<built-in function sum>\n"
     ]
    }
   ],
   "source": [
    "def myfunct(a,b):\n",
    " sum=a+b\n",
    "print(sum)\n",
    "myfunct(20,30)\n"
   ]
  },
  {
   "cell_type": "code",
   "execution_count": 2,
   "id": "109cc4a9",
   "metadata": {},
   "outputs": [
    {
     "name": "stdout",
     "output_type": "stream",
     "text": [
      "50\n"
     ]
    }
   ],
   "source": [
    "def myfun(a,b):\n",
    "    sum=a+b\n",
    "    print(sum)\n",
    "myfun(20,30)"
   ]
  },
  {
   "cell_type": "code",
   "execution_count": 3,
   "id": "e39eac24",
   "metadata": {},
   "outputs": [
    {
     "name": "stdout",
     "output_type": "stream",
     "text": [
      "70\n"
     ]
    }
   ],
   "source": [
    "x=lambda a,b:a+b\n",
    "print(x(30,40))"
   ]
  },
  {
   "cell_type": "code",
   "execution_count": 4,
   "id": "694e202e",
   "metadata": {},
   "outputs": [
    {
     "name": "stdout",
     "output_type": "stream",
     "text": [
      "0.8571428571428571\n"
     ]
    }
   ],
   "source": [
    "x=lambda a,b,c,d:(a+b)/(c+d)\n",
    "print(x(10,20,15,20))"
   ]
  },
  {
   "cell_type": "code",
   "execution_count": 5,
   "id": "a4971fcc",
   "metadata": {},
   "outputs": [
    {
     "name": "stdout",
     "output_type": "stream",
     "text": [
      "110\n"
     ]
    }
   ],
   "source": [
    "x=lambda a,b,c,d:(a*b+(c-d))\n",
    "print(x(100,1,20,10))"
   ]
  },
  {
   "cell_type": "code",
   "execution_count": null,
   "id": "64c3f887",
   "metadata": {},
   "outputs": [],
   "source": []
  }
 ],
 "metadata": {
  "kernelspec": {
   "display_name": "Python 3 (ipykernel)",
   "language": "python",
   "name": "python3"
  },
  "language_info": {
   "codemirror_mode": {
    "name": "ipython",
    "version": 3
   },
   "file_extension": ".py",
   "mimetype": "text/x-python",
   "name": "python",
   "nbconvert_exporter": "python",
   "pygments_lexer": "ipython3",
   "version": "3.10.9"
  }
 },
 "nbformat": 4,
 "nbformat_minor": 5
}
