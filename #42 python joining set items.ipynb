{
 "cells": [
  {
   "cell_type": "code",
   "execution_count": 1,
   "id": "44d4628b",
   "metadata": {},
   "outputs": [
    {
     "name": "stdout",
     "output_type": "stream",
     "text": [
      "{'cherry', 'pori', 'kajol', 'purnima', 'apple', 'kiara', 'banana'}\n"
     ]
    }
   ],
   "source": [
    "# union () method\n",
    "set1={\"apple\",\"banana\",\"cherry\"}\n",
    "set2={\"pori\",\"kajol\",\"kiara\",\"purnima\"}\n",
    "set3=set1.union(set2)\n",
    "print(set3)"
   ]
  },
  {
   "cell_type": "code",
   "execution_count": 2,
   "id": "52f57956",
   "metadata": {},
   "outputs": [
    {
     "name": "stdout",
     "output_type": "stream",
     "text": [
      "{'cherry', 'pori', 'kajol', 'apple', 'kiara', 'munal', 'banana'}\n"
     ]
    }
   ],
   "source": [
    "# we can also use | operator instead of union() method for join set with set\n",
    "set1={\"apple\",\"banana\",\"cherry\"}\n",
    "set2={\"pori\",\"kajol\",\"munal\",\"kiara\"}\n",
    "set3=set1|set2\n",
    "print(set3)"
   ]
  },
  {
   "cell_type": "code",
   "execution_count": 4,
   "id": "550c6690",
   "metadata": {},
   "outputs": [
    {
     "name": "stdout",
     "output_type": "stream",
     "text": [
      "{'cherry', 'shreya', 'monir', 'arman', 'apple', 'kiara', 'banana', 'kiwi', 'neha', 'pori', 'priyanka', 'kajol', 'masum'}\n"
     ]
    }
   ],
   "source": [
    "set1={\"apple\",\"banana\",\"cherry\",\"kiwi\"}\n",
    "set2={\"pori\",\"kajol\",\"kiara\"}\n",
    "set3={\"arman\",\"monir\",\"masum\"}\n",
    "set4={\"neha\",\"priyanka\",\"shreya\"}\n",
    "myset=set1.union(set2,set3,set4)\n",
    "print(myset)"
   ]
  },
  {
   "cell_type": "code",
   "execution_count": 5,
   "id": "f194ae32",
   "metadata": {},
   "outputs": [
    {
     "name": "stdout",
     "output_type": "stream",
     "text": [
      "{'cherry', 'shreya', 'monir', 'arman', 'apple', 'kiara', 'banana', 'kiwi', 'neha', 'pori', 'priyanka', 'kajol', 'masum'}\n"
     ]
    }
   ],
   "source": [
    "myset=set1|set2|set3|set4\n",
    "print(myset)"
   ]
  },
  {
   "cell_type": "code",
   "execution_count": 6,
   "id": "c021950d",
   "metadata": {},
   "outputs": [
    {
     "name": "stdout",
     "output_type": "stream",
     "text": [
      "{2, 3, 4, 'a', 'b', 'banana', 'cheerry', 'c', 'appple'}\n"
     ]
    }
   ],
   "source": [
    "set11={\"appple\",\"banana\",\"cheerry\"}\n",
    "mytuple=(\"a\",\"b\",\"c\")\n",
    "mylist=(2,3,4)\n",
    "myset=set11.union(mytuple,mylist)\n",
    "print(myset)"
   ]
  },
  {
   "cell_type": "code",
   "execution_count": 7,
   "id": "754a485d",
   "metadata": {},
   "outputs": [
    {
     "name": "stdout",
     "output_type": "stream",
     "text": [
      "{'cherry', 1, 2, 3, 'apple', 44, 'banana'}\n"
     ]
    }
   ],
   "source": [
    "# update method\n",
    "set1={\"apple\",\"banana\",\"cherry\"}\n",
    "set2=(1,2,3,44)\n",
    "set1.update(set2)\n",
    "print(set1)"
   ]
  },
  {
   "cell_type": "code",
   "execution_count": 8,
   "id": "6f4fcc80",
   "metadata": {},
   "outputs": [
    {
     "name": "stdout",
     "output_type": "stream",
     "text": [
      "{'ami', 'kola', 'apple', 'kiara', 'banana', 'kiwi'}\n"
     ]
    }
   ],
   "source": [
    "set1={\"apple\",\"banana\"}\n",
    "set2={\"kiwi\",\"kola\"}\n",
    "set3={\"kiara\",\"ami\"}\n",
    "set1.update(set2,set3)\n",
    "print(set1)"
   ]
  },
  {
   "cell_type": "code",
   "execution_count": 9,
   "id": "c4daf612",
   "metadata": {},
   "outputs": [
    {
     "name": "stdout",
     "output_type": "stream",
     "text": [
      "{'cherry', 2, 4, 33, 'apple', 'kiara', 'munal', 45, 'banana', 3000}\n"
     ]
    }
   ],
   "source": [
    "set1={\"apple\",\"banana\",\"cherry\"}\n",
    "set2={\"kiara\",\"munal\"}\n",
    "set3=(2,33,4,45,3000)\n",
    "set1.update(set2,set3)\n",
    "print(set1)"
   ]
  },
  {
   "cell_type": "code",
   "execution_count": 13,
   "id": "e83ec684",
   "metadata": {},
   "outputs": [
    {
     "name": "stdout",
     "output_type": "stream",
     "text": [
      "{3, 'bannan', 4, 5, 'apple', 'tmi', 'ami'}\n"
     ]
    }
   ],
   "source": [
    "set1={\"apple\",\"bannan\"}\n",
    "set2={\"ami\",\"tmi\"}\n",
    "set3=(3,4,5)\n",
    "myset=set1.union(set2,set3)\n",
    "print(myset)"
   ]
  },
  {
   "cell_type": "code",
   "execution_count": 14,
   "id": "685fff32",
   "metadata": {},
   "outputs": [
    {
     "name": "stdout",
     "output_type": "stream",
     "text": [
      "{'apple'}\n"
     ]
    }
   ],
   "source": [
    "# intersection method\n",
    "set1={\"apple\",\"banana\",\"cherry\"}\n",
    "set2={\"ami\",\"apple\",\"kiara\"}\n",
    "set3=set1.intersection(set2)\n",
    "print(set3)"
   ]
  },
  {
   "cell_type": "code",
   "execution_count": 15,
   "id": "35738b25",
   "metadata": {},
   "outputs": [
    {
     "name": "stdout",
     "output_type": "stream",
     "text": [
      "{'cherry'}\n"
     ]
    }
   ],
   "source": [
    "# we can use & operator instead of intersection method\n",
    "set1={\"apple\",\"banana\",\"cherry\"}\n",
    "set2={\"munal\",\"neha\",\"cherry\"}\n",
    "set3=set1&set2\n",
    "print(set3)"
   ]
  },
  {
   "cell_type": "code",
   "execution_count": 17,
   "id": "72e55aa7",
   "metadata": {},
   "outputs": [
    {
     "name": "stdout",
     "output_type": "stream",
     "text": [
      "{'apple'}\n"
     ]
    }
   ],
   "source": [
    "set1={\"apple\",\"banana\",\"cherry\"}\n",
    "set2={\"munal\",\"rani\",\"cherry\",\"apple\"}\n",
    "set3=(\"apple\",\"tmi\",\"kiara\")\n",
    "set4=[\"apple\",\"banana\"]\n",
    "myset=set1.intersection(set2,set3,set4)\n",
    "print(myset)"
   ]
  },
  {
   "cell_type": "code",
   "execution_count": 19,
   "id": "a2261b9b",
   "metadata": {},
   "outputs": [
    {
     "name": "stdout",
     "output_type": "stream",
     "text": [
      "{'banana'}\n"
     ]
    }
   ],
   "source": [
    "set1={\"apple\",\"banana\",\"cherry\"}\n",
    "set2=(\"munal\",\"pori\",\"banana\")\n",
    "set3=[2,3,4,\"banana\"]\n",
    "set4={\"banana\",\"kola\"}\n",
    "myset=set1.intersection(set2,set3,set4)\n",
    "print(myset)"
   ]
  },
  {
   "cell_type": "code",
   "execution_count": 20,
   "id": "2d181f6c",
   "metadata": {},
   "outputs": [
    {
     "name": "stdout",
     "output_type": "stream",
     "text": [
      "{'cherry'}\n"
     ]
    }
   ],
   "source": [
    "# difference method\n",
    "set1={\"apple\",\"banana\",\"cherry\"}\n",
    "set2=(\"pori\",\"banana\",\"kola\")\n",
    "set3=[\"apple\",\"banana\",\"mai\"]\n",
    "myset=set1.difference(set2,set3)\n",
    "print(myset)"
   ]
  },
  {
   "cell_type": "code",
   "execution_count": 24,
   "id": "d785b234",
   "metadata": {},
   "outputs": [
    {
     "name": "stdout",
     "output_type": "stream",
     "text": [
      "{'cheryy', 'banana'}\n"
     ]
    }
   ],
   "source": [
    "# we can use - operator instead of differrence method for joining set with set\n",
    "set1={\"apple\",\"banana\",\"cheryy\"}\n",
    "set2={\"apple\",\"fb\",\"microsoft\"}\n",
    "myset=set1-set2\n",
    "print(myset)"
   ]
  },
  {
   "cell_type": "code",
   "execution_count": 1,
   "id": "07dc03f2",
   "metadata": {},
   "outputs": [
    {
     "name": "stdout",
     "output_type": "stream",
     "text": [
      "{'nehal', 'arhan', 'cherry', 'joy', 'banana', 'kiwi', 'apple', 'pritam', 'arman'}\n"
     ]
    }
   ],
   "source": [
    "set1={\"apple\",\"banana\",\"cherry\",\"kiwi\"}\n",
    "set2={\"arman\",\"joy\"}\n",
    "set3={\"arhan\",\"nehal\",\"pritam\"}\n",
    "myset=set1.union(set2,set3)\n",
    "print(myset)"
   ]
  },
  {
   "cell_type": "code",
   "execution_count": 2,
   "id": "e8d0ee25",
   "metadata": {},
   "outputs": [
    {
     "name": "stdout",
     "output_type": "stream",
     "text": [
      "{'nehal', 'arhan', 'cherry', 'joy', 'banana', 'kiwi', 'apple', 'pritam', 'arman'}\n"
     ]
    }
   ],
   "source": [
    "set1={\"apple\",\"banana\",\"cherry\",\"kiwi\"}\n",
    "set2={\"arman\",\"joy\"}\n",
    "set3={\"arhan\",\"nehal\",\"pritam\"}\n",
    "myset=set1|set2|set3\n",
    "print(myset)"
   ]
  },
  {
   "cell_type": "code",
   "execution_count": 5,
   "id": "44ecae70",
   "metadata": {},
   "outputs": [
    {
     "name": "stdout",
     "output_type": "stream",
     "text": [
      "{'pritam', 'nehal', 'arhan', 'nrhal'}\n"
     ]
    }
   ],
   "source": [
    "set1={\"apple\",\"banana\",\"cherry\",\"kiwi\"}\n",
    "set2={\"arman\",\"joy\"}\n",
    "set3={\"arhan\",\"nehal\",\"pritam\"}\n",
    "mytuple=(\"nrhal\",\"pritam\",\"arhan\")\n",
    "myset=set3.union(mytuple)\n",
    "print(myset)"
   ]
  },
  {
   "cell_type": "code",
   "execution_count": 11,
   "id": "8f48a7c8",
   "metadata": {},
   "outputs": [
    {
     "name": "stdout",
     "output_type": "stream",
     "text": [
      "{'pritam', 'nehal', 'arhan', 'nrhal'}\n"
     ]
    }
   ],
   "source": [
    "set1={\"apple\",\"banana\",\"cherry\",\"kiwi\"}\n",
    "set2={\"arman\",\"joy\"}\n",
    "set3={\"arhan\",\"nehal\",\"pritam\"}\n",
    "mytuple=(\"nrhal\",\"pritam\",\"arhan\")\n",
    "myset=set3.union(mytuple)\n",
    "print(myset)"
   ]
  },
  {
   "cell_type": "code",
   "execution_count": 12,
   "id": "dd715379",
   "metadata": {},
   "outputs": [
    {
     "name": "stdout",
     "output_type": "stream",
     "text": [
      "{'pritam', 'nehal', 'arhan', 'nrhal'}\n"
     ]
    }
   ],
   "source": [
    "set3={\"arhan\",\"nehal\",\"pritam\"}\n",
    "mytuple=(\"nrhal\",\"pritam\",\"arhan\")\n",
    "set3.union(mytuple)\n",
    "print(x)"
   ]
  },
  {
   "cell_type": "code",
   "execution_count": 13,
   "id": "848944fd",
   "metadata": {},
   "outputs": [
    {
     "name": "stdout",
     "output_type": "stream",
     "text": [
      "None\n"
     ]
    }
   ],
   "source": [
    "set3={\"arhan\",\"nehal\",\"pritam\"}\n",
    "mytuple=(\"nrhal\",\"pritam\",\"arhan\")\n",
    "x=set3.update(mytuple)\n",
    "print(x)"
   ]
  },
  {
   "cell_type": "code",
   "execution_count": 1,
   "id": "da852596",
   "metadata": {},
   "outputs": [
    {
     "name": "stdout",
     "output_type": "stream",
     "text": [
      "{'apple', 'nehal', 'cherry', 'joy', 'banana', 'watermalon', 'arman'}\n"
     ]
    }
   ],
   "source": [
    "myset={\"arman\",\"joy\",\"nehal\"}\n",
    "set2={\"apple\",\"banana\",\"cherry\"}\n",
    "set3={\"arman\",\"banana\",\"watermalon\"}\n",
    "uset=myset.union(set2,set3)\n",
    "print(uset)"
   ]
  },
  {
   "cell_type": "code",
   "execution_count": 6,
   "id": "2856b729",
   "metadata": {},
   "outputs": [
    {
     "name": "stdout",
     "output_type": "stream",
     "text": [
      "{'apple', 'nehal', 'cherry', 'joy', 'banana', 'watermalon', 'arman'}\n"
     ]
    }
   ],
   "source": [
    "myset={\"arman\",\"joy\",\"nehal\"}\n",
    "set2={\"apple\",\"banana\",\"cherry\"}\n",
    "set3={\"arman\",\"banana\",\"watermalon\"}\n",
    "uset=myset|set2|set3\n",
    "print(uset)"
   ]
  },
  {
   "cell_type": "code",
   "execution_count": 4,
   "id": "e49feae1",
   "metadata": {},
   "outputs": [
    {
     "name": "stdout",
     "output_type": "stream",
     "text": [
      "{'apple', 'nehal', 'cherry', 'joy', 'banana', 'watermalon', 'arman'}\n"
     ]
    }
   ],
   "source": [
    "myset={\"arman\",\"joy\",\"nehal\"}\n",
    "set2={\"apple\",\"banana\",\"cherry\"}\n",
    "set3={\"arman\",\"banana\",\"watermalon\"}\n",
    "myset.update(set2,set3)\n",
    "print(myset)"
   ]
  },
  {
   "cell_type": "code",
   "execution_count": 9,
   "id": "effe389d",
   "metadata": {},
   "outputs": [
    {
     "name": "stdout",
     "output_type": "stream",
     "text": [
      "{'arman'}\n"
     ]
    }
   ],
   "source": [
    "myset={\"arman\",\"joy\",\"nehal\"}\n",
    "set2={\"apple\",\"banana\",\"cherry\",\"arman\"}\n",
    "set3={\"arman\",\"banana\",\"watermalon\"}\n",
    "iset=myset.intersection(set2,set3)\n",
    "print(iset)"
   ]
  },
  {
   "cell_type": "code",
   "execution_count": 10,
   "id": "c84c7343",
   "metadata": {},
   "outputs": [
    {
     "name": "stdout",
     "output_type": "stream",
     "text": [
      "set()\n"
     ]
    }
   ],
   "source": [
    "myset={\"arman\",\"joy\",\"nehal\"}\n",
    "set2={\"apple\",\"banana\",\"cherry\"}\n",
    "set3={\"arman\",\"banana\",\"watermalon\"}\n",
    "iset=myset.intersection(set2,set3)\n",
    "print(iset)  #3tar modde common nai tai faka set ans"
   ]
  },
  {
   "cell_type": "code",
   "execution_count": 11,
   "id": "617def3c",
   "metadata": {},
   "outputs": [
    {
     "name": "stdout",
     "output_type": "stream",
     "text": [
      "set()\n"
     ]
    }
   ],
   "source": [
    "myset={\"arman\",\"joy\",\"nehal\"}\n",
    "set2={\"apple\",\"banana\",\"cherry\"}\n",
    "set3={\"arman\",\"banana\",\"watermalon\"}\n",
    "iset=myset&set2&set3\n",
    "print(iset)  #& is the sort for intersection method"
   ]
  },
  {
   "cell_type": "code",
   "execution_count": 15,
   "id": "baa3ee5f",
   "metadata": {},
   "outputs": [
    {
     "name": "stdout",
     "output_type": "stream",
     "text": [
      "None\n"
     ]
    }
   ],
   "source": [
    "myset={\"arman\",\"joy\",\"nehal\"}\n",
    "set2={\"apple\",\"banana\",\"cherry\",\"arman\"}\n",
    "set3={\"arman\",\"banana\",\"watermalon\"}\n",
    "iset=myset.intersection_update(set2,set3)\n",
    "print(iset)"
   ]
  },
  {
   "cell_type": "code",
   "execution_count": 17,
   "id": "7046a129",
   "metadata": {},
   "outputs": [
    {
     "name": "stdout",
     "output_type": "stream",
     "text": [
      "{'nehal', 'joy'}\n"
     ]
    }
   ],
   "source": [
    "myset={\"arman\",\"joy\",\"nehal\"}\n",
    "set2={\"apple\",\"banana\",\"cherry\"}\n",
    "set3={\"arman\",\"banana\",\"watermalon\"}\n",
    "dset=myset.difference(set2,set3)\n",
    "print(dset) #difference taka iteam from the 1st set those are not found in other set"
   ]
  },
  {
   "cell_type": "code",
   "execution_count": 22,
   "id": "8c701efb",
   "metadata": {},
   "outputs": [
    {
     "name": "stdout",
     "output_type": "stream",
     "text": [
      "{'nehal', 'arhan', 'pritam'}\n"
     ]
    }
   ],
   "source": [
    "myset={\"arman\",\"joy\",\"nehal\",\"arhan\",\"pritam\"}\n",
    "set2={\"apple\",\"banana\",\"cherry\"}\n",
    "set3={\"arman\",\"banana\",\"watermalon\",\"joy\"}\n",
    "dset=myset.difference(set2,set3)\n",
    "print(dset)"
   ]
  },
  {
   "cell_type": "code",
   "execution_count": 19,
   "id": "3b0ec412",
   "metadata": {},
   "outputs": [
    {
     "name": "stdout",
     "output_type": "stream",
     "text": [
      "{'nehal', 'joy'}\n"
     ]
    }
   ],
   "source": [
    "myset={\"arman\",\"joy\",\"nehal\"}\n",
    "set2={\"apple\",\"banana\",\"cherry\"}\n",
    "set3={\"arman\",\"banana\",\"watermalon\"}\n",
    "dset=myset-set2-set3\n",
    "print(dset)  #we can use - instead of difference method"
   ]
  },
  {
   "cell_type": "code",
   "execution_count": 28,
   "id": "faeb62f2",
   "metadata": {},
   "outputs": [
    {
     "name": "stdout",
     "output_type": "stream",
     "text": [
      "{'apple', 'cherry', 'watermalon', 'arman'}\n"
     ]
    }
   ],
   "source": [
    "# Symmetric difference\n",
    "myset={\"arman\",\"joy\",\"nehal\"}\n",
    "set2={\"apple\",\"banana\",\"cherry\"}\n",
    "set3={\"arman\",\"banana\",\"watermalon\"}\n",
    "set4=set2.symmetric_difference(set3)\n",
    "print(set4) #symmetric_difference take all the iteams accept duplicates"
   ]
  },
  {
   "cell_type": "code",
   "execution_count": 31,
   "id": "9152c8c8",
   "metadata": {},
   "outputs": [
    {
     "ename": "TypeError",
     "evalue": "set.symmetric_difference() takes exactly one argument (2 given)",
     "output_type": "error",
     "traceback": [
      "\u001b[1;31m---------------------------------------------------------------------------\u001b[0m",
      "\u001b[1;31mTypeError\u001b[0m                                 Traceback (most recent call last)",
      "Cell \u001b[1;32mIn[31], line 4\u001b[0m\n\u001b[0;32m      2\u001b[0m set2\u001b[38;5;241m=\u001b[39m{\u001b[38;5;124m\"\u001b[39m\u001b[38;5;124mapple\u001b[39m\u001b[38;5;124m\"\u001b[39m,\u001b[38;5;124m\"\u001b[39m\u001b[38;5;124mbanana\u001b[39m\u001b[38;5;124m\"\u001b[39m,\u001b[38;5;124m\"\u001b[39m\u001b[38;5;124mcherry\u001b[39m\u001b[38;5;124m\"\u001b[39m}\n\u001b[0;32m      3\u001b[0m set3\u001b[38;5;241m=\u001b[39m{\u001b[38;5;124m\"\u001b[39m\u001b[38;5;124marman\u001b[39m\u001b[38;5;124m\"\u001b[39m,\u001b[38;5;124m\"\u001b[39m\u001b[38;5;124mbanana\u001b[39m\u001b[38;5;124m\"\u001b[39m,\u001b[38;5;124m\"\u001b[39m\u001b[38;5;124mwatermalon\u001b[39m\u001b[38;5;124m\"\u001b[39m}\n\u001b[1;32m----> 4\u001b[0m syset\u001b[38;5;241m=\u001b[39m\u001b[43mmyset\u001b[49m\u001b[38;5;241;43m.\u001b[39;49m\u001b[43msymmetric_difference\u001b[49m\u001b[43m(\u001b[49m\u001b[43mset3\u001b[49m\u001b[43m,\u001b[49m\u001b[43mset2\u001b[49m\u001b[43m)\u001b[49m\n\u001b[0;32m      5\u001b[0m \u001b[38;5;28mprint\u001b[39m(syset)\n",
      "\u001b[1;31mTypeError\u001b[0m: set.symmetric_difference() takes exactly one argument (2 given)"
     ]
    }
   ],
   "source": [
    "myset={\"arman\",\"joy\",\"nehal\"}\n",
    "set2={\"apple\",\"banana\",\"cherry\"}\n",
    "set3={\"arman\",\"banana\",\"watermalon\"}\n",
    "syset=myset.symmetric_difference(set3,set2)\n",
    "print(syset)\n"
   ]
  },
  {
   "cell_type": "code",
   "execution_count": null,
   "id": "93e8978d",
   "metadata": {},
   "outputs": [],
   "source": []
  }
 ],
 "metadata": {
  "kernelspec": {
   "display_name": "Python 3 (ipykernel)",
   "language": "python",
   "name": "python3"
  },
  "language_info": {
   "codemirror_mode": {
    "name": "ipython",
    "version": 3
   },
   "file_extension": ".py",
   "mimetype": "text/x-python",
   "name": "python",
   "nbconvert_exporter": "python",
   "pygments_lexer": "ipython3",
   "version": "3.10.9"
  }
 },
 "nbformat": 4,
 "nbformat_minor": 5
}
