{
 "cells": [
  {
   "cell_type": "code",
   "execution_count": 1,
   "id": "11f98aed",
   "metadata": {},
   "outputs": [
    {
     "name": "stdout",
     "output_type": "stream",
     "text": [
      "alem\n"
     ]
    }
   ],
   "source": [
    "# indexing list\n",
    "hablu=['emon','hujur','alem','jalem']\n",
    "print(hablu[2])"
   ]
  },
  {
   "cell_type": "code",
   "execution_count": 2,
   "id": "90a08d5b",
   "metadata": {},
   "outputs": [
    {
     "name": "stdout",
     "output_type": "stream",
     "text": [
      "['emon', 'hujur', 'alem', 'beda']\n"
     ]
    }
   ],
   "source": [
    "hablu[3]='beda'\n",
    "print(hablu)"
   ]
  },
  {
   "cell_type": "code",
   "execution_count": 3,
   "id": "38153c7d",
   "metadata": {},
   "outputs": [
    {
     "name": "stdout",
     "output_type": "stream",
     "text": [
      "joy\n"
     ]
    }
   ],
   "source": [
    "list=['arman','masum','monir','joy']\n",
    "print(list[-1])"
   ]
  },
  {
   "cell_type": "code",
   "execution_count": 4,
   "id": "33680aec",
   "metadata": {},
   "outputs": [
    {
     "name": "stdout",
     "output_type": "stream",
     "text": [
      "['arman', 'masum', 'monir', 'nehal']\n"
     ]
    }
   ],
   "source": [
    "# negetive indexing\n",
    "list[-1]='nehal'\n",
    "print(list)"
   ]
  },
  {
   "cell_type": "code",
   "execution_count": 5,
   "id": "f8f27588",
   "metadata": {},
   "outputs": [
    {
     "name": "stdout",
     "output_type": "stream",
     "text": [
      "['arman', 'masum', 'MONIR', 'nehal']\n"
     ]
    }
   ],
   "source": [
    "list[-2]='MONIR'\n",
    "print(list)"
   ]
  },
  {
   "cell_type": "code",
   "execution_count": 1,
   "id": "9780363e",
   "metadata": {},
   "outputs": [
    {
     "name": "stdout",
     "output_type": "stream",
     "text": [
      "['pori', 'moni', 'thakur', 'kiara']\n"
     ]
    }
   ],
   "source": [
    "mylist=[\"pori\",\"moni\",\"mrunal\",\"kiara\"]\n",
    "mylist[-2]=\"thakur\"\n",
    "print(mylist)"
   ]
  },
  {
   "cell_type": "code",
   "execution_count": 2,
   "id": "28080b2e",
   "metadata": {},
   "outputs": [
    {
     "name": "stdout",
     "output_type": "stream",
     "text": [
      "kiara\n"
     ]
    }
   ],
   "source": [
    "print(mylist[-1])"
   ]
  },
  {
   "cell_type": "code",
   "execution_count": null,
   "id": "24d8f719",
   "metadata": {},
   "outputs": [],
   "source": []
  }
 ],
 "metadata": {
  "kernelspec": {
   "display_name": "Python 3 (ipykernel)",
   "language": "python",
   "name": "python3"
  },
  "language_info": {
   "codemirror_mode": {
    "name": "ipython",
    "version": 3
   },
   "file_extension": ".py",
   "mimetype": "text/x-python",
   "name": "python",
   "nbconvert_exporter": "python",
   "pygments_lexer": "ipython3",
   "version": "3.10.9"
  }
 },
 "nbformat": 4,
 "nbformat_minor": 5
}
