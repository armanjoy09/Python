{
 "cells": [
  {
   "cell_type": "code",
   "execution_count": 1,
   "id": "82201a02",
   "metadata": {},
   "outputs": [
    {
     "name": "stdout",
     "output_type": "stream",
     "text": [
      "<class 'tuple'>\n"
     ]
    }
   ],
   "source": [
    "# tuple type\n",
    "newtuple=(\"apple\",\"banana\",\"cherry\",\"kiwi\")\n",
    "print(type(newtuple))"
   ]
  },
  {
   "cell_type": "code",
   "execution_count": 2,
   "id": "36863678",
   "metadata": {},
   "outputs": [
    {
     "ename": "TypeError",
     "evalue": "'tuple' object does not support item assignment",
     "output_type": "error",
     "traceback": [
      "\u001b[1;31m---------------------------------------------------------------------------\u001b[0m",
      "\u001b[1;31mTypeError\u001b[0m                                 Traceback (most recent call last)",
      "Cell \u001b[1;32mIn[2], line 1\u001b[0m\n\u001b[1;32m----> 1\u001b[0m newtuple[\u001b[38;5;241m2\u001b[39m]\u001b[38;5;241m=\u001b[39m\u001b[38;5;124m\"\u001b[39m\u001b[38;5;124mmango\u001b[39m\u001b[38;5;124m\"\u001b[39m\n\u001b[0;32m      2\u001b[0m \u001b[38;5;28mprint\u001b[39m(newtuple)\n",
      "\u001b[1;31mTypeError\u001b[0m: 'tuple' object does not support item assignment"
     ]
    }
   ],
   "source": [
    "newtuple[2]=\"mango\"\n",
    "print(newtuple)"
   ]
  },
  {
   "cell_type": "code",
   "execution_count": 3,
   "id": "255c40ac",
   "metadata": {},
   "outputs": [
    {
     "name": "stdout",
     "output_type": "stream",
     "text": [
      "cherry\n"
     ]
    }
   ],
   "source": [
    "newtuple=(\"apple\",\"banana\",\"cherry\",\"kiwi\")\n",
    "print(newtuple[2])"
   ]
  },
  {
   "cell_type": "code",
   "execution_count": 4,
   "id": "8a38d829",
   "metadata": {},
   "outputs": [
    {
     "name": "stdout",
     "output_type": "stream",
     "text": [
      "cherry\n"
     ]
    }
   ],
   "source": [
    "print(newtuple[-2])"
   ]
  },
  {
   "cell_type": "code",
   "execution_count": 9,
   "id": "eb1ff8b1",
   "metadata": {},
   "outputs": [
    {
     "name": "stdout",
     "output_type": "stream",
     "text": [
      "('cherry', 'banana', 'kiwi', 'mango')\n"
     ]
    }
   ],
   "source": [
    "newtuple=(\"appple\",\"cherry\",\"banana\",\"kiwi\",\"mango\")\n",
    "print(newtuple[1:5])"
   ]
  },
  {
   "cell_type": "code",
   "execution_count": null,
   "id": "4919d8bc",
   "metadata": {},
   "outputs": [],
   "source": []
  },
  {
   "cell_type": "code",
   "execution_count": null,
   "id": "0b487d30",
   "metadata": {},
   "outputs": [],
   "source": []
  },
  {
   "cell_type": "code",
   "execution_count": 11,
   "id": "a480bdb2",
   "metadata": {},
   "outputs": [
    {
     "name": "stdout",
     "output_type": "stream",
     "text": [
      "('mango', 'kiowi', 'cherry', 'melon')\n"
     ]
    }
   ],
   "source": [
    "newtuple=(\"apple\",\"banana\",\"mango\",\"kiowi\",\"cherry\",\"melon\")\n",
    "print(newtuple[2:6])"
   ]
  },
  {
   "cell_type": "code",
   "execution_count": 1,
   "id": "4f464c24",
   "metadata": {},
   "outputs": [
    {
     "name": "stdout",
     "output_type": "stream",
     "text": [
      "<class 'tuple'>\n"
     ]
    }
   ],
   "source": [
    "newtuple=(\"apple\",\"banana\",\"cherry\")\n",
    "print(type(newtuple))"
   ]
  },
  {
   "cell_type": "code",
   "execution_count": 2,
   "id": "aa226f84",
   "metadata": {},
   "outputs": [
    {
     "name": "stdout",
     "output_type": "stream",
     "text": [
      "cherry\n"
     ]
    }
   ],
   "source": [
    "newtuple=(\"apple\",\"banana\",\"cherry\")\n",
    "print(newtuple[2])\n"
   ]
  },
  {
   "cell_type": "code",
   "execution_count": 3,
   "id": "1127e037",
   "metadata": {},
   "outputs": [
    {
     "ename": "TypeError",
     "evalue": "'tuple' object does not support item assignment",
     "output_type": "error",
     "traceback": [
      "\u001b[1;31m---------------------------------------------------------------------------\u001b[0m",
      "\u001b[1;31mTypeError\u001b[0m                                 Traceback (most recent call last)",
      "Cell \u001b[1;32mIn[3], line 2\u001b[0m\n\u001b[0;32m      1\u001b[0m newtuple\u001b[38;5;241m=\u001b[39m(\u001b[38;5;124m\"\u001b[39m\u001b[38;5;124mapple\u001b[39m\u001b[38;5;124m\"\u001b[39m,\u001b[38;5;124m\"\u001b[39m\u001b[38;5;124mbanana\u001b[39m\u001b[38;5;124m\"\u001b[39m,\u001b[38;5;124m\"\u001b[39m\u001b[38;5;124mcherry\u001b[39m\u001b[38;5;124m\"\u001b[39m)\n\u001b[1;32m----> 2\u001b[0m newtuple[\u001b[38;5;241m1\u001b[39m]\u001b[38;5;241m=\u001b[39m\u001b[38;5;124m\"\u001b[39m\u001b[38;5;124mkiwi\u001b[39m\u001b[38;5;124m\"\u001b[39m\n\u001b[0;32m      3\u001b[0m \u001b[38;5;28mprint\u001b[39m(newtuple)\n",
      "\u001b[1;31mTypeError\u001b[0m: 'tuple' object does not support item assignment"
     ]
    }
   ],
   "source": [
    "newtuple=(\"apple\",\"banana\",\"cherry\")\n",
    "newtuple[1]=\"kiwi\"\n",
    "print(newtuple)"
   ]
  },
  {
   "cell_type": "code",
   "execution_count": 5,
   "id": "08c88528",
   "metadata": {},
   "outputs": [
    {
     "name": "stdout",
     "output_type": "stream",
     "text": [
      "('banana', 'cherry', 'kiwi', 'mango')\n"
     ]
    }
   ],
   "source": [
    "newtuple=(\"apple\",\"banana\",\"cherry\",\"kiwi\",\"mango\")\n",
    "print(newtuple[1:5])"
   ]
  },
  {
   "cell_type": "code",
   "execution_count": 6,
   "id": "4e00cff9",
   "metadata": {},
   "outputs": [
    {
     "name": "stdout",
     "output_type": "stream",
     "text": [
      "<class 'tuple'>\n"
     ]
    }
   ],
   "source": [
    "newtuple=(\"apple\",\"banana\",\"cherry\")\n",
    "print(type(newtuple))\n"
   ]
  },
  {
   "cell_type": "code",
   "execution_count": 8,
   "id": "8db2c5ac",
   "metadata": {},
   "outputs": [
    {
     "name": "stdout",
     "output_type": "stream",
     "text": [
      "kiwi\n"
     ]
    }
   ],
   "source": [
    "newtuple=(\"apple\",\"banana\",\"cherry\",\"kiwi\",\"mango\")\n",
    "print(newtuple[3])"
   ]
  },
  {
   "cell_type": "code",
   "execution_count": 9,
   "id": "9c0304b9",
   "metadata": {},
   "outputs": [
    {
     "name": "stdout",
     "output_type": "stream",
     "text": [
      "('cherry', 'kiwi', 'mango')\n"
     ]
    }
   ],
   "source": [
    "print(newtuple[2:6])"
   ]
  },
  {
   "cell_type": "code",
   "execution_count": 1,
   "id": "b19e79dc",
   "metadata": {},
   "outputs": [
    {
     "name": "stdout",
     "output_type": "stream",
     "text": [
      "<class 'tuple'>\n"
     ]
    }
   ],
   "source": [
    "mytuple=(\"joy\",\"nehal\",100,True,False)\n",
    "print(type(mytuple))"
   ]
  },
  {
   "cell_type": "code",
   "execution_count": 2,
   "id": "e2acc6e2",
   "metadata": {},
   "outputs": [
    {
     "name": "stdout",
     "output_type": "stream",
     "text": [
      "joy\n"
     ]
    }
   ],
   "source": [
    "mytuole=(\"arman\",\"joy\",200,True)\n",
    "print(mytuole[1])"
   ]
  },
  {
   "cell_type": "code",
   "execution_count": 4,
   "id": "943d97d8",
   "metadata": {},
   "outputs": [
    {
     "name": "stdout",
     "output_type": "stream",
     "text": [
      "True\n"
     ]
    }
   ],
   "source": [
    "print(mytuole[3])"
   ]
  },
  {
   "cell_type": "code",
   "execution_count": 6,
   "id": "64e1d145",
   "metadata": {},
   "outputs": [
    {
     "name": "stdout",
     "output_type": "stream",
     "text": [
      "200\n"
     ]
    }
   ],
   "source": [
    "print(mytuole[-2])"
   ]
  },
  {
   "cell_type": "code",
   "execution_count": 7,
   "id": "0e90f739",
   "metadata": {},
   "outputs": [
    {
     "name": "stdout",
     "output_type": "stream",
     "text": [
      "arman\n"
     ]
    }
   ],
   "source": [
    "print(mytuole[-4])"
   ]
  },
  {
   "cell_type": "code",
   "execution_count": 10,
   "id": "9c29937e",
   "metadata": {},
   "outputs": [
    {
     "name": "stdout",
     "output_type": "stream",
     "text": [
      "('pritam', 'nehal', 'arhan', 200)\n"
     ]
    }
   ],
   "source": [
    "# range of indexes\n",
    "mytuple=(\"arman\",\"joy\",\"pritam\",\"nehal\",\"arhan\",200,400,600,True,False,\"kiwi\")\n",
    "print(mytuple[2:6])"
   ]
  },
  {
   "cell_type": "code",
   "execution_count": 12,
   "id": "77474655",
   "metadata": {},
   "outputs": [
    {
     "name": "stdout",
     "output_type": "stream",
     "text": [
      "('nehal', 'arhan', 200, 400, 600, True, False, 'kiwi', [2, 3, 4])\n"
     ]
    }
   ],
   "source": [
    "mytuple=(\"arman\",\"joy\",\"pritam\",\"nehal\",\"arhan\",200,400,600,True,False,\"kiwi\",[2,3,4])\n",
    "print(mytuple[3:12])"
   ]
  },
  {
   "cell_type": "code",
   "execution_count": 13,
   "id": "53175d8a",
   "metadata": {},
   "outputs": [
    {
     "name": "stdout",
     "output_type": "stream",
     "text": [
      "<class 'tuple'>\n"
     ]
    }
   ],
   "source": [
    "print(type(mytuple))"
   ]
  },
  {
   "cell_type": "code",
   "execution_count": 14,
   "id": "86828e7a",
   "metadata": {},
   "outputs": [
    {
     "name": "stdout",
     "output_type": "stream",
     "text": [
      "False\n"
     ]
    }
   ],
   "source": [
    "print(mytuple[9])"
   ]
  },
  {
   "cell_type": "code",
   "execution_count": 17,
   "id": "243882b4",
   "metadata": {},
   "outputs": [
    {
     "name": "stdout",
     "output_type": "stream",
     "text": [
      "('arman', 'joy', 'pritam', 'nehal', 'arhan', 200, 400, 600, True, False, 'kiwi', [2, 3, 4])\n"
     ]
    }
   ],
   "source": [
    "print(mytuple[0:12])"
   ]
  },
  {
   "cell_type": "code",
   "execution_count": 18,
   "id": "d8991e5c",
   "metadata": {},
   "outputs": [
    {
     "name": "stdout",
     "output_type": "stream",
     "text": [
      "('arhan', 200, 400, 600)\n"
     ]
    }
   ],
   "source": [
    "print(mytuple[4:8])"
   ]
  },
  {
   "cell_type": "code",
   "execution_count": null,
   "id": "48c2851f",
   "metadata": {},
   "outputs": [],
   "source": []
  }
 ],
 "metadata": {
  "kernelspec": {
   "display_name": "Python 3 (ipykernel)",
   "language": "python",
   "name": "python3"
  },
  "language_info": {
   "codemirror_mode": {
    "name": "ipython",
    "version": 3
   },
   "file_extension": ".py",
   "mimetype": "text/x-python",
   "name": "python",
   "nbconvert_exporter": "python",
   "pygments_lexer": "ipython3",
   "version": "3.10.9"
  }
 },
 "nbformat": 4,
 "nbformat_minor": 5
}
