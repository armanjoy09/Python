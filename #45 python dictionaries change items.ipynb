{
 "cells": [
  {
   "cell_type": "code",
   "execution_count": 2,
   "id": "f3f5567c",
   "metadata": {},
   "outputs": [
    {
     "name": "stdout",
     "output_type": "stream",
     "text": [
      "{'name': 'arman', 'university': 'islamic university', 'roll': '303040', 'year': '2026'}\n"
     ]
    }
   ],
   "source": [
    "thisdict={\n",
    "    \"name\":\"arman\",\n",
    "    \"university\":\"islamic university\",\n",
    "    \"roll\":\"303040\",\n",
    "    \"year\":\"2025\"\n",
    "}\n",
    "thisdict[\"year\"]=\"2026\"\n",
    "print(thisdict)"
   ]
  },
  {
   "cell_type": "code",
   "execution_count": 3,
   "id": "fc1667eb",
   "metadata": {},
   "outputs": [
    {
     "name": "stdout",
     "output_type": "stream",
     "text": [
      "{'name': 'arman', 'university': 'islamic university', 'roll': '303040', 'year': 2029}\n"
     ]
    }
   ],
   "source": [
    "thisdict[\"year\"]=2029\n",
    "print(thisdict)"
   ]
  },
  {
   "cell_type": "code",
   "execution_count": 4,
   "id": "d041f4c2",
   "metadata": {},
   "outputs": [
    {
     "name": "stdout",
     "output_type": "stream",
     "text": [
      "{'name': 'arman', 'university': 'islamic university', 'roll': '303040', 'year': 2030}\n"
     ]
    }
   ],
   "source": [
    "# update() methode\n",
    "thisdict.update({\"year\":2030})\n",
    "print(thisdict)"
   ]
  },
  {
   "cell_type": "code",
   "execution_count": 5,
   "id": "9367eb2b",
   "metadata": {},
   "outputs": [
    {
     "name": "stdout",
     "output_type": "stream",
     "text": [
      "{'name': 'arman', 'university': 'just', 'roll': '303040', 'year': 2030}\n"
     ]
    }
   ],
   "source": [
    "thisdict.update({\"university\":\"just\"})\n",
    "print(thisdict)"
   ]
  },
  {
   "cell_type": "code",
   "execution_count": 6,
   "id": "423450e1",
   "metadata": {},
   "outputs": [
    {
     "name": "stdout",
     "output_type": "stream",
     "text": [
      "{'myname': 'arman', 'university': 'islamic university', 'roll': 2029018}\n"
     ]
    }
   ],
   "source": [
    "mydict={\n",
    "    \"myname\":\"arman\",\n",
    "    \"university\":\"islamic university\",\n",
    "    \"roll\":\"304945\"\n",
    "}\n",
    "mydict[\"roll\"]=2029018\n",
    "print(mydict)"
   ]
  },
  {
   "cell_type": "code",
   "execution_count": 9,
   "id": "7139a631",
   "metadata": {},
   "outputs": [
    {
     "name": "stdout",
     "output_type": "stream",
     "text": [
      "{'myname': 'arman', 'university': 'islamic university', 'roll': '202938'}\n"
     ]
    }
   ],
   "source": [
    "mydict.update({\"roll\":\"202938\"})\n",
    "print(mydict)"
   ]
  },
  {
   "cell_type": "code",
   "execution_count": 4,
   "id": "14855528",
   "metadata": {},
   "outputs": [
    {
     "name": "stdout",
     "output_type": "stream",
     "text": [
      "{'brand': 'bmw', 'model': 'mb3039', 'year': 2009, 'colour': 'black'}\n"
     ]
    }
   ],
   "source": [
    "cardetails={\n",
    "    \"brand\":\"bmw\",\n",
    "    \"model\":\"mb3039\",\n",
    "    \"year\":\"2022\",\n",
    "    \"colour\":\"black\"\n",
    "}\n",
    "cardetails[\"year\"]=2009\n",
    "print(cardetails)\n"
   ]
  },
  {
   "cell_type": "code",
   "execution_count": 9,
   "id": "3871d0fc",
   "metadata": {},
   "outputs": [
    {
     "name": "stdout",
     "output_type": "stream",
     "text": [
      "{'name': 'arman', 'play': 'football', 'age': '23', 'department': 'BME'}\n"
     ]
    }
   ],
   "source": [
    "thisdict={\n",
    "    \"name\":\"arman\",\n",
    "    \"play\":\"football\",\n",
    "    \"age\":\"23\",\n",
    "    \"department\":\"BME\"\n",
    "}\n",
    "thisdict[\"play\"]:\"cricket\"\n",
    "print(thisdict)"
   ]
  },
  {
   "cell_type": "code",
   "execution_count": 10,
   "id": "85c203ba",
   "metadata": {},
   "outputs": [
    {
     "name": "stdout",
     "output_type": "stream",
     "text": [
      "{'name': 'arman', 'play': 'football', 'age': 34, 'department': 'BME'}\n"
     ]
    }
   ],
   "source": [
    "thisdict.update({\"age\":34})\n",
    "print(thisdict)"
   ]
  },
  {
   "cell_type": "code",
   "execution_count": 11,
   "id": "a93560e9",
   "metadata": {},
   "outputs": [
    {
     "name": "stdout",
     "output_type": "stream",
     "text": [
      "{'name': 'arman', 'play': 'football', 'age': 34, 'department': 'biomedical engineering'}\n"
     ]
    }
   ],
   "source": [
    "thisdict.update({\"department\":\"biomedical engineering\"})\n",
    "print(thisdict)"
   ]
  },
  {
   "cell_type": "code",
   "execution_count": 12,
   "id": "748fa263",
   "metadata": {},
   "outputs": [
    {
     "name": "stdout",
     "output_type": "stream",
     "text": [
      "{'name': 'arman', 'departmen': 'biomedical', 'session': '20-21', 'result': 3.31}\n"
     ]
    }
   ],
   "source": [
    "thisdict={\n",
    "    \"name\":\"arman\",\n",
    "    \"departmen\":\"biomedical\",\n",
    "    \"session\":\"20-21\",\n",
    "    \"result\":3.45\n",
    "}\n",
    "thisdict.update({\"result\":3.31})\n",
    "print(thisdict)"
   ]
  },
  {
   "cell_type": "code",
   "execution_count": 14,
   "id": "98b0d633",
   "metadata": {},
   "outputs": [
    {
     "name": "stdout",
     "output_type": "stream",
     "text": [
      "{'name': 'arman', 'departmen': 'biomedical', 'session': '20-21', 'result': 3.31}\n"
     ]
    }
   ],
   "source": [
    "thisdict[\"result\"]:3.45\n",
    "print(thisdict)"
   ]
  },
  {
   "cell_type": "code",
   "execution_count": null,
   "id": "823bd7ae",
   "metadata": {},
   "outputs": [],
   "source": []
  }
 ],
 "metadata": {
  "kernelspec": {
   "display_name": "Python 3 (ipykernel)",
   "language": "python",
   "name": "python3"
  },
  "language_info": {
   "codemirror_mode": {
    "name": "ipython",
    "version": 3
   },
   "file_extension": ".py",
   "mimetype": "text/x-python",
   "name": "python",
   "nbconvert_exporter": "python",
   "pygments_lexer": "ipython3",
   "version": "3.10.9"
  }
 },
 "nbformat": 4,
 "nbformat_minor": 5
}
