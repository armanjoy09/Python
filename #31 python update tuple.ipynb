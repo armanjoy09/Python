{
 "cells": [
  {
   "cell_type": "code",
   "execution_count": 1,
   "id": "b83433d7",
   "metadata": {},
   "outputs": [
    {
     "name": "stdout",
     "output_type": "stream",
     "text": [
      "('apple', 'banana', 'melon', 'orange')\n"
     ]
    }
   ],
   "source": [
    "# add items\n",
    "tuplelist=(\"apple\",\"banana\",\"melon\")\n",
    "y=list(tuplelist)\n",
    "y.append(\"orange\")\n",
    "x=tuple(y)\n",
    "print(x)"
   ]
  },
  {
   "cell_type": "code",
   "execution_count": 3,
   "id": "c6ad5de4",
   "metadata": {},
   "outputs": [
    {
     "name": "stdout",
     "output_type": "stream",
     "text": [
      "('appple', 'banana', 'mango', 'newtuple')\n"
     ]
    }
   ],
   "source": [
    "newtuple=(\"appple\",\"banana\",\"mango\")\n",
    "y=list(newtuple)\n",
    "y.append(\"newtuple\")\n",
    "x=tuple(y)\n",
    "print(x)"
   ]
  },
  {
   "cell_type": "code",
   "execution_count": 4,
   "id": "89cfde65",
   "metadata": {},
   "outputs": [
    {
     "name": "stdout",
     "output_type": "stream",
     "text": [
      "('apple', 'banana', 'orange')\n"
     ]
    }
   ],
   "source": [
    "# change items\n",
    "tuplelist=(\"apple\",\"banana\",\"melon\")\n",
    "y=list(tuplelist)\n",
    "y[2]=\"orange\"\n",
    "x=tuple(y)\n",
    "print(x)"
   ]
  },
  {
   "cell_type": "code",
   "execution_count": 5,
   "id": "71653907",
   "metadata": {},
   "outputs": [
    {
     "name": "stdout",
     "output_type": "stream",
     "text": [
      "('apple', 'kiwi', 'melon')\n"
     ]
    }
   ],
   "source": [
    "y=list(tuplelist)\n",
    "y[1]=\"kiwi\"\n",
    "x=tuple(y)\n",
    "print(x)"
   ]
  },
  {
   "cell_type": "code",
   "execution_count": 10,
   "id": "c93810e5",
   "metadata": {},
   "outputs": [
    {
     "name": "stdout",
     "output_type": "stream",
     "text": [
      "('apple', 'banana', 'melon', 'orange')\n"
     ]
    }
   ],
   "source": [
    "# add tuple to a tuple\n",
    "newtuple=(\"apple\",\"banana\",\"melon\")\n",
    "y=(\"orange\",)\n",
    "newtuple+=y\n",
    "print(newtuple)\n"
   ]
  },
  {
   "cell_type": "code",
   "execution_count": 11,
   "id": "6be28e80",
   "metadata": {},
   "outputs": [
    {
     "name": "stdout",
     "output_type": "stream",
     "text": [
      "('apple', 'banana', 'melon', 'orannge')\n"
     ]
    }
   ],
   "source": [
    "newtuple=(\"apple\",\"banana\",\"melon\")\n",
    "y=(\"orannge\",)\n",
    "newtuple+=y\n",
    "print(newtuple)\n"
   ]
  },
  {
   "cell_type": "code",
   "execution_count": 17,
   "id": "6003428c",
   "metadata": {},
   "outputs": [
    {
     "name": "stdout",
     "output_type": "stream",
     "text": [
      "('apple', 'banana', 'cherry', 'orange')\n"
     ]
    }
   ],
   "source": [
    "# remove tuple\n",
    "newtuple=(\"appple\",\"banana\",\"melon\")\n",
    "y=list(newtuple)\n",
    "y.remove(\"banana\")\n",
    "newtuple=tuple(y)\n",
    "print(x)"
   ]
  },
  {
   "cell_type": "code",
   "execution_count": 18,
   "id": "1c372ffc",
   "metadata": {},
   "outputs": [
    {
     "name": "stdout",
     "output_type": "stream",
     "text": [
      "('apple', 'banana')\n"
     ]
    }
   ],
   "source": [
    "newtuple=(\"apple\",\"banana\",\"melon\")\n",
    "y= list(newtuple)\n",
    "y.remove(\"melon\")\n",
    "newtuple=tuple(y)\n",
    "print(newtuple)"
   ]
  },
  {
   "cell_type": "code",
   "execution_count": 19,
   "id": "e2ffca94",
   "metadata": {},
   "outputs": [
    {
     "name": "stdout",
     "output_type": "stream",
     "text": [
      "('banana', 'orange')\n"
     ]
    }
   ],
   "source": [
    "thistuple=(\"apple\",\"banana\",\"orange\")\n",
    "y=list(thistuple)\n",
    "y.remove(\"apple\")\n",
    "thistuple=tuple(y)\n",
    "print(thistuple)"
   ]
  },
  {
   "cell_type": "markdown",
   "id": "6a20de03",
   "metadata": {},
   "source": [
    "thistuple=(\"apple\",\"banana\",\"melon\")\n",
    "y=list(thistuple)\n",
    "y.remove(\"apple\")\n",
    "x=tuple(\"y\")\n",
    "print(x)"
   ]
  },
  {
   "cell_type": "code",
   "execution_count": 20,
   "id": "6079e03a",
   "metadata": {},
   "outputs": [
    {
     "name": "stdout",
     "output_type": "stream",
     "text": [
      "('banana', 'melon')\n"
     ]
    }
   ],
   "source": [
    "newtuple=(\"apple\",\"banana\",\"melon\")\n",
    "y = list(newtuple)\n",
    "y.remove(\"apple\")\n",
    "x = tuple(y)\n",
    "print(x)"
   ]
  },
  {
   "cell_type": "code",
   "execution_count": 21,
   "id": "0e7f8256",
   "metadata": {},
   "outputs": [
    {
     "ename": "NameError",
     "evalue": "name 'newtuple' is not defined",
     "output_type": "error",
     "traceback": [
      "\u001b[1;31m---------------------------------------------------------------------------\u001b[0m",
      "\u001b[1;31mNameError\u001b[0m                                 Traceback (most recent call last)",
      "Cell \u001b[1;32mIn[21], line 3\u001b[0m\n\u001b[0;32m      1\u001b[0m newtuple\u001b[38;5;241m=\u001b[39m(\u001b[38;5;124m\"\u001b[39m\u001b[38;5;124mapple\u001b[39m\u001b[38;5;124m\"\u001b[39m,\u001b[38;5;124m\"\u001b[39m\u001b[38;5;124mbanana\u001b[39m\u001b[38;5;124m\"\u001b[39m,\u001b[38;5;124m\"\u001b[39m\u001b[38;5;124mmelon\u001b[39m\u001b[38;5;124m\"\u001b[39m)\n\u001b[0;32m      2\u001b[0m \u001b[38;5;28;01mdel\u001b[39;00m newtuple\n\u001b[1;32m----> 3\u001b[0m \u001b[38;5;28mprint\u001b[39m(\u001b[43mnewtuple\u001b[49m)\n",
      "\u001b[1;31mNameError\u001b[0m: name 'newtuple' is not defined"
     ]
    }
   ],
   "source": [
    "# delete tuple completely\n",
    "newtuple=(\"apple\",\"banana\",\"melon\")\n",
    "del newtuple\n",
    "print(newtuple)"
   ]
  },
  {
   "cell_type": "code",
   "execution_count": 22,
   "id": "b3fe8490",
   "metadata": {},
   "outputs": [
    {
     "name": "stdout",
     "output_type": "stream",
     "text": [
      "('banana', 'melon')\n"
     ]
    }
   ],
   "source": [
    "thistuple=(\"apple\",\"banana\",\"melon\")\n",
    "y=list(thistuple)\n",
    "y.remove(\"apple\")\n",
    "x=tuple(y)\n",
    "print(x)\n"
   ]
  },
  {
   "cell_type": "code",
   "execution_count": 3,
   "id": "6ac29c3f",
   "metadata": {},
   "outputs": [
    {
     "name": "stdout",
     "output_type": "stream",
     "text": [
      "('applle', 'banana', 'kiwi')\n"
     ]
    }
   ],
   "source": [
    "newtuple=(\"applle\",\"banana\",\"cherry\")\n",
    "y=list(newtuple)\n",
    "y[2]=\"kiwi\"\n",
    "newtuple=tuple(y)\n",
    "print(newtuple)"
   ]
  },
  {
   "cell_type": "code",
   "execution_count": 4,
   "id": "c0568469",
   "metadata": {},
   "outputs": [
    {
     "name": "stdout",
     "output_type": "stream",
     "text": [
      "('applle', 'kola', 'kiwi')\n"
     ]
    }
   ],
   "source": [
    "y=list(newtuple)\n",
    "y[1]=\"kola\"\n",
    "x=tuple(y)\n",
    "print(x)"
   ]
  },
  {
   "cell_type": "code",
   "execution_count": 5,
   "id": "2ce8b96e",
   "metadata": {},
   "outputs": [
    {
     "name": "stdout",
     "output_type": "stream",
     "text": [
      "('apple', 'banana', 'cherry', 'orange')\n"
     ]
    }
   ],
   "source": [
    "tuplelist=(\"apple\",\"banana\",\"cherry\")\n",
    "y=list(tuplelist)\n",
    "y.append(\"orange\")\n",
    "x=tuple(y)\n",
    "print(x)"
   ]
  },
  {
   "cell_type": "code",
   "execution_count": 23,
   "id": "eb42831f",
   "metadata": {},
   "outputs": [
    {
     "name": "stdout",
     "output_type": "stream",
     "text": [
      "('apple', 'banana', 'cherry', 'kiwi')\n"
     ]
    }
   ],
   "source": [
    "y=list(tuplelist)\n",
    "y.remove(\"orange\")\n",
    "x=tuple(y)\n",
    "print(x)"
   ]
  },
  {
   "cell_type": "code",
   "execution_count": 14,
   "id": "ce8ba17e",
   "metadata": {},
   "outputs": [
    {
     "name": "stdout",
     "output_type": "stream",
     "text": [
      "('apple', 'banana', 'cherry', 'orange', 'kiwi')\n"
     ]
    }
   ],
   "source": [
    "tuplelist=(\"apple\",\"banana\",\"cherry\")\n",
    "tuple2=(\"orange\",\"kiwi\")\n",
    "tuplelist += tuple2\n",
    "print(tuplelist)"
   ]
  },
  {
   "cell_type": "code",
   "execution_count": 15,
   "id": "a8b90344",
   "metadata": {},
   "outputs": [
    {
     "name": "stdout",
     "output_type": "stream",
     "text": [
      "(2, 3, 4, 'jpu', False, 'orange', 'niki')\n"
     ]
    }
   ],
   "source": [
    "mytuple=(2,3,4,\"jpu\",False)\n",
    "hertuple=(\"orange\",\"niki\")\n",
    "mytuple+=hertuple\n",
    "print(mytuple)"
   ]
  },
  {
   "cell_type": "code",
   "execution_count": 16,
   "id": "6cc50319",
   "metadata": {},
   "outputs": [
    {
     "name": "stdout",
     "output_type": "stream",
     "text": [
      "('banana', 'cherry')\n"
     ]
    }
   ],
   "source": [
    "thistuple=(\"apple\",\"banana\",\"cherry\")\n",
    "y=list(thistuple)\n",
    "y.remove(\"apple\")\n",
    "thistuple=tuple(y)\n",
    "print(thistuple)"
   ]
  },
  {
   "cell_type": "code",
   "execution_count": 1,
   "id": "1f83da15",
   "metadata": {},
   "outputs": [
    {
     "name": "stdout",
     "output_type": "stream",
     "text": [
      "('arman', 'joy', 'pritam', 500)\n"
     ]
    }
   ],
   "source": [
    "# change tuple\n",
    "newtuple=(\"arman\",\"joy\",\"nehal\",500)\n",
    "y=list(newtuple)\n",
    "y[2]=\"pritam\"\n",
    "x=tuple(y)\n",
    "print(x)"
   ]
  },
  {
   "cell_type": "code",
   "execution_count": 2,
   "id": "08b886fd",
   "metadata": {},
   "outputs": [
    {
     "name": "stdout",
     "output_type": "stream",
     "text": [
      "('arman', 'joy', 'nehal', 'pritam')\n"
     ]
    }
   ],
   "source": [
    "newtuple=(\"arman\",\"joy\",\"nehal\",500)\n",
    "y=list(newtuple)\n",
    "y[3]=\"pritam\"\n",
    "x=tuple(y)\n",
    "print(x)"
   ]
  },
  {
   "cell_type": "code",
   "execution_count": 3,
   "id": "261126a9",
   "metadata": {},
   "outputs": [
    {
     "name": "stdout",
     "output_type": "stream",
     "text": [
      "('srt', 'mtr', 'ntr', 'rtr', 'utr')\n"
     ]
    }
   ],
   "source": [
    "# add item in the tuple using append() method\n",
    "mytuple=(\"srt\",\"mtr\",\"ntr\",\"rtr\")\n",
    "y=list(mytuple)\n",
    "y.append(\"utr\")\n",
    "x=tuple(y)\n",
    "print(x)\n"
   ]
  },
  {
   "cell_type": "code",
   "execution_count": 4,
   "id": "d20b4486",
   "metadata": {},
   "outputs": [
    {
     "name": "stdout",
     "output_type": "stream",
     "text": [
      "('arman', 'joy', 'nehal', 500, 'pritam')\n"
     ]
    }
   ],
   "source": [
    "newtuple=(\"arman\",\"joy\",\"nehal\",500)\n",
    "y=list(newtuple)\n",
    "y.append(\"pritam\")\n",
    "x=tuple(y)\n",
    "print(x)"
   ]
  },
  {
   "cell_type": "code",
   "execution_count": 5,
   "id": "6f4f1d14",
   "metadata": {},
   "outputs": [
    {
     "name": "stdout",
     "output_type": "stream",
     "text": [
      "('arman', 'joy', 'nehal', 'pritam', 'arhan')\n"
     ]
    }
   ],
   "source": [
    "# join tuple\n",
    "mytuple=(\"arman\",\"joy\",\"nehal\")\n",
    "newtuple=(\"pritam\",\"arhan\")\n",
    "mytuple+=newtuple\n",
    "print(mytuple)"
   ]
  },
  {
   "cell_type": "code",
   "execution_count": 7,
   "id": "5133134f",
   "metadata": {},
   "outputs": [
    {
     "name": "stdout",
     "output_type": "stream",
     "text": [
      "('arman', 'joy', 'nehal', 'pritam', 'arhan')\n"
     ]
    }
   ],
   "source": [
    "print(mytuple)"
   ]
  },
  {
   "cell_type": "code",
   "execution_count": 8,
   "id": "2d4fc660",
   "metadata": {},
   "outputs": [
    {
     "name": "stdout",
     "output_type": "stream",
     "text": [
      "('arman', 'joy', 500, 'nehal', 1000)\n"
     ]
    }
   ],
   "source": [
    "t=(\"arman\",\"joy\",500)\n",
    "y=(\"nehal\",1000)\n",
    "t+=y\n",
    "print(t)"
   ]
  },
  {
   "cell_type": "code",
   "execution_count": 9,
   "id": "ec873af3",
   "metadata": {},
   "outputs": [
    {
     "name": "stdout",
     "output_type": "stream",
     "text": [
      "('arman', 'joy', 'arhan')\n"
     ]
    }
   ],
   "source": [
    "ty=(\"arman\",\"joy\",\"arhan\",\"nehal\")\n",
    "x=list(ty)\n",
    "x.remove(\"nehal\")\n",
    "tr=tuple(x)\n",
    "print(tr)"
   ]
  },
  {
   "cell_type": "code",
   "execution_count": 12,
   "id": "ea446743",
   "metadata": {},
   "outputs": [
    {
     "name": "stdout",
     "output_type": "stream",
     "text": [
      "('arman', 'joy', 'nehal')\n"
     ]
    }
   ],
   "source": [
    "new=(\"arman\",\"joy\",\"nehal\",\"pritam\")\n",
    "y=list(new)\n",
    "y.remove(\"pritam\")\n",
    "x=tuple(y)\n",
    "print(x)\n"
   ]
  },
  {
   "cell_type": "code",
   "execution_count": 13,
   "id": "ace2eaf4",
   "metadata": {},
   "outputs": [
    {
     "ename": "ValueError",
     "evalue": "list.remove(x): x not in list",
     "output_type": "error",
     "traceback": [
      "\u001b[1;31m---------------------------------------------------------------------------\u001b[0m",
      "\u001b[1;31mValueError\u001b[0m                                Traceback (most recent call last)",
      "Cell \u001b[1;32mIn[13], line 3\u001b[0m\n\u001b[0;32m      1\u001b[0m new\u001b[38;5;241m=\u001b[39m(\u001b[38;5;124m\"\u001b[39m\u001b[38;5;124marman\u001b[39m\u001b[38;5;124m\"\u001b[39m,\u001b[38;5;124m\"\u001b[39m\u001b[38;5;124mjoy\u001b[39m\u001b[38;5;124m\"\u001b[39m,\u001b[38;5;124m\"\u001b[39m\u001b[38;5;124mnehal\u001b[39m\u001b[38;5;124m\"\u001b[39m,\u001b[38;5;124m\"\u001b[39m\u001b[38;5;124mpritam\u001b[39m\u001b[38;5;124m\"\u001b[39m)\n\u001b[0;32m      2\u001b[0m y\u001b[38;5;241m=\u001b[39m\u001b[38;5;28mlist\u001b[39m(new)\n\u001b[1;32m----> 3\u001b[0m \u001b[43my\u001b[49m\u001b[38;5;241;43m.\u001b[39;49m\u001b[43mremove\u001b[49m\u001b[43m(\u001b[49m\u001b[43m[\u001b[49m\u001b[38;5;241;43m3\u001b[39;49m\u001b[43m]\u001b[49m\u001b[43m)\u001b[49m\n\u001b[0;32m      4\u001b[0m x\u001b[38;5;241m=\u001b[39m\u001b[38;5;28mtuple\u001b[39m(y)\n\u001b[0;32m      5\u001b[0m \u001b[38;5;28mprint\u001b[39m(x)\n",
      "\u001b[1;31mValueError\u001b[0m: list.remove(x): x not in list"
     ]
    }
   ],
   "source": [
    "new=(\"arman\",\"joy\",\"nehal\",\"pritam\")\n",
    "y=list(new)\n",
    "y.remove([3])\n",
    "x=tuple(y)\n",
    "print(x)\n"
   ]
  },
  {
   "cell_type": "code",
   "execution_count": 14,
   "id": "6888746c",
   "metadata": {},
   "outputs": [
    {
     "ename": "NameError",
     "evalue": "name 'new' is not defined",
     "output_type": "error",
     "traceback": [
      "\u001b[1;31m---------------------------------------------------------------------------\u001b[0m",
      "\u001b[1;31mNameError\u001b[0m                                 Traceback (most recent call last)",
      "Cell \u001b[1;32mIn[14], line 3\u001b[0m\n\u001b[0;32m      1\u001b[0m new\u001b[38;5;241m=\u001b[39m(\u001b[38;5;124m\"\u001b[39m\u001b[38;5;124marman\u001b[39m\u001b[38;5;124m\"\u001b[39m,\u001b[38;5;124m\"\u001b[39m\u001b[38;5;124mjoy\u001b[39m\u001b[38;5;124m\"\u001b[39m,\u001b[38;5;124m\"\u001b[39m\u001b[38;5;124mnehal\u001b[39m\u001b[38;5;124m\"\u001b[39m,\u001b[38;5;124m\"\u001b[39m\u001b[38;5;124mpritam\u001b[39m\u001b[38;5;124m\"\u001b[39m)\n\u001b[0;32m      2\u001b[0m \u001b[38;5;28;01mdel\u001b[39;00m new\n\u001b[1;32m----> 3\u001b[0m \u001b[38;5;28mprint\u001b[39m(\u001b[43mnew\u001b[49m)\n",
      "\u001b[1;31mNameError\u001b[0m: name 'new' is not defined"
     ]
    }
   ],
   "source": [
    "# delete the tuple completly using del keyword\n",
    "new=(\"arman\",\"joy\",\"nehal\",\"pritam\")\n",
    "del new\n",
    "print(new)  #error asbe karon tuple delete hoye gece"
   ]
  },
  {
   "cell_type": "code",
   "execution_count": 15,
   "id": "b2c1388c",
   "metadata": {},
   "outputs": [
    {
     "name": "stdout",
     "output_type": "stream",
     "text": [
      "('arman', 'joy', 'nehal', 'pritam', 'arman', 'joy', 'nehal', 'pritam', 'arman', 'joy', 'nehal', 'pritam')\n"
     ]
    }
   ],
   "source": [
    "# multiply tuple\n",
    "newtuple=(\"arman\",\"joy\",\"nehal\",\"pritam\")\n",
    "print(newtuple*3)"
   ]
  },
  {
   "cell_type": "code",
   "execution_count": 16,
   "id": "f5fc3d42",
   "metadata": {},
   "outputs": [
    {
     "name": "stdout",
     "output_type": "stream",
     "text": [
      "('arman', 'joy', 'nehal', 'pritam', 'arman', 'joy', 'nehal', 'pritam')\n"
     ]
    }
   ],
   "source": [
    "print(newtuple*2)"
   ]
  },
  {
   "cell_type": "code",
   "execution_count": null,
   "id": "b213b418",
   "metadata": {},
   "outputs": [],
   "source": []
  }
 ],
 "metadata": {
  "kernelspec": {
   "display_name": "Python 3 (ipykernel)",
   "language": "python",
   "name": "python3"
  },
  "language_info": {
   "codemirror_mode": {
    "name": "ipython",
    "version": 3
   },
   "file_extension": ".py",
   "mimetype": "text/x-python",
   "name": "python",
   "nbconvert_exporter": "python",
   "pygments_lexer": "ipython3",
   "version": "3.10.9"
  }
 },
 "nbformat": 4,
 "nbformat_minor": 5
}
