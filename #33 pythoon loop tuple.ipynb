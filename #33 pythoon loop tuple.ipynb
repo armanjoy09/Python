{
 "cells": [
  {
   "cell_type": "code",
   "execution_count": 1,
   "id": "c5b701b3",
   "metadata": {},
   "outputs": [
    {
     "name": "stdout",
     "output_type": "stream",
     "text": [
      "munal thakur\n",
      "porimoni\n",
      "kiara advani\n",
      "ketrina\n",
      "sonakskhi\n"
     ]
    }
   ],
   "source": [
    "# using for loop\n",
    "item=(\"munal thakur\",\"porimoni\",\"kiara advani\",\"ketrina\",\"sonakskhi\")\n",
    "for i in item:\n",
    "    print(i)"
   ]
  },
  {
   "cell_type": "code",
   "execution_count": 1,
   "id": "5adc48eb",
   "metadata": {},
   "outputs": [
    {
     "name": "stdout",
     "output_type": "stream",
     "text": [
      "arman\n",
      "joy\n",
      "nehal\n",
      "pritam\n"
     ]
    }
   ],
   "source": [
    "name=(\"arman\",\"joy\",\"nehal\",\"pritam\")\n",
    "for i in name:\n",
    "    print(i)"
   ]
  },
  {
   "cell_type": "code",
   "execution_count": 2,
   "id": "9269dd16",
   "metadata": {},
   "outputs": [
    {
     "name": "stdout",
     "output_type": "stream",
     "text": [
      "arman\n",
      "joy\n",
      "nehal\n",
      "pritam\n"
     ]
    }
   ],
   "source": [
    "for i in name:\n",
    "    print(i)"
   ]
  },
  {
   "cell_type": "code",
   "execution_count": 3,
   "id": "f0e879ee",
   "metadata": {},
   "outputs": [
    {
     "name": "stdout",
     "output_type": "stream",
     "text": [
      "arman\n",
      "joy\n",
      "nehal\n"
     ]
    }
   ],
   "source": [
    "name=(\"arman\",\"joy\",\"nehal\")\n",
    "for i in name:\n",
    "    print(i)"
   ]
  },
  {
   "cell_type": "code",
   "execution_count": 2,
   "id": "d6d3c0ec",
   "metadata": {},
   "outputs": [
    {
     "name": "stdout",
     "output_type": "stream",
     "text": [
      "0\n",
      "1\n",
      "2\n",
      "3\n"
     ]
    }
   ],
   "source": [
    "# using loop through index number\n",
    "item=(\"munal\",\"sani\",\"dani\",\"hanni\")\n",
    "for i in range(len(item)):\n",
    "    print(i)"
   ]
  },
  {
   "cell_type": "code",
   "execution_count": 3,
   "id": "2bd42e0b",
   "metadata": {},
   "outputs": [
    {
     "name": "stdout",
     "output_type": "stream",
     "text": [
      "sani\n",
      "hani\n",
      "munal\n",
      "pori\n"
     ]
    }
   ],
   "source": [
    "item=(\"sani\",\"hani\",\"munal\",\"pori\")\n",
    "for i in range(len(item)):\n",
    "    print(item[i])"
   ]
  },
  {
   "cell_type": "code",
   "execution_count": 4,
   "id": "06bb0a39",
   "metadata": {},
   "outputs": [
    {
     "name": "stdout",
     "output_type": "stream",
     "text": [
      "0\n",
      "1\n",
      "2\n"
     ]
    }
   ],
   "source": [
    "item=(\"porimoni\",\"mrunal\",\"kiara\")\n",
    "for i in range(len(item)):\n",
    "    print(i)"
   ]
  },
  {
   "cell_type": "code",
   "execution_count": 5,
   "id": "e0479363",
   "metadata": {},
   "outputs": [
    {
     "name": "stdout",
     "output_type": "stream",
     "text": [
      "0\n",
      "1\n",
      "2\n"
     ]
    }
   ],
   "source": [
    "for i in range(len(item)):\n",
    "    print(i)"
   ]
  },
  {
   "cell_type": "code",
   "execution_count": 6,
   "id": "94f6fc8d",
   "metadata": {},
   "outputs": [
    {
     "name": "stdout",
     "output_type": "stream",
     "text": [
      "0\n",
      "1\n",
      "2\n"
     ]
    }
   ],
   "source": [
    "for i in range(len(item)):\n",
    "    print(i)"
   ]
  },
  {
   "cell_type": "code",
   "execution_count": 4,
   "id": "4d8aeb4c",
   "metadata": {},
   "outputs": [
    {
     "name": "stdout",
     "output_type": "stream",
     "text": [
      "pori\n",
      "munal\n",
      "sani\n",
      "kajol\n"
     ]
    }
   ],
   "source": [
    "# using while loop\n",
    "item=(\"pori\",\"munal\",\"sani\",\"kajol\")\n",
    "i=0\n",
    "while i<len(item):\n",
    "    print(item[i])\n",
    "    i+=1\n",
    "    "
   ]
  },
  {
   "cell_type": "code",
   "execution_count": null,
   "id": "c753d2c2",
   "metadata": {},
   "outputs": [],
   "source": [
    "item=(\"munal\",\"kajol\",\"sani\")\n",
    "i=1\n",
    "while i<len(item):\n",
    "    print(item[i])\n",
    "    i+=1\n",
    "    "
   ]
  },
  {
   "cell_type": "code",
   "execution_count": null,
   "id": "b300fb3e",
   "metadata": {},
   "outputs": [],
   "source": [
    "item=(\"porimoni\",\"mrunal\",\"kiara\",\"katrina\")\n",
    "i=0\n",
    "while i<len(item):\n",
    "    print(item[i])\n",
    "    i+=1\n",
    "    "
   ]
  },
  {
   "cell_type": "code",
   "execution_count": null,
   "id": "9251828e",
   "metadata": {},
   "outputs": [],
   "source": [
    "item=(\"munal\",\"kajol\",\"sani\")\n",
    "i=1\n",
    "while i<len(item):\n",
    "    print(item[i])\n",
    "    i += 1"
   ]
  },
  {
   "cell_type": "code",
   "execution_count": null,
   "id": "4ba2cf30",
   "metadata": {},
   "outputs": [],
   "source": [
    "item=(\"sani\",\"munal\",\"pori\",\"sonakshi\")\n",
    "i=1\n",
    "while i<len(item):\n",
    "    print(item[i])\n",
    "    i+=1"
   ]
  },
  {
   "cell_type": "code",
   "execution_count": null,
   "id": "7bc87ed7",
   "metadata": {},
   "outputs": [],
   "source": [
    "item=(\"sani\",\"munal\",\"pori\",\"sonakshi\")\n",
    "i=1\n",
    "while i<len(item):\n",
    "    print(item[i])\n",
    "    i+=1"
   ]
  },
  {
   "cell_type": "code",
   "execution_count": null,
   "id": "e3ebf782",
   "metadata": {},
   "outputs": [],
   "source": [
    "# item=(\"sani\",\"sonkshi\",\"munal\")\n",
    "# i=0\n",
    "# while i<len(item):\n",
    "#     print(item[i])\n",
    "#     i+=1"
   ]
  },
  {
   "cell_type": "code",
   "execution_count": null,
   "id": "ede4e5ea",
   "metadata": {},
   "outputs": [],
   "source": [
    "item=(\"sani\",\"munal\",\"pori\",\"sonakshi\")\n",
    "i=0\n",
    "while i < len(item):\n",
    "    print(item[i])\n",
    "    i+=0"
   ]
  },
  {
   "cell_type": "code",
   "execution_count": 1,
   "id": "23317279",
   "metadata": {},
   "outputs": [
    {
     "name": "stdout",
     "output_type": "stream",
     "text": [
      "pori\n",
      "munal\n",
      "kiara\n",
      "ketrina\n",
      "kajol\n",
      "totini\n"
     ]
    }
   ],
   "source": [
    "rani=(\"pori\",\"munal\",\"kiara\",\"ketrina\",\"kajol\",\"totini\")\n",
    "for i in rani:\n",
    "    print(i)"
   ]
  },
  {
   "cell_type": "code",
   "execution_count": 3,
   "id": "0c1cc5e5",
   "metadata": {},
   "outputs": [
    {
     "name": "stdout",
     "output_type": "stream",
     "text": [
      "0\n",
      "1\n",
      "2\n",
      "3\n",
      "4\n",
      "5\n"
     ]
    }
   ],
   "source": [
    "rani=(\"kajol\",\"ketrina\",\"kiara\",\"anuska\",\"neha\",\"apu\")\n",
    "for i in range(len(rani)):\n",
    "    print(i)"
   ]
  },
  {
   "cell_type": "code",
   "execution_count": 4,
   "id": "727cab35",
   "metadata": {},
   "outputs": [
    {
     "name": "stdout",
     "output_type": "stream",
     "text": [
      "0\n",
      "1\n",
      "2\n",
      "3\n",
      "4\n",
      "5\n"
     ]
    }
   ],
   "source": [
    "for i  in range(len(rani)):\n",
    "    print(i)"
   ]
  },
  {
   "cell_type": "code",
   "execution_count": 9,
   "id": "acd2225c",
   "metadata": {},
   "outputs": [
    {
     "ename": "IndentationError",
     "evalue": "unindent does not match any outer indentation level (<tokenize>, line 5)",
     "output_type": "error",
     "traceback": [
      "\u001b[1;36m  File \u001b[1;32m<tokenize>:5\u001b[1;36m\u001b[0m\n\u001b[1;33m    i+=1\u001b[0m\n\u001b[1;37m    ^\u001b[0m\n\u001b[1;31mIndentationError\u001b[0m\u001b[1;31m:\u001b[0m unindent does not match any outer indentation level\n"
     ]
    }
   ],
   "source": [
    "rani=(\"kajol\",\"neha\",\"kaira\",\"ketrina\",\"anuska\")\n",
    "      i=0\n",
    "      while i<len(rani):\n",
    "      print(rani[i])\n",
    "    i+=1"
   ]
  },
  {
   "cell_type": "code",
   "execution_count": null,
   "id": "9c0b41b1",
   "metadata": {},
   "outputs": [],
   "source": [
    "rani=(\"rai\",\"kiara\",\"anuska\",\"ketrina\")\n",
    "i=1\n",
    "while i<len(rani):\n",
    "    print(rani[i])\n",
    "    i+=1"
   ]
  },
  {
   "cell_type": "code",
   "execution_count": null,
   "id": "d1a20d9e",
   "metadata": {},
   "outputs": [],
   "source": [
    "newtuple=(\"anuska\",\"rai\",\"apu\")\n",
    "y=newtuple*3\n",
    "print(y)"
   ]
  },
  {
   "cell_type": "code",
   "execution_count": null,
   "id": "f48010a0",
   "metadata": {},
   "outputs": [],
   "source": [
    "rani=(\"rai\",\"kiara\",\"anuska\",\"ketrina\")\n",
    "i=1\n",
    "while i<len(rani):\n",
    "    print(rani[i])\n",
    "    i+=1"
   ]
  },
  {
   "cell_type": "code",
   "execution_count": null,
   "id": "653e3ad7",
   "metadata": {},
   "outputs": [],
   "source": [
    "rani=(\"anuska\",\"rai\",\"kiara\",\"ketrina\",\"apu\")\n",
    "i=1\n",
    "while i<len(rani):\n",
    "    print(rani[i])\n",
    "    i+=1"
   ]
  },
  {
   "cell_type": "code",
   "execution_count": 7,
   "id": "c68dc7af",
   "metadata": {},
   "outputs": [
    {
     "ename": "SyntaxError",
     "evalue": "invalid syntax (105727486.py, line 2)",
     "output_type": "error",
     "traceback": [
      "\u001b[1;36m  Cell \u001b[1;32mIn[7], line 2\u001b[1;36m\u001b[0m\n\u001b[1;33m    mytuple=newtuple*\u001b[0m\n\u001b[1;37m                     ^\u001b[0m\n\u001b[1;31mSyntaxError\u001b[0m\u001b[1;31m:\u001b[0m invalid syntax\n"
     ]
    }
   ],
   "source": [
    "newtuple=(\"anuska\",\"rai\",\"appppu\")\n",
    "mytuple=newtuple*"
   ]
  },
  {
   "cell_type": "code",
   "execution_count": 8,
   "id": "d378aeef",
   "metadata": {},
   "outputs": [
    {
     "name": "stdout",
     "output_type": "stream",
     "text": [
      "arman\n",
      "joy\n",
      "nehal\n",
      "pritam\n",
      "arhan\n"
     ]
    }
   ],
   "source": [
    "mytuple=(\"arman\",\"joy\",\"nehal\",\"pritam\",\"arhan\")\n",
    "i=0\n",
    "while i<len(mytuple):\n",
    "    print(mytuple[i])\n",
    "    i+=1"
   ]
  },
  {
   "cell_type": "code",
   "execution_count": null,
   "id": "e02458a5",
   "metadata": {},
   "outputs": [],
   "source": [
    "item=(\"sani\",\"munal\",\"pori\",\"sonakshi\")\n",
    "i=1\n",
    "while i<len(item):\n",
    "    print(item[i])\n",
    "    i+=1"
   ]
  },
  {
   "cell_type": "code",
   "execution_count": null,
   "id": "f87e061d",
   "metadata": {},
   "outputs": [],
   "source": [
    "itemboom=(\"kiara\",\"sani\",\"natasha\",\"porimoni\")\n",
    "i=0\n",
    "while i<len(item):\n",
    "    print(item[i])\n",
    "    i+=1"
   ]
  },
  {
   "cell_type": "code",
   "execution_count": null,
   "id": "8eb38ad2",
   "metadata": {},
   "outputs": [],
   "source": []
  }
 ],
 "metadata": {
  "kernelspec": {
   "display_name": "Python 3 (ipykernel)",
   "language": "python",
   "name": "python3"
  },
  "language_info": {
   "codemirror_mode": {
    "name": "ipython",
    "version": 3
   },
   "file_extension": ".py",
   "mimetype": "text/x-python",
   "name": "python",
   "nbconvert_exporter": "python",
   "pygments_lexer": "ipython3",
   "version": "3.10.9"
  }
 },
 "nbformat": 4,
 "nbformat_minor": 5
}
