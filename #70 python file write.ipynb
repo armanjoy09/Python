{
 "cells": [
  {
   "cell_type": "code",
   "execution_count": 13,
   "id": "0532bb91",
   "metadata": {},
   "outputs": [
    {
     "data": {
      "text/plain": [
       "7"
      ]
     },
     "execution_count": 13,
     "metadata": {},
     "output_type": "execute_result"
    }
   ],
   "source": [
    "wr=open(\"isha.text\",\"w\")\n",
    "wr.write(\"<p> i miss you</p>\")\n",
    "wr.write(\"haha /n\")\n"
   ]
  },
  {
   "cell_type": "code",
   "execution_count": 16,
   "id": "28bbd4a7",
   "metadata": {},
   "outputs": [
    {
     "data": {
      "text/plain": [
       "2"
      ]
     },
     "execution_count": 16,
     "metadata": {},
     "output_type": "execute_result"
    }
   ],
   "source": [
    "wr=open(\"isha.text\",\"a\")\n",
    "wr.write(\"haha /n\")\n",
    "wr.write(\"li\")"
   ]
  },
  {
   "cell_type": "code",
   "execution_count": 7,
   "id": "52547389",
   "metadata": {},
   "outputs": [
    {
     "data": {
      "text/plain": [
       "43"
      ]
     },
     "execution_count": 7,
     "metadata": {},
     "output_type": "execute_result"
    }
   ],
   "source": [
    "wr=open(\"picchi.html\",\"w\")\n",
    "wr.write(\"<p>miss korci onek besi</p>\")\n",
    "wr.write(\"<h1>amn kothin kno hooye gelo sob kisu</h1>\")\n"
   ]
  },
  {
   "cell_type": "code",
   "execution_count": 18,
   "id": "9515424d",
   "metadata": {},
   "outputs": [
    {
     "data": {
      "text/plain": [
       "10"
      ]
     },
     "execution_count": 18,
     "metadata": {},
     "output_type": "execute_result"
    }
   ],
   "source": [
    "wr=open(\"text.txt\",\"w\")\n",
    "wr.write(\"i miss you\")\n",
    "wr.write(\"i love you\")"
   ]
  },
  {
   "cell_type": "code",
   "execution_count": 19,
   "id": "d91ee88b",
   "metadata": {},
   "outputs": [
    {
     "ename": "PermissionError",
     "evalue": "[WinError 32] The process cannot access the file because it is being used by another process: 'text.txt'",
     "output_type": "error",
     "traceback": [
      "\u001b[1;31m---------------------------------------------------------------------------\u001b[0m",
      "\u001b[1;31mPermissionError\u001b[0m                           Traceback (most recent call last)",
      "Cell \u001b[1;32mIn[19], line 2\u001b[0m\n\u001b[0;32m      1\u001b[0m \u001b[38;5;28;01mimport\u001b[39;00m \u001b[38;5;21;01mos\u001b[39;00m\n\u001b[1;32m----> 2\u001b[0m \u001b[43mos\u001b[49m\u001b[38;5;241;43m.\u001b[39;49m\u001b[43mremove\u001b[49m\u001b[43m(\u001b[49m\u001b[38;5;124;43m\"\u001b[39;49m\u001b[38;5;124;43mtext.txt\u001b[39;49m\u001b[38;5;124;43m\"\u001b[39;49m\u001b[43m)\u001b[49m\n",
      "\u001b[1;31mPermissionError\u001b[0m: [WinError 32] The process cannot access the file because it is being used by another process: 'text.txt'"
     ]
    }
   ],
   "source": [
    "import os\n",
    "os.remove(\"text.txt\")"
   ]
  },
  {
   "cell_type": "code",
   "execution_count": 29,
   "id": "dbe8b48e",
   "metadata": {},
   "outputs": [
    {
     "data": {
      "text/plain": [
       "7"
      ]
     },
     "execution_count": 29,
     "metadata": {},
     "output_type": "execute_result"
    }
   ],
   "source": [
    "er=open(\"gablu.text\",\"a\")\n",
    "#er.write(\"i will be a engineer insha allah\")\n",
    "er.write(\"tmi amak valobasho?\")\n",
    "er.write(\"jani na\")"
   ]
  },
  {
   "cell_type": "code",
   "execution_count": 35,
   "id": "dbf5fe48",
   "metadata": {},
   "outputs": [
    {
     "data": {
      "text/plain": [
       "21"
      ]
     },
     "execution_count": 35,
     "metadata": {},
     "output_type": "execute_result"
    }
   ],
   "source": [
    "er=open(\"isha.text\",\"a\")\n",
    "er.write(\"she is so cute \\n\")\n",
    "er.write(\"her eyes is so deep \\n\")"
   ]
  },
  {
   "cell_type": "code",
   "execution_count": null,
   "id": "7add3280",
   "metadata": {},
   "outputs": [],
   "source": []
  }
 ],
 "metadata": {
  "kernelspec": {
   "display_name": "Python 3 (ipykernel)",
   "language": "python",
   "name": "python3"
  },
  "language_info": {
   "codemirror_mode": {
    "name": "ipython",
    "version": 3
   },
   "file_extension": ".py",
   "mimetype": "text/x-python",
   "name": "python",
   "nbconvert_exporter": "python",
   "pygments_lexer": "ipython3",
   "version": "3.10.9"
  }
 },
 "nbformat": 4,
 "nbformat_minor": 5
}
