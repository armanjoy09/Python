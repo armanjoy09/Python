{
 "cells": [
  {
   "cell_type": "code",
   "execution_count": 2,
   "id": "8a0595aa",
   "metadata": {},
   "outputs": [
    {
     "name": "stdout",
     "output_type": "stream",
     "text": [
      "b is greater than a\n"
     ]
    }
   ],
   "source": [
    "a=30\n",
    "b=80\n",
    "if b>a:\n",
    "    print(\"b is greater than a\")"
   ]
  },
  {
   "cell_type": "code",
   "execution_count": 5,
   "id": "484eabb2",
   "metadata": {},
   "outputs": [
    {
     "name": "stdout",
     "output_type": "stream",
     "text": [
      "ami tomak valobashi\n"
     ]
    }
   ],
   "source": [
    "a=40\n",
    "b=60\n",
    "if a<b:\n",
    "    print(\"ami tomak valobashi\")\n",
    "else:\n",
    "        print(\"ami tomak valobashi na\")"
   ]
  },
  {
   "cell_type": "code",
   "execution_count": 6,
   "id": "6bcdf6b9",
   "metadata": {},
   "outputs": [
    {
     "name": "stdout",
     "output_type": "stream",
     "text": [
      "i love you\n"
     ]
    }
   ],
   "source": [
    "a=200\n",
    "b=400\n",
    "if a<=b:\n",
    "    print(\"i love you\")\n",
    "else:\n",
    "    print(\"i miss you\")"
   ]
  },
  {
   "cell_type": "code",
   "execution_count": 8,
   "id": "4f075195",
   "metadata": {},
   "outputs": [
    {
     "name": "stdout",
     "output_type": "stream",
     "text": [
      "i miss you\n"
     ]
    }
   ],
   "source": [
    "if a>=b:\n",
    "    print(\"i love you\")\n",
    "else:\n",
    "        print(\"i miss you\")"
   ]
  },
  {
   "cell_type": "markdown",
   "id": "c09c82da",
   "metadata": {},
   "source": []
  },
  {
   "cell_type": "code",
   "execution_count": 9,
   "id": "06d4a41f",
   "metadata": {},
   "outputs": [
    {
     "name": "stdout",
     "output_type": "stream",
     "text": [
      "i\n",
      "you\n",
      "miss\n",
      "valobashi\n"
     ]
    }
   ],
   "source": [
    "a=300\n",
    "b=400\n",
    "c=100\n",
    "if a>b:\n",
    "    print(\"i love you\")\n",
    "if a<b:\n",
    "    print(\"i\")\n",
    "if a>=b:\n",
    "    print(\"love\")\n",
    "if a<=b:\n",
    "    print(\"you\")\n",
    "if a==b:\n",
    "    print(\"i miss you\")\n",
    "if b>c:\n",
    "    print(\"miss\")\n",
    "if b<c:\n",
    "    print(\"ami tmi\")\n",
    "if b>=c:\n",
    "    print(\"valobashi\")\n",
    "else:\n",
    "    print(\"ami kisui kori na\")"
   ]
  },
  {
   "cell_type": "code",
   "execution_count": 10,
   "id": "44f83193",
   "metadata": {},
   "outputs": [
    {
     "name": "stdout",
     "output_type": "stream",
     "text": [
      "i miss\n"
     ]
    }
   ],
   "source": [
    "a=200\n",
    "b=300\n",
    "c=400\n",
    "if a>b:\n",
    "    print(\"i love you\")\n",
    "elif b<c:\n",
    "    \n",
    "    print(\"i miss\")\n",
    "elif b>c:\n",
    "    print(\"tni\")\n",
    "    \n",
    "elif c>=a:\n",
    "    print(\"print c\")\n",
    "elif c<=b:\n",
    "    print(\"haha\")\n",
    "else:\n",
    "    print(\"i miss you\")"
   ]
  },
  {
   "cell_type": "code",
   "execution_count": 11,
   "id": "da6a9594",
   "metadata": {},
   "outputs": [
    {
     "name": "stdout",
     "output_type": "stream",
     "text": [
      "miss\n"
     ]
    }
   ],
   "source": [
    "a=20\n",
    "b=40\n",
    "if a>b:\n",
    "    print(\"love\")\n",
    "else:\n",
    "    print(\"miss\")"
   ]
  },
  {
   "cell_type": "code",
   "execution_count": 12,
   "id": "69c98ce6",
   "metadata": {},
   "outputs": [
    {
     "name": "stdout",
     "output_type": "stream",
     "text": [
      "kisui na\n"
     ]
    }
   ],
   "source": [
    "if a>b:\n",
    "    print(\"love\")\n",
    "elif a>=b:\n",
    "    print(\"miss\")\n",
    "else:\n",
    "    print(\"kisui na\")"
   ]
  },
  {
   "cell_type": "code",
   "execution_count": 14,
   "id": "cea86ee0",
   "metadata": {},
   "outputs": [
    {
     "name": "stdout",
     "output_type": "stream",
     "text": [
      "love\n"
     ]
    }
   ],
   "source": [
    "# sort hand if statement\n",
    "if a<b: print(\"love\")"
   ]
  },
  {
   "cell_type": "code",
   "execution_count": 17,
   "id": "7e091e9e",
   "metadata": {},
   "outputs": [
    {
     "name": "stdout",
     "output_type": "stream",
     "text": [
      "love\n"
     ]
    }
   ],
   "source": [
    "# sort hand if,,,,else statement\n",
    "a=20\n",
    "b=30\n",
    "print(\"miss\") if a>b else print(\"love\")"
   ]
  },
  {
   "cell_type": "code",
   "execution_count": 18,
   "id": "396db9e0",
   "metadata": {},
   "outputs": [
    {
     "name": "stdout",
     "output_type": "stream",
     "text": [
      "love\n"
     ]
    }
   ],
   "source": [
    "print(\"love\") if a<b else print(\"miss\")"
   ]
  },
  {
   "cell_type": "code",
   "execution_count": 22,
   "id": "7b4ad93b",
   "metadata": {},
   "outputs": [
    {
     "name": "stdout",
     "output_type": "stream",
     "text": [
      "both condition are true\n"
     ]
    }
   ],
   "source": [
    "# and methode\n",
    "a=300\n",
    "b=200\n",
    "c=400\n",
    "if a>b and c>a:\n",
    "    print(\"both condition are true\")"
   ]
  },
  {
   "cell_type": "code",
   "execution_count": 24,
   "id": "22778325",
   "metadata": {},
   "outputs": [
    {
     "name": "stdout",
     "output_type": "stream",
     "text": [
      "at least one of the condition is true\n"
     ]
    }
   ],
   "source": [
    "# or methode\n",
    "a=200\n",
    "b=300\n",
    "c=50\n",
    "if a>b or a>c:\n",
    "    print(\"at least one of the condition is true\")"
   ]
  },
  {
   "cell_type": "code",
   "execution_count": 28,
   "id": "80fd1340",
   "metadata": {},
   "outputs": [
    {
     "name": "stdout",
     "output_type": "stream",
     "text": [
      "love\n"
     ]
    }
   ],
   "source": [
    "# not metthode\n",
    "a=30\n",
    "b=40\n",
    "if not a>=b:\n",
    "    print(\"love\")"
   ]
  },
  {
   "cell_type": "code",
   "execution_count": 30,
   "id": "dbbad841",
   "metadata": {},
   "outputs": [
    {
     "name": "stdout",
     "output_type": "stream",
     "text": [
      "huu thik\n",
      "eida o thik\n"
     ]
    }
   ],
   "source": [
    "# nested if\n",
    "x=40\n",
    "if x>20:\n",
    "    print(\"huu thik\")\n",
    "    if x<50:\n",
    "        print(\"eida o thik\")\n",
    "else:\n",
    "            print(\"but not sob e thik na\")"
   ]
  },
  {
   "cell_type": "code",
   "execution_count": 31,
   "id": "bf98241f",
   "metadata": {},
   "outputs": [],
   "source": [
    "# pass statement\n",
    "a=40\n",
    "b=20\n",
    "if a>b:\n",
    "    pass"
   ]
  },
  {
   "cell_type": "code",
   "execution_count": 2,
   "id": "af43a125",
   "metadata": {},
   "outputs": [
    {
     "name": "stdout",
     "output_type": "stream",
     "text": [
      "b er thake a boro\n"
     ]
    }
   ],
   "source": [
    "a=20\n",
    "b=40\n",
    "if b>a:\n",
    "    print(\"b er thake a boro\")"
   ]
  },
  {
   "cell_type": "code",
   "execution_count": 5,
   "id": "ec7286d6",
   "metadata": {},
   "outputs": [],
   "source": [
    "a=20\n",
    "b=40\n",
    "if a>b:\n",
    "    print(\"b er thake a choto\")"
   ]
  },
  {
   "cell_type": "code",
   "execution_count": 6,
   "id": "bb6e7370",
   "metadata": {},
   "outputs": [
    {
     "name": "stdout",
     "output_type": "stream",
     "text": [
      "b boro a choto\n"
     ]
    }
   ],
   "source": [
    "if a>=b:\n",
    "    print(\"a boro b choto\")\n",
    "    \n",
    "else:\n",
    "    print(\"b boro a choto\")"
   ]
  },
  {
   "cell_type": "code",
   "execution_count": 10,
   "id": "f89544e8",
   "metadata": {},
   "outputs": [
    {
     "name": "stdout",
     "output_type": "stream",
     "text": [
      "ami tomak valobashi\n"
     ]
    }
   ],
   "source": [
    "a=20\n",
    "b=30\n",
    "c=40\n",
    "d=50\n",
    "if a>=b:\n",
    "    print(\"ami tomK GRENA KORI\")\n",
    "    \n",
    "elif a<=c:\n",
    "        print(\"ami tomak valobashi\")\n",
    "        \n",
    "elif d>b:\n",
    "        print(\"her eyes kill me\")\n",
    "elif d==c:\n",
    "        print(\"aha tmi sei cute\")\n",
    "        \n",
    "else:\n",
    "    print(\"sob e bad\")"
   ]
  },
  {
   "cell_type": "code",
   "execution_count": 11,
   "id": "4476a4b5",
   "metadata": {},
   "outputs": [
    {
     "name": "stdout",
     "output_type": "stream",
     "text": [
      "a is greater than b\n"
     ]
    }
   ],
   "source": [
    "a=200\n",
    "b=30\n",
    "if b>a:\n",
    "    print(\"b is greater than a\")\n",
    "elif a==b:\n",
    "    print(\"a and b are equal\")\n",
    "else:\n",
    "    print(\"a is greater than b\")\n",
    "    "
   ]
  },
  {
   "cell_type": "code",
   "execution_count": null,
   "id": "22bf523d",
   "metadata": {},
   "outputs": [],
   "source": []
  },
  {
   "cell_type": "code",
   "execution_count": 12,
   "id": "e5d97573",
   "metadata": {},
   "outputs": [
    {
     "name": "stdout",
     "output_type": "stream",
     "text": [
      "a is greater than b\n"
     ]
    }
   ],
   "source": [
    "if a>b: print(\"a is greater than b\")"
   ]
  },
  {
   "cell_type": "code",
   "execution_count": 13,
   "id": "1bbf4c04",
   "metadata": {},
   "outputs": [
    {
     "name": "stdout",
     "output_type": "stream",
     "text": [
      "tmi\n"
     ]
    }
   ],
   "source": [
    "a=20\n",
    "b=30\n",
    "print(\"ami\") if a>b else print(\"tmi\")"
   ]
  },
  {
   "cell_type": "code",
   "execution_count": 15,
   "id": "668fe678",
   "metadata": {},
   "outputs": [
    {
     "name": "stdout",
     "output_type": "stream",
     "text": [
      "kah\n"
     ]
    }
   ],
   "source": [
    "print(\"mam\") if a>b else print(\"kah\")"
   ]
  },
  {
   "cell_type": "code",
   "execution_count": 17,
   "id": "31ce4869",
   "metadata": {},
   "outputs": [
    {
     "name": "stdout",
     "output_type": "stream",
     "text": [
      "a is greater than b and c is greater than a\n"
     ]
    }
   ],
   "source": [
    "a=30\n",
    "b=20\n",
    "c=40\n",
    "if a>b and c>a:\n",
    "    print(\"a is greater than b and c is greater than a\")"
   ]
  },
  {
   "cell_type": "code",
   "execution_count": 18,
   "id": "644f5b01",
   "metadata": {},
   "outputs": [
    {
     "name": "stdout",
     "output_type": "stream",
     "text": [
      "both conditions are true\n"
     ]
    }
   ],
   "source": [
    "if a>b and c>a:\n",
    "    print(\"both conditions are true\")"
   ]
  },
  {
   "cell_type": "code",
   "execution_count": 19,
   "id": "7b438c62",
   "metadata": {},
   "outputs": [
    {
     "name": "stdout",
     "output_type": "stream",
     "text": [
      "at least one condition i true\n"
     ]
    }
   ],
   "source": [
    "a=20\n",
    "b=30\n",
    "c=500\n",
    "if a>b or c>b:\n",
    "    print(\"at least one condition i true\")"
   ]
  },
  {
   "cell_type": "code",
   "execution_count": null,
   "id": "48ea99b5",
   "metadata": {},
   "outputs": [],
   "source": []
  },
  {
   "cell_type": "code",
   "execution_count": null,
   "id": "6cbd0187",
   "metadata": {},
   "outputs": [],
   "source": []
  },
  {
   "cell_type": "code",
   "execution_count": 22,
   "id": "9a636987",
   "metadata": {},
   "outputs": [],
   "source": [
    "if not a<c:\n",
    "    print(\"a is greater than c\")"
   ]
  },
  {
   "cell_type": "code",
   "execution_count": 23,
   "id": "71cf69cd",
   "metadata": {},
   "outputs": [
    {
     "name": "stdout",
     "output_type": "stream",
     "text": [
      "above ten\n",
      "and also above 20\n"
     ]
    }
   ],
   "source": [
    "x=40  #nested if statement\n",
    "if x>10:\n",
    "    print(\"above ten\")\n",
    "    if x>20:\n",
    "        print(\"and also above 20\")\n",
    "        \n",
    "else:\n",
    "    print(\"but not above 20\")"
   ]
  },
  {
   "cell_type": "code",
   "execution_count": 24,
   "id": "fd40751e",
   "metadata": {},
   "outputs": [],
   "source": [
    "a=30\n",
    "b=40\n",
    "if b>a:\n",
    "    pass"
   ]
  },
  {
   "cell_type": "code",
   "execution_count": 25,
   "id": "036fd0c7",
   "metadata": {},
   "outputs": [],
   "source": [
    "a=20\n",
    "b=30\n",
    "if a>b:\n",
    "    pass"
   ]
  },
  {
   "cell_type": "code",
   "execution_count": null,
   "id": "da2462c9",
   "metadata": {},
   "outputs": [],
   "source": []
  }
 ],
 "metadata": {
  "kernelspec": {
   "display_name": "Python 3 (ipykernel)",
   "language": "python",
   "name": "python3"
  },
  "language_info": {
   "codemirror_mode": {
    "name": "ipython",
    "version": 3
   },
   "file_extension": ".py",
   "mimetype": "text/x-python",
   "name": "python",
   "nbconvert_exporter": "python",
   "pygments_lexer": "ipython3",
   "version": "3.10.9"
  }
 },
 "nbformat": 4,
 "nbformat_minor": 5
}
