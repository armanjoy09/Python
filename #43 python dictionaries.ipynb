{
 "cells": [
  {
   "cell_type": "code",
   "execution_count": 5,
   "id": "38e363c6",
   "metadata": {},
   "outputs": [
    {
     "name": "stdout",
     "output_type": "stream",
     "text": [
      "{'Arman': {'name': 'joy', 'study': 'bsc', 'university': 'islamic university', 'roll': '2029018'}, 'Monir': {'name': 'monir', 'study': 'nursing', 'college': 'prime', 'roll': '2029010'}, 'Masum': {'name': 'masum', 'study': 'college', 'college': 'presedency', 'roll': '203034'}, 'hujur': {'name': 'rokib', 'study': 'hafeez', 'institude': 'madrasha', 'roll': '30'}}\n"
     ]
    }
   ],
   "source": [
    "amaderinfo={\n",
    "    \"Arman\":{\n",
    "        \"name\":\"joy\",\n",
    "        \"study\":\"bsc\",\n",
    "        \"university\":\"islamic university\",\n",
    "        \"roll\":\"2029018\"\n",
    "    },\n",
    "    \"Monir\":{\n",
    "        \"name\":\"monir\",\n",
    "        \"study\":\"nursing\",\n",
    "        \"college\":\"prime\",\n",
    "        \"roll\":\"2029010\"\n",
    "    },\n",
    "    \"Masum\":{\n",
    "        \"name\":\"masum\",\n",
    "        \"study\":\"college\",\n",
    "        \"college\":\"presedency\",\n",
    "        \"roll\":\"203034\"\n",
    "    },\n",
    "    \"hujur\":{\n",
    "        \"name\":\"rokib\",\n",
    "        \"study\":\"hafeez\",\n",
    "        \"institude\":\"madrasha\",\n",
    "        \"roll\":\"30\"\n",
    "    }\n",
    "}\n",
    "print(amaderinfo)"
   ]
  },
  {
   "cell_type": "code",
   "execution_count": 7,
   "id": "1e2aa7fd",
   "metadata": {},
   "outputs": [
    {
     "name": "stdout",
     "output_type": "stream",
     "text": [
      "203034\n"
     ]
    }
   ],
   "source": [
    "print(amaderinfo[\"Masum\"][\"roll\"])"
   ]
  },
  {
   "cell_type": "code",
   "execution_count": 8,
   "id": "a4f7eb94",
   "metadata": {},
   "outputs": [
    {
     "name": "stdout",
     "output_type": "stream",
     "text": [
      "islamic university\n"
     ]
    }
   ],
   "source": [
    "print(amaderinfo[\"Arman\"][\"university\"])"
   ]
  },
  {
   "cell_type": "code",
   "execution_count": 9,
   "id": "35853c3f",
   "metadata": {},
   "outputs": [
    {
     "name": "stdout",
     "output_type": "stream",
     "text": [
      "prime\n"
     ]
    }
   ],
   "source": [
    "print(amaderinfo[\"Monir\"][\"college\"])"
   ]
  },
  {
   "cell_type": "code",
   "execution_count": 15,
   "id": "3453e1f3",
   "metadata": {},
   "outputs": [
    {
     "name": "stdout",
     "output_type": "stream",
     "text": [
      "hafeez\n"
     ]
    }
   ],
   "source": [
    "print(amaderinfo[\"hujur\"][\"study\"])"
   ]
  },
  {
   "cell_type": "code",
   "execution_count": 16,
   "id": "3eb5c7b4",
   "metadata": {},
   "outputs": [
    {
     "name": "stdout",
     "output_type": "stream",
     "text": [
      "4\n"
     ]
    }
   ],
   "source": [
    "print(len(amaderinfo))"
   ]
  },
  {
   "cell_type": "code",
   "execution_count": 9,
   "id": "f79afa18",
   "metadata": {},
   "outputs": [
    {
     "name": "stdout",
     "output_type": "stream",
     "text": [
      "{'Arman': {'name': 'joy', 'study': 'bsc', 'university': 'islamic university', 'roll': '2029018'}, 'Monir': {'name': 'monir', 'study': 'nursing', 'college': 'prime', 'roll': '2029010'}, 'Masum': {'name': 'masum', 'study': 'college', 'college': 'presedency', 'roll': '203034'}, 'hujur': {'name': 'rokib', 'study': 'hafeez', 'institude': 'madrasha', 'roll': '30'}}\n"
     ]
    }
   ],
   "source": [
    "amaderinfo={\n",
    "    \"Arman\":{\n",
    "        \"name\":\"joy\",\n",
    "        \"study\":\"bsc\",\n",
    "        \"university\":\"islamic university\",\n",
    "        \"roll\":\"2029018\"\n",
    "    },\n",
    "    \"Monir\":{\n",
    "        \"name\":\"monir\",\n",
    "        \"study\":\"nursing\",\n",
    "        \"college\":\"prime\",\n",
    "        \"roll\":\"2029010\"\n",
    "    },\n",
    "    \"Masum\":{\n",
    "        \"name\":\"masum\",\n",
    "        \"study\":\"college\",\n",
    "        \"college\":\"presedency\",\n",
    "        \"roll\":\"203034\"\n",
    "    },\n",
    "    \"hujur\":{\n",
    "        \"name\":\"rokib\",\n",
    "        \"study\":\"hafeez\",\n",
    "        \"institude\":\"madrasha\",\n",
    "        \"roll\":\"30\"\n",
    "    }\n",
    "}\n",
    "print(amaderinfo)"
   ]
  },
  {
   "cell_type": "code",
   "execution_count": 12,
   "id": "9a3ea737",
   "metadata": {},
   "outputs": [
    {
     "name": "stdout",
     "output_type": "stream",
     "text": [
      "{'name': 'arman'}\n"
     ]
    }
   ],
   "source": [
    "info={\n",
    "    \"name\":\"arman\"\n",
    "}\n",
    "print(info)"
   ]
  },
  {
   "cell_type": "code",
   "execution_count": 15,
   "id": "22fa2b50",
   "metadata": {},
   "outputs": [
    {
     "name": "stdout",
     "output_type": "stream",
     "text": [
      "{'brand': 'ford'}\n"
     ]
    }
   ],
   "source": [
    "thisdict={\n",
    "    \"brand\":\"ford\"\n",
    "}\n",
    "print(thisdict)"
   ]
  },
  {
   "cell_type": "code",
   "execution_count": 18,
   "id": "a09b5f5e",
   "metadata": {},
   "outputs": [
    {
     "name": "stdout",
     "output_type": "stream",
     "text": [
      "{'name': 'arman', 'study': 'bsc', 'year': '2020'}\n"
     ]
    }
   ],
   "source": [
    "thisdict={\n",
    "    \"name\":\"arman\",\n",
    "    \"study\":\"bsc\",\n",
    "    \"year\":\"2020\"\n",
    "}\n",
    "print(thisdict)"
   ]
  },
  {
   "cell_type": "code",
   "execution_count": 22,
   "id": "46e0743c",
   "metadata": {},
   "outputs": [
    {
     "name": "stdout",
     "output_type": "stream",
     "text": [
      "{'arman': {'name': 'joy', 'study': 'Bsc', 'institute': 'islamic university'}, 'monir': {'name': 'foysal', 'study': 'nursing', 'institute': 'prime'}, 'masum': {'name': 'afrad', 'study': 'college', 'institute': 'presidency'}}\n"
     ]
    }
   ],
   "source": [
    "amaderinfo={\n",
    "    \"arman\":{\n",
    "        \"name\":\"joy\",\n",
    "        \"study\":\"Bsc\",\n",
    "        \"institute\":\"islamic university\"\n",
    "    },\n",
    "    \"monir\":{\n",
    "        \"name\":\"foysal\",\n",
    "        \"study\":\"nursing\",\n",
    "        \"institute\":\"prime\"\n",
    "    },\n",
    "    \"masum\":{\n",
    "        \"name\":\"afrad\",\n",
    "        \"study\":\"college\",\n",
    "        \"institute\":\"presidency\"\n",
    "        \n",
    "    }\n",
    "    \n",
    "}\n",
    "print(amaderinfo)"
   ]
  },
  {
   "cell_type": "code",
   "execution_count": 24,
   "id": "9dba4357",
   "metadata": {},
   "outputs": [
    {
     "name": "stdout",
     "output_type": "stream",
     "text": [
      "{'name': 'afrad', 'study': 'college', 'institute': 'presidency'}\n"
     ]
    }
   ],
   "source": [
    "print(amaderinfo[\"masum\"])"
   ]
  },
  {
   "cell_type": "code",
   "execution_count": 26,
   "id": "e2f25126",
   "metadata": {},
   "outputs": [
    {
     "name": "stdout",
     "output_type": "stream",
     "text": [
      "foysal\n"
     ]
    }
   ],
   "source": [
    "print(amaderinfo[\"monir\"][\"name\"])"
   ]
  },
  {
   "cell_type": "code",
   "execution_count": 28,
   "id": "589c9755",
   "metadata": {},
   "outputs": [
    {
     "name": "stdout",
     "output_type": "stream",
     "text": [
      "joy\n"
     ]
    }
   ],
   "source": [
    "print(amaderinfo[\"arman\"][\"name\"])"
   ]
  },
  {
   "cell_type": "code",
   "execution_count": 32,
   "id": "6d443f1f",
   "metadata": {},
   "outputs": [
    {
     "name": "stdout",
     "output_type": "stream",
     "text": [
      "{'rokib': {'name': 'hujur', 'occupation': 'hafez', 'age': '23', 'relation': 'married'}, 'redoy': {'name': 'bideshi', 'occupation': 'remitance judda', 'age': '23', 'relation': 'married'}, 'emon': {'name': 'afrad', 'occupation': 'remitance judda', 'age': '23', 'relation': 'unmarried'}, 'arman': {'name': 'joy', 'occupation': 'b** falai', 'age': 23, 'relation': 'single'}}\n"
     ]
    }
   ],
   "source": [
    "info={\n",
    "    \"rokib\":{\n",
    "        \"name\":\"hujur\",\n",
    "        \"occupation\":\"hafez\",\n",
    "        \"age\":\"23\",\n",
    "        \"relation\":\"married\"\n",
    "    },\n",
    "    \"redoy\":{\n",
    "        \"name\":\"bideshi\",\n",
    "        \"occupation\":\"remitance judda\",\n",
    "        \"age\":\"23\",\n",
    "        \"relation\":\"married\" \n",
    "    },\n",
    "    \"emon\":{\n",
    "        \"name\":\"afrad\",\n",
    "        \"occupation\":\"remitance judda\",\n",
    "        \"age\":\"23\",\n",
    "        \"relation\":\"unmarried\"\n",
    "    },\n",
    "    \"arman\":{\n",
    "        \"name\":\"joy\",\n",
    "        \"occupation\":\"b** falai\",\n",
    "        \"age\":23,\n",
    "        \"relation\":\"single\"\n",
    "    }\n",
    "}\n",
    "print(info)"
   ]
  },
  {
   "cell_type": "code",
   "execution_count": 34,
   "id": "bcdded07",
   "metadata": {},
   "outputs": [
    {
     "name": "stdout",
     "output_type": "stream",
     "text": [
      "hafez\n"
     ]
    }
   ],
   "source": [
    "print(info[\"rokib\"][\"occupation\"])"
   ]
  },
  {
   "cell_type": "code",
   "execution_count": 35,
   "id": "b91940f4",
   "metadata": {},
   "outputs": [
    {
     "name": "stdout",
     "output_type": "stream",
     "text": [
      "married\n"
     ]
    }
   ],
   "source": [
    "print(info[\"redoy\"][\"relation\"])"
   ]
  },
  {
   "cell_type": "code",
   "execution_count": 39,
   "id": "8e0d7bc7",
   "metadata": {},
   "outputs": [
    {
     "name": "stdout",
     "output_type": "stream",
     "text": [
      "{'name': 'afrad', 'occupation': 'remitance judda', 'age': '23', 'relation': 'unmarried'}\n"
     ]
    }
   ],
   "source": [
    "print(info[\"emon\"])"
   ]
  },
  {
   "cell_type": "code",
   "execution_count": 40,
   "id": "4274fe08",
   "metadata": {},
   "outputs": [
    {
     "name": "stdout",
     "output_type": "stream",
     "text": [
      "b** falai\n"
     ]
    }
   ],
   "source": [
    "print(info[\"arman\"][\"occupation\"])"
   ]
  },
  {
   "cell_type": "code",
   "execution_count": 41,
   "id": "b00116a2",
   "metadata": {},
   "outputs": [
    {
     "name": "stdout",
     "output_type": "stream",
     "text": [
      "{'name': 'arman', 'age': 23, 'study': 'Bsc'}\n"
     ]
    }
   ],
   "source": [
    "# dictionaries can't allow dictionaries\n",
    "mydict={\n",
    "    \"name\":\"arman\",\n",
    "    \"age\":\"23\",\n",
    "    \"study\":\"Bsc\",\n",
    "    \"age\":23\n",
    "}\n",
    "print(mydict)"
   ]
  },
  {
   "cell_type": "code",
   "execution_count": 42,
   "id": "d517fe34",
   "metadata": {},
   "outputs": [
    {
     "name": "stdout",
     "output_type": "stream",
     "text": [
      "4\n"
     ]
    }
   ],
   "source": [
    "# dictionary length use len() method\n",
    "print(len(info))"
   ]
  },
  {
   "cell_type": "code",
   "execution_count": 43,
   "id": "b6a9ed0f",
   "metadata": {},
   "outputs": [
    {
     "name": "stdout",
     "output_type": "stream",
     "text": [
      "3\n"
     ]
    }
   ],
   "source": [
    "print(len(mydict))"
   ]
  },
  {
   "cell_type": "code",
   "execution_count": 44,
   "id": "31a3c3c8",
   "metadata": {},
   "outputs": [
    {
     "name": "stdout",
     "output_type": "stream",
     "text": [
      "3\n"
     ]
    }
   ],
   "source": [
    "print(len(amaderinfo))"
   ]
  },
  {
   "cell_type": "code",
   "execution_count": 46,
   "id": "ae77c43a",
   "metadata": {},
   "outputs": [
    {
     "name": "stdout",
     "output_type": "stream",
     "text": [
      "{'name': 'arman', 'study': False, 'roll': 2029018, 'height': 5.3}\n"
     ]
    }
   ],
   "source": [
    "# the value of the dictionary can be any of data type\n",
    "myinfo={\n",
    "    \"name\":\"arman\",\n",
    "    \"study\":False,\n",
    "    \"roll\":2029018,\n",
    "    \"height\":5.3\n",
    "}\n",
    "print(myinfo)"
   ]
  },
  {
   "cell_type": "code",
   "execution_count": 53,
   "id": "04e91cb2",
   "metadata": {},
   "outputs": [
    {
     "name": "stdout",
     "output_type": "stream",
     "text": [
      "{'name': 'arman', 'age': 23, 'institute': 'islamic university'}\n"
     ]
    }
   ],
   "source": [
    "# the dictionary constructor dict()\n",
    "mydict=dict(name=\"arman\",age=23,institute=\"islamic university\")\n",
    "print(mydict)"
   ]
  },
  {
   "cell_type": "code",
   "execution_count": null,
   "id": "6827c052",
   "metadata": {},
   "outputs": [],
   "source": []
  }
 ],
 "metadata": {
  "kernelspec": {
   "display_name": "Python 3 (ipykernel)",
   "language": "python",
   "name": "python3"
  },
  "language_info": {
   "codemirror_mode": {
    "name": "ipython",
    "version": 3
   },
   "file_extension": ".py",
   "mimetype": "text/x-python",
   "name": "python",
   "nbconvert_exporter": "python",
   "pygments_lexer": "ipython3",
   "version": "3.10.9"
  }
 },
 "nbformat": 4,
 "nbformat_minor": 5
}
