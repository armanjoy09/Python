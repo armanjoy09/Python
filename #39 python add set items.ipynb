{
 "cells": [
  {
   "cell_type": "code",
   "execution_count": 1,
   "id": "7c15cd12",
   "metadata": {},
   "outputs": [
    {
     "name": "stdout",
     "output_type": "stream",
     "text": [
      "{'cherry', 'apple', 'banana', 'orange'}\n"
     ]
    }
   ],
   "source": [
    "myset={\"apple\",\"banana\",\"cherry\"}\n",
    "myset.add(\"orange\")\n",
    "print(myset)"
   ]
  },
  {
   "cell_type": "code",
   "execution_count": 2,
   "id": "f665daea",
   "metadata": {},
   "outputs": [
    {
     "name": "stdout",
     "output_type": "stream",
     "text": [
      "{'orange', 'apple', 'banana', 'papaya', 'cherry'}\n"
     ]
    }
   ],
   "source": [
    "myset.add(\"papaya\")\n",
    "print(myset)"
   ]
  },
  {
   "cell_type": "code",
   "execution_count": 3,
   "id": "56398e66",
   "metadata": {},
   "outputs": [
    {
     "name": "stdout",
     "output_type": "stream",
     "text": [
      "{'cherry', 'payaya', 'mango', 'apple', 'banana', 'kiwi'}\n"
     ]
    }
   ],
   "source": [
    "myset={\"apple\",\"banana\",\"cherry\"}\n",
    "thisset={\"kiwi\",\"payaya\",\"mango\"}\n",
    "myset.update(thisset)\n",
    "print(myset)"
   ]
  },
  {
   "cell_type": "code",
   "execution_count": 4,
   "id": "6583f34e",
   "metadata": {},
   "outputs": [
    {
     "name": "stdout",
     "output_type": "stream",
     "text": [
      "{'payaya', 'mango', 'apple', 'banana', 'kiwi', 'cherry'}\n"
     ]
    }
   ],
   "source": [
    "myset.update(thisset)\n",
    "print(myset)"
   ]
  },
  {
   "cell_type": "code",
   "execution_count": 5,
   "id": "33bde979",
   "metadata": {},
   "outputs": [
    {
     "name": "stdout",
     "output_type": "stream",
     "text": [
      "{'mango', 'apple', 'banana', 'kiwi', 'cherry'}\n"
     ]
    }
   ],
   "source": [
    "myset={\"apple\",\"banana\",\"cherry\"}\n",
    "tuplelist=(\"mango\",\"kiwi\")\n",
    "myset.update(tuplelist)\n",
    "print(myset)"
   ]
  },
  {
   "cell_type": "code",
   "execution_count": 10,
   "id": "0b7744bc",
   "metadata": {},
   "outputs": [
    {
     "name": "stdout",
     "output_type": "stream",
     "text": [
      "{'tiger', 'mango', 'kiwi', 'lichi', 'lion', 'cat'}\n"
     ]
    }
   ],
   "source": [
    "myset={\"kiwi\",\"mango\",\"lichi\"}\n",
    "mylist=[\"apple\",\"banana\",\"cherry\"]\n",
    "mytuple=(\"tiger\",\"lion\",\"cat\")\n",
    "myset.update(mytuple)\n",
    "print(myset)"
   ]
  },
  {
   "cell_type": "code",
   "execution_count": 1,
   "id": "145b7bac",
   "metadata": {},
   "outputs": [
    {
     "name": "stdout",
     "output_type": "stream",
     "text": [
      "{'pritam', 'joy', 'nehal', 'kiara', 'arman', 'arhan'}\n"
     ]
    }
   ],
   "source": [
    "myset={\"arman\",\"nehal\",\"pritam\",\"joy\",\"arhan\"}\n",
    "myset.add(\"kiara\")\n",
    "print(myset)"
   ]
  },
  {
   "cell_type": "code",
   "execution_count": 2,
   "id": "b09f0daf",
   "metadata": {},
   "outputs": [
    {
     "name": "stdout",
     "output_type": "stream",
     "text": [
      "{'banana', 'apple', 'watermalon', 'kiwi', 'lichi', 'cherry'}\n"
     ]
    }
   ],
   "source": [
    "myset={\"apple\",\"banana\",\"cherry\",\"kiwi\",\"lichi\"}\n",
    "myset.add(\"watermalon\")\n",
    "print(myset)"
   ]
  },
  {
   "cell_type": "code",
   "execution_count": 4,
   "id": "41128581",
   "metadata": {},
   "outputs": [
    {
     "name": "stdout",
     "output_type": "stream",
     "text": [
      "{'porimoni', 'joy', 'nehal', 'anuska', 'arman', 'mrunal', 'pritam', 'kiara', 'arhan'}\n"
     ]
    }
   ],
   "source": [
    "myset={\"arman\",\"nehal\",\"arhan\",\"pritam\",\"joy\"}\n",
    "yourset={\"kiara\",\"porimoni\",\"mrunal\",\"anuska\"}\n",
    "myset.update(yourset)\n",
    "print(myset)"
   ]
  },
  {
   "cell_type": "code",
   "execution_count": 5,
   "id": "54da8efa",
   "metadata": {},
   "outputs": [
    {
     "name": "stdout",
     "output_type": "stream",
     "text": [
      "{'joy', 38, 'nehal', 'arman', 'mrunal', 'kiara', '36'}\n"
     ]
    }
   ],
   "source": [
    "myset={\"arman\",\"joy\",\"nehal\"}\n",
    "mal=[\"mrunal\",38,\"kiara\",\"36\"]\n",
    "myset.update(mal)\n",
    "print(myset)"
   ]
  },
  {
   "cell_type": "code",
   "execution_count": 6,
   "id": "d37d3ee9",
   "metadata": {},
   "outputs": [
    {
     "name": "stdout",
     "output_type": "stream",
     "text": [
      "{'arman', 'pritam', 'joy', 'nehal'}\n"
     ]
    }
   ],
   "source": [
    "myset={\"arman\",\"joy\",\"nehal\"}\n",
    "myset.add(\"pritam\")\n",
    "print(myset)"
   ]
  },
  {
   "cell_type": "code",
   "execution_count": 7,
   "id": "5c22500f",
   "metadata": {},
   "outputs": [
    {
     "name": "stdout",
     "output_type": "stream",
     "text": [
      "{'porimoni', 'joy', 'nehal', 'anuska', 'arman', 'kiara', 'mrunal'}\n"
     ]
    }
   ],
   "source": [
    "myset={\"arman\",\"joy\",\"nehal\"}\n",
    "yourset={\"kiara\",\"porimoni\",\"mrunal\",\"anuska\"}\n",
    "myset.update(yourset)\n",
    "print(myset)"
   ]
  },
  {
   "cell_type": "code",
   "execution_count": null,
   "id": "ec0586c5",
   "metadata": {},
   "outputs": [],
   "source": []
  }
 ],
 "metadata": {
  "kernelspec": {
   "display_name": "Python 3 (ipykernel)",
   "language": "python",
   "name": "python3"
  },
  "language_info": {
   "codemirror_mode": {
    "name": "ipython",
    "version": 3
   },
   "file_extension": ".py",
   "mimetype": "text/x-python",
   "name": "python",
   "nbconvert_exporter": "python",
   "pygments_lexer": "ipython3",
   "version": "3.10.9"
  }
 },
 "nbformat": 4,
 "nbformat_minor": 5
}
