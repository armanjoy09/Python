{
 "cells": [
  {
   "cell_type": "code",
   "execution_count": 1,
   "id": "ec485ced",
   "metadata": {},
   "outputs": [
    {
     "name": "stdout",
     "output_type": "stream",
     "text": [
      "<class 'int'>\n"
     ]
    }
   ],
   "source": [
    "# numeric data type\n",
    "# int type data \n",
    "x=4\n",
    "print (type(x))"
   ]
  },
  {
   "cell_type": "code",
   "execution_count": 1,
   "id": "5a621a5e",
   "metadata": {},
   "outputs": [
    {
     "name": "stdout",
     "output_type": "stream",
     "text": [
      "<class 'float'>\n"
     ]
    }
   ],
   "source": [
    "# float data type\n",
    "x=30.5\n",
    "print(type(x))\n"
   ]
  },
  {
   "cell_type": "code",
   "execution_count": 2,
   "id": "d8d5dd84",
   "metadata": {},
   "outputs": [
    {
     "name": "stdout",
     "output_type": "stream",
     "text": [
      "40.5\n"
     ]
    }
   ],
   "source": [
    "x=40.5\n",
    "print(x)"
   ]
  },
  {
   "cell_type": "code",
   "execution_count": 3,
   "id": "0fe35d4c",
   "metadata": {},
   "outputs": [
    {
     "name": "stdout",
     "output_type": "stream",
     "text": [
      "1j\n"
     ]
    }
   ],
   "source": [
    "# complex type data (j is the complex sine)\n",
    "x=1j\n",
    "print(x)"
   ]
  },
  {
   "cell_type": "code",
   "execution_count": 3,
   "id": "7ebc2b6e",
   "metadata": {},
   "outputs": [
    {
     "name": "stdout",
     "output_type": "stream",
     "text": [
      "4j\n"
     ]
    }
   ],
   "source": [
    "# complex type data \n",
    "x=4j\n",
    "print(x)"
   ]
  },
  {
   "cell_type": "code",
   "execution_count": 4,
   "id": "b6c701d2",
   "metadata": {},
   "outputs": [
    {
     "name": "stdout",
     "output_type": "stream",
     "text": [
      "<class 'complex'>\n"
     ]
    }
   ],
   "source": [
    "# complex type data \n",
    "x=3j\n",
    "print(type(x))"
   ]
  },
  {
   "cell_type": "code",
   "execution_count": 6,
   "id": "e2fa22a2",
   "metadata": {},
   "outputs": [
    {
     "name": "stdout",
     "output_type": "stream",
     "text": [
      "JOY\n"
     ]
    }
   ],
   "source": [
    "# string type data \n",
    "yourname=\"JOY\"\n",
    "print(yourname)"
   ]
  },
  {
   "cell_type": "code",
   "execution_count": 7,
   "id": "52d913e1",
   "metadata": {},
   "outputs": [
    {
     "name": "stdout",
     "output_type": "stream",
     "text": [
      "joytabassum\n"
     ]
    }
   ],
   "source": [
    "# string type data \n",
    "me=\"joy\"\n",
    "she=\"tabassum\"\n",
    "print(me+she)"
   ]
  },
  {
   "cell_type": "code",
   "execution_count": 8,
   "id": "78570abe",
   "metadata": {},
   "outputs": [
    {
     "name": "stdout",
     "output_type": "stream",
     "text": [
      "my name isjoy\n"
     ]
    }
   ],
   "source": [
    "# string type data \n",
    "me=\"joy\"\n",
    "she=\"fahmida\"\n",
    "print(\"my name is\"+me)"
   ]
  },
  {
   "cell_type": "code",
   "execution_count": 12,
   "id": "9a1f6ed0",
   "metadata": {},
   "outputs": [
    {
     "name": "stdout",
     "output_type": "stream",
     "text": [
      "my name is joy\n"
     ]
    }
   ],
   "source": [
    "# string type data \n",
    "me=\"joy\"\n",
    "she=\"fahmida\"\n",
    "print(\"my name is\"+' '+me)"
   ]
  },
  {
   "cell_type": "code",
   "execution_count": 14,
   "id": "24de8c51",
   "metadata": {},
   "outputs": [
    {
     "name": "stdout",
     "output_type": "stream",
     "text": [
      "False\n"
     ]
    }
   ],
   "source": [
    "# bool type data \n",
    "x=50\n",
    "y=60\n",
    "print(x>y)"
   ]
  },
  {
   "cell_type": "code",
   "execution_count": 15,
   "id": "7f297067",
   "metadata": {},
   "outputs": [
    {
     "name": "stdout",
     "output_type": "stream",
     "text": [
      "<class 'bool'>\n"
     ]
    }
   ],
   "source": [
    "# bool type data \n",
    "hablu=bool\n",
    "print(hablu)"
   ]
  },
  {
   "cell_type": "code",
   "execution_count": 16,
   "id": "c2bf35e9",
   "metadata": {},
   "outputs": [
    {
     "name": "stdout",
     "output_type": "stream",
     "text": [
      "<class 'bool'>\n"
     ]
    }
   ],
   "source": [
    "# bool type data \n",
    "bool=hablu\n",
    "print(bool)"
   ]
  },
  {
   "cell_type": "code",
   "execution_count": 21,
   "id": "b0e50612",
   "metadata": {},
   "outputs": [
    {
     "name": "stdout",
     "output_type": "stream",
     "text": [
      "<class 'bool'>\n"
     ]
    }
   ],
   "source": [
    "# bool type data \n",
    "bool=True\n",
    "print(type(bool))"
   ]
  },
  {
   "cell_type": "code",
   "execution_count": 22,
   "id": "6f602439",
   "metadata": {},
   "outputs": [
    {
     "name": "stdout",
     "output_type": "stream",
     "text": [
      "<class 'bool'>\n"
     ]
    }
   ],
   "source": [
    "# bool type data \n",
    "hablubol=True\n",
    "print(type(hablubol))"
   ]
  },
  {
   "cell_type": "code",
   "execution_count": 23,
   "id": "ea15cb79",
   "metadata": {},
   "outputs": [
    {
     "name": "stdout",
     "output_type": "stream",
     "text": [
      "True\n"
     ]
    }
   ],
   "source": [
    "x=6\n",
    "y=8\n",
    "print(y>x)"
   ]
  },
  {
   "cell_type": "code",
   "execution_count": 24,
   "id": "a50e8ff4",
   "metadata": {},
   "outputs": [
    {
     "name": "stdout",
     "output_type": "stream",
     "text": [
      "False\n"
     ]
    }
   ],
   "source": [
    "x=9\n",
    "y=10\n",
    "print (x==y)"
   ]
  },
  {
   "cell_type": "code",
   "execution_count": 27,
   "id": "cdb536af",
   "metadata": {},
   "outputs": [
    {
     "name": "stdout",
     "output_type": "stream",
     "text": [
      "False\n"
     ]
    }
   ],
   "source": [
    "x=8\n",
    "y=5\n",
    "print(x<y)"
   ]
  },
  {
   "cell_type": "code",
   "execution_count": 6,
   "id": "4e36fbf8",
   "metadata": {},
   "outputs": [
    {
     "name": "stdout",
     "output_type": "stream",
     "text": [
      "my nick name is joy\n"
     ]
    }
   ],
   "source": [
    "# string type data\n",
    "myname=\"arman\"\n",
    "nickname=\"joy\"\n",
    "x=\"my nick name is\"+' '+nickname\n",
    "print(x)"
   ]
  },
  {
   "cell_type": "code",
   "execution_count": 8,
   "id": "a356d15b",
   "metadata": {},
   "outputs": [
    {
     "name": "stdout",
     "output_type": "stream",
     "text": [
      "arman tabassum\n"
     ]
    }
   ],
   "source": [
    "myname=\"arman\"\n",
    "hername=\"tabassum\"\n",
    "print(myname+\" \"+hername)"
   ]
  },
  {
   "cell_type": "code",
   "execution_count": 9,
   "id": "52767ef2",
   "metadata": {},
   "outputs": [
    {
     "name": "stdout",
     "output_type": "stream",
     "text": [
      "her name istabassum\n"
     ]
    }
   ],
   "source": [
    "myname=\"arman\"\n",
    "hername=\"tabassum\"\n",
    "print(\"her name is\"+hername)"
   ]
  },
  {
   "cell_type": "code",
   "execution_count": 11,
   "id": "8f359530",
   "metadata": {},
   "outputs": [
    {
     "name": "stdout",
     "output_type": "stream",
     "text": [
      "<class 'bool'>\n"
     ]
    }
   ],
   "source": [
    "# Bool type data\n",
    "x=20\n",
    "y=30\n",
    "t=x>y\n",
    "print(type(t)) #because its false"
   ]
  },
  {
   "cell_type": "code",
   "execution_count": 15,
   "id": "d065cabd",
   "metadata": {},
   "outputs": [
    {
     "name": "stdout",
     "output_type": "stream",
     "text": [
      "<class 'bool'>\n"
     ]
    }
   ],
   "source": [
    "bool= hablu\n",
    "print(bool)"
   ]
  },
  {
   "cell_type": "code",
   "execution_count": 14,
   "id": "fcde7b2a",
   "metadata": {},
   "outputs": [
    {
     "name": "stdout",
     "output_type": "stream",
     "text": [
      "<class 'bool'>\n"
     ]
    }
   ],
   "source": [
    "hablu=bool\n",
    "print(hablu)"
   ]
  },
  {
   "cell_type": "code",
   "execution_count": 16,
   "id": "1865f484",
   "metadata": {},
   "outputs": [
    {
     "name": "stdout",
     "output_type": "stream",
     "text": [
      "<class 'bool'>\n"
     ]
    }
   ],
   "source": [
    "hablubol=True\n",
    "print(type(hablubol))"
   ]
  },
  {
   "cell_type": "code",
   "execution_count": 17,
   "id": "614809fa",
   "metadata": {},
   "outputs": [
    {
     "name": "stdout",
     "output_type": "stream",
     "text": [
      "<class 'bool'>\n"
     ]
    }
   ],
   "source": [
    "gablubol=False\n",
    "print(type(gablubol))"
   ]
  },
  {
   "cell_type": "code",
   "execution_count": null,
   "id": "ca968875",
   "metadata": {},
   "outputs": [],
   "source": []
  }
 ],
 "metadata": {
  "kernelspec": {
   "display_name": "Python 3 (ipykernel)",
   "language": "python",
   "name": "python3"
  },
  "language_info": {
   "codemirror_mode": {
    "name": "ipython",
    "version": 3
   },
   "file_extension": ".py",
   "mimetype": "text/x-python",
   "name": "python",
   "nbconvert_exporter": "python",
   "pygments_lexer": "ipython3",
   "version": "3.10.9"
  }
 },
 "nbformat": 4,
 "nbformat_minor": 5
}
