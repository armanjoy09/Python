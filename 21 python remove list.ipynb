{
 "cells": [
  {
   "cell_type": "code",
   "execution_count": 1,
   "id": "3de7dafe",
   "metadata": {},
   "outputs": [
    {
     "name": "stdout",
     "output_type": "stream",
     "text": [
      "['apple', 'banana']\n"
     ]
    }
   ],
   "source": [
    "# remove() methode\n",
    "list=['apple','banana','cherry']\n",
    "list.remove('cherry')\n",
    "print(list)"
   ]
  },
  {
   "cell_type": "code",
   "execution_count": 5,
   "id": "40811349",
   "metadata": {},
   "outputs": [
    {
     "name": "stdout",
     "output_type": "stream",
     "text": [
      "['apple', 'cherry', 'banana']\n"
     ]
    }
   ],
   "source": [
    "list=['apple','banana','cherry','banana']\n",
    "list.remove('banana')\n",
    "print(list)"
   ]
  },
  {
   "cell_type": "code",
   "execution_count": 6,
   "id": "381a8ce9",
   "metadata": {},
   "outputs": [
    {
     "name": "stdout",
     "output_type": "stream",
     "text": [
      "['apple', 'cherry', 'banana']\n"
     ]
    }
   ],
   "source": [
    "# pop()methode\n",
    "lsit=['apple','banana','cherry','kiwi']\n",
    "lsit.pop(3)\n",
    "print(list)"
   ]
  },
  {
   "cell_type": "code",
   "execution_count": 7,
   "id": "0db2fa16",
   "metadata": {},
   "outputs": [
    {
     "name": "stdout",
     "output_type": "stream",
     "text": [
      "['apple', 'cherry']\n"
     ]
    }
   ],
   "source": [
    "list.pop()\n",
    "print(list)"
   ]
  },
  {
   "cell_type": "code",
   "execution_count": 8,
   "id": "731d15bc",
   "metadata": {},
   "outputs": [
    {
     "name": "stdout",
     "output_type": "stream",
     "text": [
      "['banana', 'cherry']\n"
     ]
    }
   ],
   "source": [
    "# del methode\n",
    "list=['apple','banana','cherry']\n",
    "del list[0]\n",
    "print(list)"
   ]
  },
  {
   "cell_type": "code",
   "execution_count": 10,
   "id": "290e6f5c",
   "metadata": {},
   "outputs": [
    {
     "name": "stdout",
     "output_type": "stream",
     "text": [
      "<class 'list'>\n"
     ]
    }
   ],
   "source": [
    "list=[2,3,4,5,5]\n",
    "del list\n",
    "print(list)"
   ]
  },
  {
   "cell_type": "code",
   "execution_count": 11,
   "id": "b2217203",
   "metadata": {},
   "outputs": [
    {
     "name": "stdout",
     "output_type": "stream",
     "text": [
      "[]\n"
     ]
    }
   ],
   "source": [
    "list=['apple','banana','cherry']\n",
    "list.clear()\n",
    "print(list)"
   ]
  },
  {
   "cell_type": "code",
   "execution_count": 12,
   "id": "22336eab",
   "metadata": {},
   "outputs": [
    {
     "name": "stdout",
     "output_type": "stream",
     "text": [
      "[]\n"
     ]
    }
   ],
   "source": [
    "list.clear()\n",
    "print(list)"
   ]
  },
  {
   "cell_type": "code",
   "execution_count": 13,
   "id": "ed0c4d11",
   "metadata": {},
   "outputs": [
    {
     "name": "stdout",
     "output_type": "stream",
     "text": [
      "['apple', 'banana', 'cherry']\n"
     ]
    }
   ],
   "source": [
    "list=['apple','banana','cherry','kiwi']\n",
    "list.remove('kiwi')\n",
    "print(list)"
   ]
  },
  {
   "cell_type": "code",
   "execution_count": 14,
   "id": "44af44a8",
   "metadata": {},
   "outputs": [
    {
     "name": "stdout",
     "output_type": "stream",
     "text": [
      "['apple', 'cherry', 'kiwi', 'banana']\n"
     ]
    }
   ],
   "source": [
    "list=['apple','banana','cherry','kiwi','banana']\n",
    "list.remove('banana')\n",
    "print(list)"
   ]
  },
  {
   "cell_type": "code",
   "execution_count": 15,
   "id": "3a2f4acf",
   "metadata": {},
   "outputs": [
    {
     "name": "stdout",
     "output_type": "stream",
     "text": [
      "['apple', 'cherry', 'banana']\n"
     ]
    }
   ],
   "source": [
    "list.pop(2)\n",
    "print(list)"
   ]
  },
  {
   "cell_type": "code",
   "execution_count": 16,
   "id": "5b99e650",
   "metadata": {},
   "outputs": [
    {
     "name": "stdout",
     "output_type": "stream",
     "text": [
      "['apple', 'cherry']\n"
     ]
    }
   ],
   "source": [
    "list.pop()\n",
    "print(list)"
   ]
  },
  {
   "cell_type": "code",
   "execution_count": 17,
   "id": "7bce7aac",
   "metadata": {},
   "outputs": [
    {
     "name": "stdout",
     "output_type": "stream",
     "text": [
      "['cherry']\n"
     ]
    }
   ],
   "source": [
    "del list[0]\n",
    "print(list)"
   ]
  },
  {
   "cell_type": "code",
   "execution_count": 18,
   "id": "619eae4b",
   "metadata": {},
   "outputs": [
    {
     "name": "stdout",
     "output_type": "stream",
     "text": [
      "<class 'list'>\n"
     ]
    }
   ],
   "source": [
    "del list\n",
    "print(list)"
   ]
  },
  {
   "cell_type": "code",
   "execution_count": 20,
   "id": "1ff2978a",
   "metadata": {},
   "outputs": [
    {
     "name": "stdout",
     "output_type": "stream",
     "text": [
      "[]\n"
     ]
    }
   ],
   "source": [
    "list=[2,3,4,5,6]\n",
    "list.clear()\n",
    "print(list)"
   ]
  },
  {
   "cell_type": "code",
   "execution_count": 1,
   "id": "db7b0417",
   "metadata": {},
   "outputs": [
    {
     "name": "stdout",
     "output_type": "stream",
     "text": [
      "['apple', 'cherry', 'kiwi']\n"
     ]
    }
   ],
   "source": [
    " #remove() method\n",
    "mylist=[\"apple\",\"banana\",\"cherry\",\"kiwi\"]\n",
    "mylist.remove(\"banana\")\n",
    "print(mylist)"
   ]
  },
  {
   "cell_type": "code",
   "execution_count": 2,
   "id": "812caa2b",
   "metadata": {},
   "outputs": [
    {
     "name": "stdout",
     "output_type": "stream",
     "text": [
      "['apple', 'cherry', 'kiwi', 'banana']\n"
     ]
    }
   ],
   "source": [
    "mylist=[\"apple\",\"banana\",\"cherry\",\"kiwi\",\"banana\"]\n",
    "mylist.remove(\"banana\")\n",
    "print(mylist)"
   ]
  },
  {
   "cell_type": "code",
   "execution_count": 3,
   "id": "9fe20e76",
   "metadata": {},
   "outputs": [
    {
     "name": "stdout",
     "output_type": "stream",
     "text": [
      "['arman', 'masum', 'monir', 'joy']\n"
     ]
    }
   ],
   "source": [
    "# pop() method\n",
    "# the pop() method removes the specified index\n",
    "mylist=[\"arman\",\"masum\",\"monir\",\"joy\",\"foysal\"]\n",
    "mylist.pop(-1)\n",
    "print(mylist)"
   ]
  },
  {
   "cell_type": "code",
   "execution_count": 4,
   "id": "b8234f22",
   "metadata": {},
   "outputs": [
    {
     "name": "stdout",
     "output_type": "stream",
     "text": [
      "['arman', 'masum', 'monir']\n"
     ]
    }
   ],
   "source": [
    "mylist.pop(3)\n",
    "print(mylist)"
   ]
  },
  {
   "cell_type": "code",
   "execution_count": 5,
   "id": "2a680408",
   "metadata": {},
   "outputs": [
    {
     "name": "stdout",
     "output_type": "stream",
     "text": [
      "['arman', 'masum', 'monir', 'joy']\n"
     ]
    }
   ],
   "source": [
    "# if we don't specifiy the index the pop() method will remove the last item\n",
    "mylist=[\"arman\",\"masum\",\"monir\",\"joy\",\"foysal\"]\n",
    "mylist.pop()\n",
    "print(mylist)"
   ]
  },
  {
   "cell_type": "code",
   "execution_count": 6,
   "id": "e8b065a0",
   "metadata": {},
   "outputs": [
    {
     "name": "stdout",
     "output_type": "stream",
     "text": [
      "['arman', 'masum', 'monir']\n"
     ]
    }
   ],
   "source": [
    "mylist.pop()\n",
    "print(mylist)"
   ]
  },
  {
   "cell_type": "code",
   "execution_count": 7,
   "id": "43cc79e8",
   "metadata": {},
   "outputs": [
    {
     "name": "stdout",
     "output_type": "stream",
     "text": [
      "['arman', 'masum', 'monir', 'joy']\n"
     ]
    }
   ],
   "source": [
    "# del keyword also remove the specified index\n",
    "mylist=[\"arman\",\"masum\",\"monir\",\"joy\",\"foysal\"]\n",
    "del mylist[-1]\n",
    "print(mylist)"
   ]
  },
  {
   "cell_type": "code",
   "execution_count": 8,
   "id": "6916ae95",
   "metadata": {},
   "outputs": [
    {
     "name": "stdout",
     "output_type": "stream",
     "text": [
      "['arman', 'masum', 'monir']\n"
     ]
    }
   ],
   "source": [
    "del mylist[3]\n",
    "print(mylist)"
   ]
  },
  {
   "cell_type": "code",
   "execution_count": 9,
   "id": "200802be",
   "metadata": {},
   "outputs": [
    {
     "ename": "NameError",
     "evalue": "name 'mylist' is not defined",
     "output_type": "error",
     "traceback": [
      "\u001b[1;31m---------------------------------------------------------------------------\u001b[0m",
      "\u001b[1;31mNameError\u001b[0m                                 Traceback (most recent call last)",
      "Cell \u001b[1;32mIn[9], line 4\u001b[0m\n\u001b[0;32m      2\u001b[0m mylist\u001b[38;5;241m=\u001b[39m[\u001b[38;5;124m\"\u001b[39m\u001b[38;5;124marman\u001b[39m\u001b[38;5;124m\"\u001b[39m,\u001b[38;5;124m\"\u001b[39m\u001b[38;5;124mmasum\u001b[39m\u001b[38;5;124m\"\u001b[39m,\u001b[38;5;124m\"\u001b[39m\u001b[38;5;124mmonir\u001b[39m\u001b[38;5;124m\"\u001b[39m,\u001b[38;5;124m\"\u001b[39m\u001b[38;5;124mjoy\u001b[39m\u001b[38;5;124m\"\u001b[39m,\u001b[38;5;124m\"\u001b[39m\u001b[38;5;124mfoysal\u001b[39m\u001b[38;5;124m\"\u001b[39m]\n\u001b[0;32m      3\u001b[0m \u001b[38;5;28;01mdel\u001b[39;00m mylist\n\u001b[1;32m----> 4\u001b[0m \u001b[38;5;28mprint\u001b[39m(\u001b[43mmylist\u001b[49m)\n",
      "\u001b[1;31mNameError\u001b[0m: name 'mylist' is not defined"
     ]
    }
   ],
   "source": [
    "# del keyword can also delete the list completly(error dibe karon list delete)\n",
    "mylist=[\"arman\",\"masum\",\"monir\",\"joy\",\"foysal\"]\n",
    "del mylist\n",
    "print(mylist)"
   ]
  },
  {
   "cell_type": "code",
   "execution_count": 11,
   "id": "3629c7ab",
   "metadata": {},
   "outputs": [
    {
     "name": "stdout",
     "output_type": "stream",
     "text": [
      "[]\n"
     ]
    }
   ],
   "source": [
    "# clear() method\n",
    "mylist=[\"arman\",\"masum\",\"monir\",\"joy\",\"foysal\"]\n",
    "mylist.clear()\n",
    "print(mylist)"
   ]
  },
  {
   "cell_type": "code",
   "execution_count": null,
   "id": "293615b5",
   "metadata": {},
   "outputs": [],
   "source": []
  }
 ],
 "metadata": {
  "kernelspec": {
   "display_name": "Python 3 (ipykernel)",
   "language": "python",
   "name": "python3"
  },
  "language_info": {
   "codemirror_mode": {
    "name": "ipython",
    "version": 3
   },
   "file_extension": ".py",
   "mimetype": "text/x-python",
   "name": "python",
   "nbconvert_exporter": "python",
   "pygments_lexer": "ipython3",
   "version": "3.10.9"
  }
 },
 "nbformat": 4,
 "nbformat_minor": 5
}
