{
 "cells": [
  {
   "cell_type": "code",
   "execution_count": 1,
   "id": "708bcb24",
   "metadata": {},
   "outputs": [
    {
     "name": "stdout",
     "output_type": "stream",
     "text": [
      "2\n",
      "4\n",
      "6\n",
      "8\n",
      "10\n"
     ]
    }
   ],
   "source": [
    "# list comprehension\n",
    "num=[1,2,3,4,5]\n",
    "for i in num:\n",
    "    print(i * 2)"
   ]
  },
  {
   "cell_type": "code",
   "execution_count": 2,
   "id": "f934b9fa",
   "metadata": {},
   "outputs": [
    {
     "name": "stdout",
     "output_type": "stream",
     "text": [
      "[2, 4, 6, 8, 10]\n"
     ]
    }
   ],
   "source": [
    "double=[i*2 for i in num]\n",
    "print(double)"
   ]
  },
  {
   "cell_type": "code",
   "execution_count": 3,
   "id": "402866ca",
   "metadata": {},
   "outputs": [
    {
     "name": "stdout",
     "output_type": "stream",
     "text": [
      "2\n",
      "4\n",
      "6\n",
      "8\n",
      "10\n",
      "12\n"
     ]
    }
   ],
   "source": [
    "num=[1,2,3,4,5,6]\n",
    "for i in num:\n",
    "    print(i * 2)"
   ]
  },
  {
   "cell_type": "code",
   "execution_count": 6,
   "id": "2aff1bf2",
   "metadata": {},
   "outputs": [
    {
     "name": "stdout",
     "output_type": "stream",
     "text": [
      "[0.5, 1.0, 1.5, 2.0, 2.5, 3.0]\n"
     ]
    }
   ],
   "source": [
    "# use comprehension\n",
    "double=[i/2 for i in num]\n",
    "print(double)"
   ]
  },
  {
   "cell_type": "code",
   "execution_count": 8,
   "id": "8f30b14f",
   "metadata": {},
   "outputs": [
    {
     "name": "stdout",
     "output_type": "stream",
     "text": [
      "[2, 4, 6, 8, 10, 12, 14]\n"
     ]
    }
   ],
   "source": [
    "num=[1,2,3,4,5,6,7]\n",
    "double=[i*2 for i in num]\n",
    "print(double)"
   ]
  },
  {
   "cell_type": "code",
   "execution_count": 13,
   "id": "cc869bec",
   "metadata": {},
   "outputs": [
    {
     "name": "stdout",
     "output_type": "stream",
     "text": [
      "[2, 4, 6, 8, 10, 12, 14]\n"
     ]
    }
   ],
   "source": [
    "print([i*2 for i in num])"
   ]
  },
  {
   "cell_type": "code",
   "execution_count": 14,
   "id": "9506597b",
   "metadata": {},
   "outputs": [
    {
     "name": "stdout",
     "output_type": "stream",
     "text": [
      "[2, 4, 6, 8, 10, 12, 14]\n"
     ]
    }
   ],
   "source": [
    "print([i*2 for i in num])"
   ]
  },
  {
   "cell_type": "code",
   "execution_count": 4,
   "id": "e2375abd",
   "metadata": {},
   "outputs": [
    {
     "name": "stdout",
     "output_type": "stream",
     "text": [
      "3\n",
      "6\n",
      "9\n",
      "12\n",
      "15\n"
     ]
    }
   ],
   "source": [
    "# comprehension er bitore caile jog gun bag sob e korte parbo\n",
    "num=[1,2,3,4,5]\n",
    "for i in num:\n",
    " print(i*3)"
   ]
  },
  {
   "cell_type": "code",
   "execution_count": 9,
   "id": "4f56167d",
   "metadata": {},
   "outputs": [
    {
     "name": "stdout",
     "output_type": "stream",
     "text": [
      "8\n",
      "9\n",
      "10\n",
      "11\n",
      "12\n"
     ]
    }
   ],
   "source": [
    "num=[1,2,3,4,5]\n",
    "for i in num:\n",
    "    i+=5\n",
    "    print(i+2)"
   ]
  },
  {
   "cell_type": "code",
   "execution_count": 10,
   "id": "b12cf5b7",
   "metadata": {},
   "outputs": [
    {
     "name": "stdout",
     "output_type": "stream",
     "text": [
      "5\n",
      "15\n",
      "25\n",
      "35\n",
      "45\n"
     ]
    }
   ],
   "source": [
    "num=[10,20,30,40,50]\n",
    "for i in num:\n",
    "    print(i-5)"
   ]
  },
  {
   "cell_type": "code",
   "execution_count": 12,
   "id": "8a60f8d8",
   "metadata": {},
   "outputs": [
    {
     "name": "stdout",
     "output_type": "stream",
     "text": [
      "[30, 60, 90, 120, 150]\n"
     ]
    }
   ],
   "source": [
    "print([i*3 for i in num])"
   ]
  },
  {
   "cell_type": "code",
   "execution_count": 13,
   "id": "9833a070",
   "metadata": {},
   "outputs": [
    {
     "name": "stdout",
     "output_type": "stream",
     "text": [
      "[20, 30, 40, 50, 60]\n"
     ]
    }
   ],
   "source": [
    "print([i+10 for i in num])"
   ]
  },
  {
   "cell_type": "code",
   "execution_count": null,
   "id": "6de3a07f",
   "metadata": {},
   "outputs": [],
   "source": []
  }
 ],
 "metadata": {
  "kernelspec": {
   "display_name": "Python 3 (ipykernel)",
   "language": "python",
   "name": "python3"
  },
  "language_info": {
   "codemirror_mode": {
    "name": "ipython",
    "version": 3
   },
   "file_extension": ".py",
   "mimetype": "text/x-python",
   "name": "python",
   "nbconvert_exporter": "python",
   "pygments_lexer": "ipython3",
   "version": "3.10.9"
  }
 },
 "nbformat": 4,
 "nbformat_minor": 5
}
