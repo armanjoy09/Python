{
 "cells": [
  {
   "cell_type": "code",
   "execution_count": 17,
   "id": "3869a3d8",
   "metadata": {},
   "outputs": [
    {
     "name": "stdout",
     "output_type": "stream",
     "text": [
      "2029038\n"
     ]
    }
   ],
   "source": [
    "class present:\n",
    "    def __init__(self,Name,Roll):\n",
    "        self.Name=Name   #public\n",
    "        self.Roll=Roll\n",
    "        \n",
    "        \n",
    "p1=present(\"arman\",\"2029018\")\n",
    "p1.Roll=\"2029038\"\n",
    "print(p1.Roll)"
   ]
  },
  {
   "cell_type": "code",
   "execution_count": 28,
   "id": "5420c01a",
   "metadata": {},
   "outputs": [
    {
     "ename": "AttributeError",
     "evalue": "'present' object has no attribute '__Name'",
     "output_type": "error",
     "traceback": [
      "\u001b[1;31m---------------------------------------------------------------------------\u001b[0m",
      "\u001b[1;31mAttributeError\u001b[0m                            Traceback (most recent call last)",
      "Cell \u001b[1;32mIn[28], line 8\u001b[0m\n\u001b[0;32m      4\u001b[0m         \u001b[38;5;28mself\u001b[39m\u001b[38;5;241m.\u001b[39m__Roll\u001b[38;5;241m=\u001b[39mRoll\n\u001b[0;32m      7\u001b[0m p1\u001b[38;5;241m=\u001b[39mpresent(\u001b[38;5;124m\"\u001b[39m\u001b[38;5;124marman\u001b[39m\u001b[38;5;124m\"\u001b[39m,\u001b[38;5;124m\"\u001b[39m\u001b[38;5;124m2029018\u001b[39m\u001b[38;5;124m\"\u001b[39m)\n\u001b[1;32m----> 8\u001b[0m \u001b[38;5;28mprint\u001b[39m(\u001b[43mp1\u001b[49m\u001b[38;5;241;43m.\u001b[39;49m\u001b[43m__Name\u001b[49m)\n",
      "\u001b[1;31mAttributeError\u001b[0m: 'present' object has no attribute '__Name'"
     ]
    }
   ],
   "source": [
    "class present:\n",
    "    def __init__(self,Name,Roll):\n",
    "        self.__Name=Name\n",
    "        self.__Roll=Roll\n",
    "        \n",
    "        \n",
    "p1=present(\"arman\",\"2029018\")\n",
    "print(p1.__Name)"
   ]
  },
  {
   "cell_type": "code",
   "execution_count": 25,
   "id": "39fcd1f9",
   "metadata": {},
   "outputs": [
    {
     "name": "stdout",
     "output_type": "stream",
     "text": [
      "2002\n"
     ]
    }
   ],
   "source": [
    "class present:\n",
    "    def __init__(self,name,roll):\n",
    "        self.__name=name  #instance variable\n",
    "        self.__roll=roll\n",
    "        \n",
    "        \n",
    "    p1=present(\"arman\",\"2002\")\n",
    "    print(p1.__roll)"
   ]
  },
  {
   "cell_type": "code",
   "execution_count": 27,
   "id": "8e1fb265",
   "metadata": {},
   "outputs": [
    {
     "ename": "AttributeError",
     "evalue": "'present' object has no attribute '__roll'",
     "output_type": "error",
     "traceback": [
      "\u001b[1;31m---------------------------------------------------------------------------\u001b[0m",
      "\u001b[1;31mAttributeError\u001b[0m                            Traceback (most recent call last)",
      "Cell \u001b[1;32mIn[27], line 7\u001b[0m\n\u001b[0;32m      4\u001b[0m         \u001b[38;5;28mself\u001b[39m\u001b[38;5;241m.\u001b[39m__roll\u001b[38;5;241m=\u001b[39mroll\n\u001b[0;32m      6\u001b[0m p1\u001b[38;5;241m=\u001b[39mpresent(\u001b[38;5;124m\"\u001b[39m\u001b[38;5;124marman\u001b[39m\u001b[38;5;124m\"\u001b[39m,\u001b[38;5;124m\"\u001b[39m\u001b[38;5;124m2029018\u001b[39m\u001b[38;5;124m\"\u001b[39m)\n\u001b[1;32m----> 7\u001b[0m \u001b[38;5;28mprint\u001b[39m(\u001b[43mp1\u001b[49m\u001b[38;5;241;43m.\u001b[39;49m\u001b[43m__roll\u001b[49m)\n",
      "\u001b[1;31mAttributeError\u001b[0m: 'present' object has no attribute '__roll'"
     ]
    }
   ],
   "source": [
    "class present:\n",
    "    def __init__(self,name,roll):\n",
    "        self.__name=name\n",
    "        self.__roll=roll\n",
    "        \n",
    "p1=present(\"arman\",\"2029018\")\n",
    "print(p1.__roll)"
   ]
  },
  {
   "cell_type": "code",
   "execution_count": 32,
   "id": "c896df57",
   "metadata": {},
   "outputs": [
    {
     "name": "stdout",
     "output_type": "stream",
     "text": [
      "2029018\n"
     ]
    },
    {
     "ename": "AttributeError",
     "evalue": "'present' object has no attribute 'roll'",
     "output_type": "error",
     "traceback": [
      "\u001b[1;31m---------------------------------------------------------------------------\u001b[0m",
      "\u001b[1;31mAttributeError\u001b[0m                            Traceback (most recent call last)",
      "Cell \u001b[1;32mIn[32], line 9\u001b[0m\n\u001b[0;32m      5\u001b[0m         \u001b[38;5;28mprint\u001b[39m(\u001b[38;5;28mself\u001b[39m\u001b[38;5;241m.\u001b[39m__roll)\n\u001b[0;32m      8\u001b[0m p1\u001b[38;5;241m=\u001b[39mpresent(\u001b[38;5;124m\"\u001b[39m\u001b[38;5;124marman\u001b[39m\u001b[38;5;124m\"\u001b[39m,\u001b[38;5;124m\"\u001b[39m\u001b[38;5;124m2029018\u001b[39m\u001b[38;5;124m\"\u001b[39m)\n\u001b[1;32m----> 9\u001b[0m \u001b[38;5;28mprint\u001b[39m(\u001b[43mp1\u001b[49m\u001b[38;5;241;43m.\u001b[39;49m\u001b[43mroll\u001b[49m)\n",
      "\u001b[1;31mAttributeError\u001b[0m: 'present' object has no attribute 'roll'"
     ]
    }
   ],
   "source": [
    "class present:\n",
    "    def __init__(self,name,roll):\n",
    "        self.__name=name  #encapsulation\n",
    "        self.__roll=roll  \n",
    "        print(self.__roll)\n",
    "        \n",
    "        \n",
    "p1=present(\"arman\",\"2029018\")\n",
    "print(p1.roll)"
   ]
  },
  {
   "cell_type": "code",
   "execution_count": 33,
   "id": "072b8cfe",
   "metadata": {},
   "outputs": [
    {
     "ename": "AttributeError",
     "evalue": "'present' object has no attribute 'name'",
     "output_type": "error",
     "traceback": [
      "\u001b[1;31m---------------------------------------------------------------------------\u001b[0m",
      "\u001b[1;31mAttributeError\u001b[0m                            Traceback (most recent call last)",
      "Cell \u001b[1;32mIn[33], line 7\u001b[0m\n\u001b[0;32m      4\u001b[0m         \u001b[38;5;28mself\u001b[39m\u001b[38;5;241m.\u001b[39m__roll\u001b[38;5;241m=\u001b[39mroll\n\u001b[0;32m      6\u001b[0m p1\u001b[38;5;241m=\u001b[39mpresent(\u001b[38;5;124m\"\u001b[39m\u001b[38;5;124marman\u001b[39m\u001b[38;5;124m\"\u001b[39m,\u001b[38;5;124m\"\u001b[39m\u001b[38;5;124m2029018\u001b[39m\u001b[38;5;124m\"\u001b[39m)\n\u001b[1;32m----> 7\u001b[0m \u001b[38;5;28mprint\u001b[39m(\u001b[43mp1\u001b[49m\u001b[38;5;241;43m.\u001b[39;49m\u001b[43mname\u001b[49m)\n",
      "\u001b[1;31mAttributeError\u001b[0m: 'present' object has no attribute 'name'"
     ]
    }
   ],
   "source": [
    "class present:\n",
    "    def __init__(self,name,roll):\n",
    "        self.__name=name\n",
    "        self.__roll=roll\n",
    "        \n",
    "p1=present(\"arman\",\"2029018\")\n",
    "print(p1.name)"
   ]
  },
  {
   "cell_type": "code",
   "execution_count": 35,
   "id": "99582b7a",
   "metadata": {},
   "outputs": [
    {
     "name": "stdout",
     "output_type": "stream",
     "text": [
      "joy\n"
     ]
    }
   ],
   "source": [
    "class present:\n",
    "    def __init__(self,name,roll):\n",
    "        self.__name=name\n",
    "        self.__roll=roll\n",
    "        \n",
    "        \n",
    "        \n",
    "    p1=present(\"arman\",\"2029018\")\n",
    "    p1.__name=\"joy\"\n",
    "    print(p1.__name)      #same class er modde tai print hoyce"
   ]
  },
  {
   "cell_type": "code",
   "execution_count": null,
   "id": "1fc3bde3",
   "metadata": {},
   "outputs": [],
   "source": []
  }
 ],
 "metadata": {
  "kernelspec": {
   "display_name": "Python 3 (ipykernel)",
   "language": "python",
   "name": "python3"
  },
  "language_info": {
   "codemirror_mode": {
    "name": "ipython",
    "version": 3
   },
   "file_extension": ".py",
   "mimetype": "text/x-python",
   "name": "python",
   "nbconvert_exporter": "python",
   "pygments_lexer": "ipython3",
   "version": "3.10.9"
  }
 },
 "nbformat": 4,
 "nbformat_minor": 5
}
