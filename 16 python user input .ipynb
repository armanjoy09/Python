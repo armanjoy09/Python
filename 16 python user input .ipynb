{
 "cells": [
  {
   "cell_type": "code",
   "execution_count": 1,
   "id": "afb9520c",
   "metadata": {},
   "outputs": [
    {
     "name": "stdout",
     "output_type": "stream",
     "text": [
      "enter your username: arman joy\n",
      "enter your password34658\n",
      " arman joy\n",
      "34658\n"
     ]
    }
   ],
   "source": [
    "username=input(\"enter your username:\")\n",
    "password=input(\"enter your password\")\n",
    "print(username)\n",
    "print(password)"
   ]
  },
  {
   "cell_type": "code",
   "execution_count": 2,
   "id": "d5747d51",
   "metadata": {},
   "outputs": [
    {
     "name": "stdout",
     "output_type": "stream",
     "text": [
      "arman\n",
      "arman\n"
     ]
    }
   ],
   "source": [
    "username=input()\n",
    "print(username)"
   ]
  },
  {
   "cell_type": "code",
   "execution_count": 3,
   "id": "7714fc2b",
   "metadata": {},
   "outputs": [
    {
     "name": "stdout",
     "output_type": "stream",
     "text": [
      "enter your faborite football player name:messi\n",
      "enter his jersy number:10\n",
      "messi\n",
      "10\n"
     ]
    }
   ],
   "source": [
    "username=input(\"enter your faborite football player name:\")\n",
    "number=input(\"enter his jersy number:\")\n",
    "print(username)\n",
    "print(number)"
   ]
  },
  {
   "cell_type": "code",
   "execution_count": 1,
   "id": "9a18a671",
   "metadata": {},
   "outputs": [
    {
     "name": "stdout",
     "output_type": "stream",
     "text": [
      "armanjoy09\n",
      "armanjoy09\n"
     ]
    }
   ],
   "source": [
    "username=input()\n",
    "print(username)"
   ]
  },
  {
   "cell_type": "code",
   "execution_count": 2,
   "id": "68bdeae3",
   "metadata": {},
   "outputs": [
    {
     "name": "stdout",
     "output_type": "stream",
     "text": [
      "enter your username:armanjoy09\n",
      "enter your password:arjoymy\n",
      "armanjoy09\n",
      "arjoymy\n"
     ]
    }
   ],
   "source": [
    "username=input(\"enter your username:\")\n",
    "password=input(\"enter your password:\")\n",
    "print(username)\n",
    "print(password)\n"
   ]
  },
  {
   "cell_type": "code",
   "execution_count": 3,
   "id": "b522ebcd",
   "metadata": {},
   "outputs": [
    {
     "name": "stdout",
     "output_type": "stream",
     "text": [
      "enter your username:armanjoy09\n",
      "enter your password:armanjoy2029018\n",
      "armanjoy09\n",
      "armanjoy2029018\n"
     ]
    }
   ],
   "source": [
    "username=input(\"enter your username:\")\n",
    "password=input(\"enter your password:\")\n",
    "print(username)\n",
    "print(password)"
   ]
  },
  {
   "cell_type": "code",
   "execution_count": null,
   "id": "a280d423",
   "metadata": {},
   "outputs": [],
   "source": []
  }
 ],
 "metadata": {
  "kernelspec": {
   "display_name": "Python 3 (ipykernel)",
   "language": "python",
   "name": "python3"
  },
  "language_info": {
   "codemirror_mode": {
    "name": "ipython",
    "version": 3
   },
   "file_extension": ".py",
   "mimetype": "text/x-python",
   "name": "python",
   "nbconvert_exporter": "python",
   "pygments_lexer": "ipython3",
   "version": "3.10.9"
  }
 },
 "nbformat": 4,
 "nbformat_minor": 5
}
