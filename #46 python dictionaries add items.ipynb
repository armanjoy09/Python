{
 "cells": [
  {
   "cell_type": "code",
   "execution_count": 1,
   "id": "07025909",
   "metadata": {},
   "outputs": [
    {
     "name": "stdout",
     "output_type": "stream",
     "text": [
      "{'brand': 'ford', 'model': 'Mustang', 'year': '1964', 'color': 'yellow'}\n"
     ]
    }
   ],
   "source": [
    "thisdict={\n",
    "    \"brand\":\"ford\",\n",
    "    \"model\":\"Mustang\",\n",
    "    \"year\":\"1964\"\n",
    "}\n",
    "thisdict[\"color\"]=\"yellow\"\n",
    "print(thisdict)"
   ]
  },
  {
   "cell_type": "code",
   "execution_count": 2,
   "id": "94006179",
   "metadata": {},
   "outputs": [
    {
     "name": "stdout",
     "output_type": "stream",
     "text": [
      "{'brand': 'ford', 'model': 'Mustang', 'year': '1964', 'color': 'yellow', 'number': 309538}\n"
     ]
    }
   ],
   "source": [
    "thisdict[\"number\"]=309538\n",
    "print(thisdict)"
   ]
  },
  {
   "cell_type": "code",
   "execution_count": 3,
   "id": "daa8b738",
   "metadata": {},
   "outputs": [
    {
     "name": "stdout",
     "output_type": "stream",
     "text": [
      "{'brand': 'ford', 'model': 'mustang', 'year': '1964', 'color': 'yellow'}\n"
     ]
    }
   ],
   "source": [
    "# using update()methode\n",
    "thisdict={\n",
    "    \"brand\":\"ford\",\n",
    "    \"model\":\"mustang\",\n",
    "    \"year\":\"1964\"\n",
    "}\n",
    "thisdict.update({\"color\":\"yellow\"})\n",
    "print(thisdict)"
   ]
  },
  {
   "cell_type": "code",
   "execution_count": 4,
   "id": "911f9d00",
   "metadata": {},
   "outputs": [
    {
     "name": "stdout",
     "output_type": "stream",
     "text": [
      "{'brand': 'ford', 'model': 'mustang', 'year': '1964', 'color': 'yellow', 'number': '309528'}\n"
     ]
    }
   ],
   "source": [
    "thisdict.update({\"number\":\"309528\"})\n",
    "print(thisdict)"
   ]
  },
  {
   "cell_type": "code",
   "execution_count": 5,
   "id": "fcda8d3b",
   "metadata": {},
   "outputs": [
    {
     "name": "stdout",
     "output_type": "stream",
     "text": [
      "{'brand': 'ford', 'model': 'mustang', 'year': '1964', 'color': 'yellow', 'number': '309528', 'colr': 'ammi'}\n"
     ]
    }
   ],
   "source": [
    "thisdict.update({\"colr\":\"ammi\"})\n",
    "print(thisdict)"
   ]
  },
  {
   "cell_type": "code",
   "execution_count": 2,
   "id": "8ee58406",
   "metadata": {},
   "outputs": [
    {
     "name": "stdout",
     "output_type": "stream",
     "text": [
      "{'brand': 'bmw', 'model': 'bmw90', 'year': '2003', 'color': 'black'}\n"
     ]
    }
   ],
   "source": [
    "mydict={\n",
    "    \"brand\":\"bmw\",\n",
    "    \"model\":\"bmw90\",\n",
    "    \"year\":\"2003\"\n",
    "}\n",
    "mydict[\"color\"]=\"black\"  #add iteam e = dite hoy\n",
    "print(mydict)"
   ]
  },
  {
   "cell_type": "code",
   "execution_count": 3,
   "id": "5b111a3e",
   "metadata": {},
   "outputs": [
    {
     "name": "stdout",
     "output_type": "stream",
     "text": [
      "{'brand': 'bmw', 'model': 'bmw90', 'year': 2023, 'color': 'black'}\n"
     ]
    }
   ],
   "source": [
    "mydict[\"year\"]=2023\n",
    "print(mydict)"
   ]
  },
  {
   "cell_type": "code",
   "execution_count": 4,
   "id": "f9f4d19e",
   "metadata": {},
   "outputs": [
    {
     "name": "stdout",
     "output_type": "stream",
     "text": [
      "{'brand': 'bmw', 'model': 'bmw90', 'year': 2023, 'color': 'black'}\n"
     ]
    }
   ],
   "source": [
    "mydict.update({\"color\":\"black\"})  #using update() method\n",
    "print(mydict)"
   ]
  },
  {
   "cell_type": "code",
   "execution_count": 5,
   "id": "f0bb54ed",
   "metadata": {},
   "outputs": [
    {
     "name": "stdout",
     "output_type": "stream",
     "text": [
      "{'brand': 'bmw', 'model': 'bmw90', 'year': 2023, 'color': 'red'}\n"
     ]
    }
   ],
   "source": [
    "mydict.update({\"color\":\"red\"})\n",
    "print(mydict)"
   ]
  },
  {
   "cell_type": "code",
   "execution_count": 8,
   "id": "bcbc610f",
   "metadata": {},
   "outputs": [
    {
     "name": "stdout",
     "output_type": "stream",
     "text": [
      "{'name': 'arman', 'player': 'cricket', 'department': 'BME', 'session': '20-21'}\n"
     ]
    }
   ],
   "source": [
    "thisdict={\n",
    "    \"name\":\"arman\",\n",
    "    \"player\":\"football\",\n",
    "    \"department\":\"BME\",\n",
    "    \"session\":\"20-21\"\n",
    "}\n",
    "thisdict[\"player\"]=\"cricket\"\n",
    "print(thisdict)"
   ]
  },
  {
   "cell_type": "code",
   "execution_count": 9,
   "id": "39e577cf",
   "metadata": {},
   "outputs": [
    {
     "name": "stdout",
     "output_type": "stream",
     "text": [
      "{'name': 'arman', 'player': 'cricket', 'department': 'BME', 'session': '10-12'}\n"
     ]
    }
   ],
   "source": [
    "thisdict.update({\"session\":\"10-12\"})\n",
    "print(thisdict)"
   ]
  },
  {
   "cell_type": "code",
   "execution_count": 10,
   "id": "f1b54526",
   "metadata": {},
   "outputs": [
    {
     "name": "stdout",
     "output_type": "stream",
     "text": [
      "{'name': 'arman', 'player': 'cricket', 'department': 'BME', 'session': '10-12', 'club': 'barcelona'}\n"
     ]
    }
   ],
   "source": [
    "thisdict[\"club\"]=\"barcelona\"\n",
    "print(thisdict)"
   ]
  },
  {
   "cell_type": "code",
   "execution_count": 12,
   "id": "9eac2e4a",
   "metadata": {},
   "outputs": [
    {
     "name": "stdout",
     "output_type": "stream",
     "text": [
      "{'name': 'arman', 'player': 'cricket', 'department': 'BME', 'session': '10-12', 'club': 'barcelona', 'fplayer': 'messi'}\n"
     ]
    }
   ],
   "source": [
    "thisdict.update({\"fplayer\":\"messi\"})\n",
    "print(thisdict)"
   ]
  },
  {
   "cell_type": "code",
   "execution_count": null,
   "id": "89dd9717",
   "metadata": {},
   "outputs": [],
   "source": []
  }
 ],
 "metadata": {
  "kernelspec": {
   "display_name": "Python 3 (ipykernel)",
   "language": "python",
   "name": "python3"
  },
  "language_info": {
   "codemirror_mode": {
    "name": "ipython",
    "version": 3
   },
   "file_extension": ".py",
   "mimetype": "text/x-python",
   "name": "python",
   "nbconvert_exporter": "python",
   "pygments_lexer": "ipython3",
   "version": "3.10.9"
  }
 },
 "nbformat": 4,
 "nbformat_minor": 5
}
