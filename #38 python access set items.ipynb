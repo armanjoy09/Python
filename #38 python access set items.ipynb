{
 "cells": [
  {
   "cell_type": "code",
   "execution_count": 2,
   "id": "e3001686",
   "metadata": {},
   "outputs": [
    {
     "name": "stdout",
     "output_type": "stream",
     "text": [
      "banana\n",
      "apple\n",
      "orange\n",
      "cherry\n",
      "kiwi\n"
     ]
    }
   ],
   "source": [
    "myset={\"apple\",\"banana\",\"cherry\",\"kiwi\",\"orange\"}\n",
    "for i in myset:\n",
    "    print(i)"
   ]
  },
  {
   "cell_type": "code",
   "execution_count": 3,
   "id": "4c6e4d82",
   "metadata": {},
   "outputs": [
    {
     "name": "stdout",
     "output_type": "stream",
     "text": [
      "banana\n",
      "apple\n",
      "orange\n",
      "cherry\n",
      "kiwi\n"
     ]
    }
   ],
   "source": [
    "myset={\"apple\",\"banana\",\"cherry\",\"kiwi\",\"orange\"}\n",
    "for i in myset:\n",
    "    print(i)"
   ]
  },
  {
   "cell_type": "code",
   "execution_count": 4,
   "id": "d00b9793",
   "metadata": {},
   "outputs": [
    {
     "name": "stdout",
     "output_type": "stream",
     "text": [
      "True\n"
     ]
    }
   ],
   "source": [
    "# using in keyword\n",
    "myset={\"apple\",\"banana\",\"cherry\",\"orange\"}\n",
    "print(\"cherry\" in myset)"
   ]
  },
  {
   "cell_type": "code",
   "execution_count": 5,
   "id": "303a7902",
   "metadata": {},
   "outputs": [
    {
     "name": "stdout",
     "output_type": "stream",
     "text": [
      "True\n"
     ]
    }
   ],
   "source": [
    "print(\"apple\" in myset)"
   ]
  },
  {
   "cell_type": "code",
   "execution_count": 6,
   "id": "14a2028c",
   "metadata": {},
   "outputs": [
    {
     "name": "stdout",
     "output_type": "stream",
     "text": [
      "False\n"
     ]
    }
   ],
   "source": [
    "print(\"mango\" in myset)"
   ]
  },
  {
   "cell_type": "code",
   "execution_count": 1,
   "id": "3b288117",
   "metadata": {},
   "outputs": [
    {
     "name": "stdout",
     "output_type": "stream",
     "text": [
      "cherry\n",
      "lichi\n",
      "apple\n",
      "watermalon\n",
      "kiwi\n",
      "banana\n"
     ]
    }
   ],
   "source": [
    "myset={\"apple\",\"banana\",\"cherry\",\"kiwi\",\"lichi\",\"watermalon\"}\n",
    "for i in myset:\n",
    "    print(i)"
   ]
  },
  {
   "cell_type": "code",
   "execution_count": 2,
   "id": "e59384a0",
   "metadata": {},
   "outputs": [
    {
     "name": "stdout",
     "output_type": "stream",
     "text": [
      "cherry\n",
      "lichi\n",
      "apple\n",
      "watermalon\n",
      "kiwi\n",
      "banana\n"
     ]
    }
   ],
   "source": [
    "for i in myset:\n",
    "    print(i)"
   ]
  },
  {
   "cell_type": "code",
   "execution_count": 3,
   "id": "2274fe34",
   "metadata": {},
   "outputs": [
    {
     "name": "stdout",
     "output_type": "stream",
     "text": [
      "True\n"
     ]
    }
   ],
   "source": [
    "myset={\"apple\",\"banana\",\"cherry\",\"kiwi\",\"lichi\",\"watermalon\"}\n",
    "print(\"kiwi\" in myset)"
   ]
  },
  {
   "cell_type": "code",
   "execution_count": 4,
   "id": "52fb468c",
   "metadata": {},
   "outputs": [
    {
     "name": "stdout",
     "output_type": "stream",
     "text": [
      "True\n"
     ]
    }
   ],
   "source": [
    "print(\"watermalon\" in myset)"
   ]
  },
  {
   "cell_type": "code",
   "execution_count": 5,
   "id": "638e8ea1",
   "metadata": {},
   "outputs": [
    {
     "name": "stdout",
     "output_type": "stream",
     "text": [
      "False\n"
     ]
    }
   ],
   "source": [
    "print(\"malta\" in myset)"
   ]
  },
  {
   "cell_type": "code",
   "execution_count": 6,
   "id": "7fbf8aa3",
   "metadata": {},
   "outputs": [
    {
     "name": "stdout",
     "output_type": "stream",
     "text": [
      "True\n"
     ]
    }
   ],
   "source": [
    "print(\"banana\" in myset)"
   ]
  },
  {
   "cell_type": "code",
   "execution_count": null,
   "id": "c8385e03",
   "metadata": {},
   "outputs": [],
   "source": []
  }
 ],
 "metadata": {
  "kernelspec": {
   "display_name": "Python 3 (ipykernel)",
   "language": "python",
   "name": "python3"
  },
  "language_info": {
   "codemirror_mode": {
    "name": "ipython",
    "version": 3
   },
   "file_extension": ".py",
   "mimetype": "text/x-python",
   "name": "python",
   "nbconvert_exporter": "python",
   "pygments_lexer": "ipython3",
   "version": "3.10.9"
  }
 },
 "nbformat": 4,
 "nbformat_minor": 5
}
