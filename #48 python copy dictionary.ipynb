{
 "cells": [
  {
   "cell_type": "code",
   "execution_count": 1,
   "id": "3fb0ef87",
   "metadata": {},
   "outputs": [
    {
     "name": "stdout",
     "output_type": "stream",
     "text": [
      "{'brand': 'ford', 'model': ' mustang', 'year': 1964}\n"
     ]
    }
   ],
   "source": [
    "thisdict={\n",
    "    \"brand\":\"ford\",\n",
    "    \"model\":\" mustang\",\n",
    "    \"year\":1964\n",
    "}\n",
    "mydict=thisdict.copy()\n",
    "print(mydict)"
   ]
  },
  {
   "cell_type": "code",
   "execution_count": 2,
   "id": "3ee441ff",
   "metadata": {},
   "outputs": [
    {
     "name": "stdout",
     "output_type": "stream",
     "text": [
      "{'brand': 'ford', 'model': ' mustang', 'year': 1964}\n"
     ]
    }
   ],
   "source": [
    "mydict=thisdict.copy()\n",
    "print(mydict)"
   ]
  },
  {
   "cell_type": "code",
   "execution_count": 3,
   "id": "4b485360",
   "metadata": {},
   "outputs": [
    {
     "name": "stdout",
     "output_type": "stream",
     "text": [
      "{'brand': 'ford', 'model': ' mustang', 'year': 1964}\n"
     ]
    }
   ],
   "source": [
    "mydict=dict(thisdict)\n",
    "print(mydict)"
   ]
  },
  {
   "cell_type": "code",
   "execution_count": 4,
   "id": "9801a2c0",
   "metadata": {},
   "outputs": [
    {
     "name": "stdout",
     "output_type": "stream",
     "text": [
      "{'brand': 'ford', 'model': ' mustang', 'year': 1964}\n"
     ]
    }
   ],
   "source": [
    "mydict=dict(thisdict)\n",
    "print(mydict)"
   ]
  },
  {
   "cell_type": "code",
   "execution_count": 5,
   "id": "517accb9",
   "metadata": {},
   "outputs": [
    {
     "name": "stdout",
     "output_type": "stream",
     "text": [
      "{'brand': 'ford', 'model': 'mustang', 'year': 1964}\n"
     ]
    }
   ],
   "source": [
    "thisdict={\n",
    "    \"brand\":\"ford\",\n",
    "    \"model\":\"mustang\",\n",
    "    \"year\":1964\n",
    "}\n",
    "mydict=thisdict.copy()\n",
    "print(mydict)"
   ]
  },
  {
   "cell_type": "code",
   "execution_count": 6,
   "id": "e0feba93",
   "metadata": {},
   "outputs": [
    {
     "name": "stdout",
     "output_type": "stream",
     "text": [
      "{'brand': 'ford', 'model': 'mustang', 'year': 1964}\n"
     ]
    }
   ],
   "source": [
    "mydict=dict(thisdict)\n",
    "print(mydict)"
   ]
  },
  {
   "cell_type": "code",
   "execution_count": 1,
   "id": "7d4866ba",
   "metadata": {},
   "outputs": [
    {
     "name": "stdout",
     "output_type": "stream",
     "text": [
      "{'name': 'arman', 'player': 'football', 'club': 'barcelona', 'position': 'defense'}\n"
     ]
    }
   ],
   "source": [
    "team={\n",
    "    \"name\":\"arman\",\n",
    "    \"player\":\"football\",\n",
    "    \"club\":\"barcelona\",\n",
    "    \"position\":\"defense\"\n",
    "}\n",
    "x=team.copy()\n",
    "print(x)"
   ]
  },
  {
   "cell_type": "code",
   "execution_count": 2,
   "id": "5a5dc955",
   "metadata": {},
   "outputs": [
    {
     "name": "stdout",
     "output_type": "stream",
     "text": [
      "{'name': 'arman', 'player': 'football', 'club': 'barcelona', 'position': 'defense'}\n"
     ]
    }
   ],
   "source": [
    "myteam=dict(team)\n",
    "print(team)"
   ]
  },
  {
   "cell_type": "code",
   "execution_count": 3,
   "id": "7945ad52",
   "metadata": {},
   "outputs": [
    {
     "name": "stdout",
     "output_type": "stream",
     "text": [
      "{'name': 'arman', 'player': 'football', 'club': 'barcelona', 'position': 'defense'}\n"
     ]
    }
   ],
   "source": [
    "teame=dict(team)\n",
    "print(teame)"
   ]
  },
  {
   "cell_type": "code",
   "execution_count": null,
   "id": "33468353",
   "metadata": {},
   "outputs": [],
   "source": []
  }
 ],
 "metadata": {
  "kernelspec": {
   "display_name": "Python 3 (ipykernel)",
   "language": "python",
   "name": "python3"
  },
  "language_info": {
   "codemirror_mode": {
    "name": "ipython",
    "version": 3
   },
   "file_extension": ".py",
   "mimetype": "text/x-python",
   "name": "python",
   "nbconvert_exporter": "python",
   "pygments_lexer": "ipython3",
   "version": "3.10.9"
  }
 },
 "nbformat": 4,
 "nbformat_minor": 5
}
