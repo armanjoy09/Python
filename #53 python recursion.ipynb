{
 "cells": [
  {
   "cell_type": "code",
   "execution_count": null,
   "id": "9cdf4234",
   "metadata": {},
   "outputs": [],
   "source": [
    "def Refun():\n",
    "    print(\"hablu\")\n",
    "    Refun()\n",
    "    \n",
    "Refun()"
   ]
  },
  {
   "cell_type": "code",
   "execution_count": null,
   "id": "e9d9e207",
   "metadata": {},
   "outputs": [],
   "source": [
    "def ReFun():\n",
    "    print(\"hablu\")\n",
    "    ReFun()\n",
    "    \n",
    "ReFun()"
   ]
  },
  {
   "cell_type": "code",
   "execution_count": null,
   "id": "89238220",
   "metadata": {},
   "outputs": [],
   "source": [
    "def ReFun():\n",
    "    print(\"hablu\")\n",
    "    ReFun()\n",
    "    \n",
    "ReFun()"
   ]
  },
  {
   "cell_type": "code",
   "execution_count": 1,
   "id": "eaabf26a",
   "metadata": {},
   "outputs": [
    {
     "name": "stdout",
     "output_type": "stream",
     "text": [
      "120\n"
     ]
    }
   ],
   "source": [
    "def fact(i):\n",
    "    if i==1:\n",
    "        return 1\n",
    "    else:\n",
    "        return i*fact(i-1)\n",
    "print(fact(5))"
   ]
  },
  {
   "cell_type": "code",
   "execution_count": 11,
   "id": "0f090689",
   "metadata": {},
   "outputs": [
    {
     "name": "stdout",
     "output_type": "stream",
     "text": [
      "120\n"
     ]
    }
   ],
   "source": [
    "def fact(n):\n",
    "    if n==1:\n",
    "        return 1\n",
    "    else:\n",
    "        return n*fact(n-1)\n",
    "print(fact(5))"
   ]
  },
  {
   "cell_type": "code",
   "execution_count": 14,
   "id": "c307407e",
   "metadata": {},
   "outputs": [
    {
     "name": "stdout",
     "output_type": "stream",
     "text": [
      "3628800\n"
     ]
    }
   ],
   "source": [
    "def fact(n):\n",
    "    if n==1:\n",
    "        return 1\n",
    "    else:\n",
    "        return n*fact(n-1)\n",
    "print(fact(10))"
   ]
  },
  {
   "cell_type": "code",
   "execution_count": null,
   "id": "fc137105",
   "metadata": {},
   "outputs": [],
   "source": []
  }
 ],
 "metadata": {
  "kernelspec": {
   "display_name": "Python 3 (ipykernel)",
   "language": "python",
   "name": "python3"
  },
  "language_info": {
   "codemirror_mode": {
    "name": "ipython",
    "version": 3
   },
   "file_extension": ".py",
   "mimetype": "text/x-python",
   "name": "python",
   "nbconvert_exporter": "python",
   "pygments_lexer": "ipython3",
   "version": "3.10.9"
  }
 },
 "nbformat": 4,
 "nbformat_minor": 5
}
