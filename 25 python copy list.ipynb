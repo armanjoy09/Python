{
 "cells": [
  {
   "cell_type": "code",
   "execution_count": 4,
   "id": "c1cf1429",
   "metadata": {},
   "outputs": [
    {
     "name": "stdout",
     "output_type": "stream",
     "text": [
      "['apple', 'banana', 'lip', 'jol']\n",
      "['apple', 'banana', 'lip', 'jol']\n"
     ]
    }
   ],
   "source": [
    "list=['apple','banana','lip','jol']\n",
    "list2=list.copy()\n",
    "print(list2)\n",
    "print(list)"
   ]
  },
  {
   "cell_type": "markdown",
   "id": "a457f559",
   "metadata": {},
   "source": [
    "num=["
   ]
  },
  {
   "cell_type": "code",
   "execution_count": 5,
   "id": "60775ba1",
   "metadata": {},
   "outputs": [
    {
     "name": "stdout",
     "output_type": "stream",
     "text": [
      "[3, 4, 5, 6, 7, 8, 9, 10]\n",
      "[3, 4, 5, 6, 7, 8, 9, 10]\n"
     ]
    }
   ],
   "source": [
    "num=[3,4,5,6,7,8,9,10]\n",
    "num2=num.copy()\n",
    "print(num2)\n",
    "print(num)"
   ]
  },
  {
   "cell_type": "code",
   "execution_count": 12,
   "id": "f3863baa",
   "metadata": {},
   "outputs": [
    {
     "name": "stdout",
     "output_type": "stream",
     "text": [
      "[30, 40, 50, 60, 70, 80, 90, 100]\n"
     ]
    }
   ],
   "source": [
    "mylist=[30,40,50,60,70,80,90,100]\n",
    "mylist.copy()\n",
    "print(newlist)"
   ]
  },
  {
   "cell_type": "code",
   "execution_count": 10,
   "id": "4fc7c4fa",
   "metadata": {},
   "outputs": [
    {
     "name": "stdout",
     "output_type": "stream",
     "text": [
      "[20, 30, 40]\n",
      "[20, 30, 40]\n"
     ]
    }
   ],
   "source": [
    "y=[20,30,40]\n",
    "x=y.copy()\n",
    "print(x)\n",
    "print(y)"
   ]
  },
  {
   "cell_type": "code",
   "execution_count": 13,
   "id": "5597db97",
   "metadata": {},
   "outputs": [
    {
     "name": "stdout",
     "output_type": "stream",
     "text": [
      "[1, 2, 3, 4, 5]\n"
     ]
    }
   ],
   "source": [
    "num=[1,2,3,4,5]\n",
    "num2=num.copy()\n",
    "print(num2)"
   ]
  },
  {
   "cell_type": "code",
   "execution_count": null,
   "id": "76e1da4c",
   "metadata": {},
   "outputs": [],
   "source": []
  }
 ],
 "metadata": {
  "kernelspec": {
   "display_name": "Python 3 (ipykernel)",
   "language": "python",
   "name": "python3"
  },
  "language_info": {
   "codemirror_mode": {
    "name": "ipython",
    "version": 3
   },
   "file_extension": ".py",
   "mimetype": "text/x-python",
   "name": "python",
   "nbconvert_exporter": "python",
   "pygments_lexer": "ipython3",
   "version": "3.10.9"
  }
 },
 "nbformat": 4,
 "nbformat_minor": 5
}
