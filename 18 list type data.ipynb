{
 "cells": [
  {
   "cell_type": "code",
   "execution_count": 1,
   "id": "36d278ac",
   "metadata": {},
   "outputs": [
    {
     "name": "stdout",
     "output_type": "stream",
     "text": [
      "<class 'list'>\n"
     ]
    }
   ],
   "source": [
    "lis=[1,2,3,4,4]\n",
    "print(type(lis))"
   ]
  },
  {
   "cell_type": "code",
   "execution_count": 4,
   "id": "b69bb688",
   "metadata": {},
   "outputs": [
    {
     "name": "stdout",
     "output_type": "stream",
     "text": [
      "[1, 2, 3, 4, 5]\n"
     ]
    }
   ],
   "source": [
    "lis[4] = 5\n",
    "print(lis)"
   ]
  },
  {
   "cell_type": "code",
   "execution_count": 6,
   "id": "30ec8948",
   "metadata": {},
   "outputs": [
    {
     "name": "stdout",
     "output_type": "stream",
     "text": [
      "['arman', 'joy', 'nehal']\n"
     ]
    }
   ],
   "source": [
    "lis2=[\"arman\",'joy',\"nehal\"]\n",
    "print(lis2)"
   ]
  },
  {
   "cell_type": "code",
   "execution_count": 7,
   "id": "8bc253f7",
   "metadata": {},
   "outputs": [
    {
     "name": "stdout",
     "output_type": "stream",
     "text": [
      "['arman', 'monir', 'masum']\n"
     ]
    }
   ],
   "source": [
    "lis=[\"arman\",\"monir\",\"masum\"]\n",
    "print(lis)"
   ]
  },
  {
   "cell_type": "code",
   "execution_count": 8,
   "id": "4b02e988",
   "metadata": {},
   "outputs": [
    {
     "name": "stdout",
     "output_type": "stream",
     "text": [
      "['arman', 'monir', 'MASUM']\n"
     ]
    }
   ],
   "source": [
    "lis[2]=\"MASUM\"\n",
    "print(lis)"
   ]
  },
  {
   "cell_type": "code",
   "execution_count": 10,
   "id": "54067884",
   "metadata": {},
   "outputs": [
    {
     "name": "stdout",
     "output_type": "stream",
     "text": [
      "['arman', 'monir', 'MASUM']\n"
     ]
    }
   ],
   "source": [
    "print(lis)"
   ]
  },
  {
   "cell_type": "code",
   "execution_count": 12,
   "id": "dc39726c",
   "metadata": {},
   "outputs": [
    {
     "name": "stdout",
     "output_type": "stream",
     "text": [
      "['arman', 18, 'joy', True]\n"
     ]
    }
   ],
   "source": [
    "list=['arman',18,'joy',True]\n",
    "print(list)"
   ]
  },
  {
   "cell_type": "code",
   "execution_count": 13,
   "id": "c37a8e30",
   "metadata": {},
   "outputs": [
    {
     "name": "stdout",
     "output_type": "stream",
     "text": [
      "50\n"
     ]
    }
   ],
   "source": [
    "x=40\n",
    "y=10\n",
    "print(x+y)"
   ]
  },
  {
   "cell_type": "code",
   "execution_count": 14,
   "id": "9ffb0b72",
   "metadata": {},
   "outputs": [
    {
     "name": "stdout",
     "output_type": "stream",
     "text": [
      "60\n"
     ]
    }
   ],
   "source": [
    "x=40\n",
    "x += 20\n",
    "print(x)"
   ]
  },
  {
   "cell_type": "code",
   "execution_count": 1,
   "id": "83f6c0d8",
   "metadata": {},
   "outputs": [
    {
     "name": "stdout",
     "output_type": "stream",
     "text": [
      "nehal\n"
     ]
    }
   ],
   "source": [
    "mylist=[\"arman\",\"joy\",\"nehal\",\"pritam\"]\n",
    "print(mylist[2])"
   ]
  },
  {
   "cell_type": "code",
   "execution_count": 2,
   "id": "bd95693f",
   "metadata": {},
   "outputs": [
    {
     "name": "stdout",
     "output_type": "stream",
     "text": [
      "['arman', 'joy', 'nehal', 'arhan']\n"
     ]
    }
   ],
   "source": [
    "mylist[3]=\"arhan\"\n",
    "print(mylist)"
   ]
  },
  {
   "cell_type": "code",
   "execution_count": 6,
   "id": "e1d1d6ff",
   "metadata": {},
   "outputs": [
    {
     "name": "stdout",
     "output_type": "stream",
     "text": [
      "['arman', 'joy', 'nehal', 'porimoni']\n"
     ]
    }
   ],
   "source": [
    "mylist=[\"arman\",\"joy\",\"mrunal\",\"porimoni\"]\n",
    "mylist[2]=\"nehal\"\n",
    "print(mylist)"
   ]
  },
  {
   "cell_type": "code",
   "execution_count": 7,
   "id": "4a7c75a7",
   "metadata": {},
   "outputs": [
    {
     "name": "stdout",
     "output_type": "stream",
     "text": [
      "['arman', 'joy', 'nehal', 'pormoni']\n"
     ]
    }
   ],
   "source": [
    "mylist=[\"arman\",\"joy\",\"nehal\",\"pritam\"]\n",
    "mylist[3]=\"pormoni\"\n",
    "print(mylist)"
   ]
  },
  {
   "cell_type": "code",
   "execution_count": null,
   "id": "d7ee202d",
   "metadata": {},
   "outputs": [],
   "source": []
  }
 ],
 "metadata": {
  "kernelspec": {
   "display_name": "Python 3 (ipykernel)",
   "language": "python",
   "name": "python3"
  },
  "language_info": {
   "codemirror_mode": {
    "name": "ipython",
    "version": 3
   },
   "file_extension": ".py",
   "mimetype": "text/x-python",
   "name": "python",
   "nbconvert_exporter": "python",
   "pygments_lexer": "ipython3",
   "version": "3.10.9"
  }
 },
 "nbformat": 4,
 "nbformat_minor": 5
}
