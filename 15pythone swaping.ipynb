{
 "cells": [
  {
   "cell_type": "code",
   "execution_count": 1,
   "id": "0648ad35",
   "metadata": {},
   "outputs": [
    {
     "name": "stdout",
     "output_type": "stream",
     "text": [
      "60 50\n"
     ]
    }
   ],
   "source": [
    "#python swaping\n",
    "c=50\n",
    "d=60\n",
    "c,d=d,c\n",
    "print(c,d)"
   ]
  },
  {
   "cell_type": "code",
   "execution_count": 2,
   "id": "0f411fab",
   "metadata": {},
   "outputs": [
    {
     "name": "stdout",
     "output_type": "stream",
     "text": [
      "the value for c now 60\n"
     ]
    }
   ],
   "source": [
    "print(\"the value for c now\",c)"
   ]
  },
  {
   "cell_type": "code",
   "execution_count": 3,
   "id": "43f0e0d8",
   "metadata": {},
   "outputs": [
    {
     "name": "stdout",
     "output_type": "stream",
     "text": [
      "now the value for d is 50\n"
     ]
    }
   ],
   "source": [
    "print(\"now the value for d is\",d)"
   ]
  },
  {
   "cell_type": "code",
   "execution_count": 1,
   "id": "1b7a4ce9",
   "metadata": {},
   "outputs": [
    {
     "name": "stdout",
     "output_type": "stream",
     "text": [
      "20\n"
     ]
    }
   ],
   "source": [
    "a=20\n",
    "b=30\n",
    "a,b=b,a\n",
    "print(b)"
   ]
  },
  {
   "cell_type": "code",
   "execution_count": 4,
   "id": "87fd7b75",
   "metadata": {},
   "outputs": [
    {
     "name": "stdout",
     "output_type": "stream",
     "text": [
      "this is now for b is= 20\n"
     ]
    }
   ],
   "source": [
    "a=20\n",
    "b=30\n",
    "a,b=b,a\n",
    "print(\"this is now for b is=\",b)"
   ]
  },
  {
   "cell_type": "code",
   "execution_count": 6,
   "id": "1a38fdc2",
   "metadata": {},
   "outputs": [
    {
     "name": "stdout",
     "output_type": "stream",
     "text": [
      "the value is now for x is= 100\n"
     ]
    }
   ],
   "source": [
    "x=50\n",
    "y=100\n",
    "x,y=y,x\n",
    "print(\"the value is now for x is=\",x)"
   ]
  },
  {
   "cell_type": "code",
   "execution_count": 8,
   "id": "c6da277f",
   "metadata": {},
   "outputs": [
    {
     "name": "stdout",
     "output_type": "stream",
     "text": [
      "the updated value for the b is 50\n"
     ]
    }
   ],
   "source": [
    "a=50\n",
    "b=60\n",
    "a,b=b,a\n",
    "print(\"the updated value for the b is\",b)"
   ]
  },
  {
   "cell_type": "code",
   "execution_count": null,
   "id": "2ce1d558",
   "metadata": {},
   "outputs": [],
   "source": []
  }
 ],
 "metadata": {
  "kernelspec": {
   "display_name": "Python 3 (ipykernel)",
   "language": "python",
   "name": "python3"
  },
  "language_info": {
   "codemirror_mode": {
    "name": "ipython",
    "version": 3
   },
   "file_extension": ".py",
   "mimetype": "text/x-python",
   "name": "python",
   "nbconvert_exporter": "python",
   "pygments_lexer": "ipython3",
   "version": "3.10.9"
  }
 },
 "nbformat": 4,
 "nbformat_minor": 5
}
