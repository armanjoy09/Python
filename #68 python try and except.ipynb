{
 "cells": [
  {
   "cell_type": "code",
   "execution_count": 1,
   "id": "4b30c973",
   "metadata": {},
   "outputs": [
    {
     "name": "stdout",
     "output_type": "stream",
     "text": [
      "give me output\n"
     ]
    },
    {
     "ename": "NameError",
     "evalue": "name 'x' is not defined",
     "output_type": "error",
     "traceback": [
      "\u001b[1;31m---------------------------------------------------------------------------\u001b[0m",
      "\u001b[1;31mNameError\u001b[0m                                 Traceback (most recent call last)",
      "Cell \u001b[1;32mIn[1], line 2\u001b[0m\n\u001b[0;32m      1\u001b[0m \u001b[38;5;28mprint\u001b[39m(\u001b[38;5;124m\"\u001b[39m\u001b[38;5;124mgive me output\u001b[39m\u001b[38;5;124m\"\u001b[39m)\n\u001b[1;32m----> 2\u001b[0m \u001b[38;5;28mprint\u001b[39m(\u001b[43mx\u001b[49m)\n\u001b[0;32m      3\u001b[0m \u001b[38;5;28mprint\u001b[39m(\u001b[38;5;124m\"\u001b[39m\u001b[38;5;124mgive me function\u001b[39m\u001b[38;5;124m\"\u001b[39m)\n",
      "\u001b[1;31mNameError\u001b[0m: name 'x' is not defined"
     ]
    }
   ],
   "source": [
    "print(\"give me output\")\n",
    "print(x)\n",
    "print(\"give me function\")\n"
   ]
  },
  {
   "cell_type": "code",
   "execution_count": 4,
   "id": "5928a38c",
   "metadata": {},
   "outputs": [
    {
     "name": "stdout",
     "output_type": "stream",
     "text": [
      "give me output\n",
      "give me function\n",
      "hahah\n",
      "me tano sajha ki\n"
     ]
    }
   ],
   "source": [
    "# but if we use the try and except methode then\n",
    "print(\"give me output\")\n",
    "try:\n",
    "    print(\"give me function\")\n",
    "    \n",
    "except:\n",
    "        print(\"do\")\n",
    "        \n",
    "print(\"hahah\")\n",
    "print(\"me tano sajha ki\")"
   ]
  },
  {
   "cell_type": "code",
   "execution_count": 5,
   "id": "6fe3f445",
   "metadata": {},
   "outputs": [
    {
     "name": "stdout",
     "output_type": "stream",
     "text": [
      "give me output\n",
      "give me my mind\n",
      "let me love me\n",
      "meri dua sajda tera\n",
      "me karo intejar tera\n"
     ]
    }
   ],
   "source": [
    "print(\"give me output\")\n",
    "try:\n",
    "    print(\"give me my mind\")\n",
    "    print(\"let me love me\")\n",
    "except:\n",
    "    print(\"bal\")\n",
    "    \n",
    "print(\"meri dua sajda tera\")\n",
    "print(\"me karo intejar tera\")"
   ]
  },
  {
   "cell_type": "code",
   "execution_count": null,
   "id": "c1b006c3",
   "metadata": {},
   "outputs": [],
   "source": []
  }
 ],
 "metadata": {
  "kernelspec": {
   "display_name": "Python 3 (ipykernel)",
   "language": "python",
   "name": "python3"
  },
  "language_info": {
   "codemirror_mode": {
    "name": "ipython",
    "version": 3
   },
   "file_extension": ".py",
   "mimetype": "text/x-python",
   "name": "python",
   "nbconvert_exporter": "python",
   "pygments_lexer": "ipython3",
   "version": "3.10.9"
  }
 },
 "nbformat": 4,
 "nbformat_minor": 5
}
