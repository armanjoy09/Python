{
 "cells": [
  {
   "cell_type": "code",
   "execution_count": 3,
   "id": "78b93ab7",
   "metadata": {},
   "outputs": [
    {
     "name": "stdout",
     "output_type": "stream",
     "text": [
      "BMW\n"
     ]
    }
   ],
   "source": [
    "class baba:\n",
    "    car=\"BMW\"\n",
    "    tk=\"10 crore\"\n",
    "    home=\"10 floor\"\n",
    "    \n",
    "class kaka(baba):\n",
    "    brokenphone=\"samsumg\"\n",
    "    brokenhome=\"\"\n",
    "    \n",
    "k=kaka()\n",
    "print(k.car)"
   ]
  },
  {
   "cell_type": "code",
   "execution_count": 7,
   "id": "8a421b42",
   "metadata": {},
   "outputs": [
    {
     "name": "stdout",
     "output_type": "stream",
     "text": [
      "ace\n"
     ]
    }
   ],
   "source": [
    "class baba(kaka):\n",
    "    car=\"BMW\"\n",
    "    tk=\"10 crore\"\n",
    "    home=\"10 floor\"\n",
    "    \n",
    "class kaka:\n",
    "    brokenphone=\"samsumg\"\n",
    "    brokenhome=\"ace\"\n",
    "    \n",
    "\n",
    "b=baba()\n",
    "print(b.brokenhome)\n",
    "    "
   ]
  },
  {
   "cell_type": "code",
   "execution_count": 8,
   "id": "4fa6a738",
   "metadata": {},
   "outputs": [
    {
     "name": "stdout",
     "output_type": "stream",
     "text": [
      "BMW\n",
      "10 floor\n",
      "10 crore\n",
      "ace\n"
     ]
    }
   ],
   "source": [
    "class baba:\n",
    "    car=\"BMW\"\n",
    "    tk=\"10 crore\"\n",
    "    home=\"10 floor\"\n",
    "    \n",
    "class kaka(baba):\n",
    "    brokenhome=\"ace\"\n",
    "    brokenphone=\"samsumg\"\n",
    "\n",
    "k=kaka()\n",
    "print(k.car)\n",
    "print(k.home)\n",
    "print(k.tk)\n",
    "print(k.brokenhome)\n"
   ]
  },
  {
   "cell_type": "code",
   "execution_count": null,
   "id": "9c0118c7",
   "metadata": {},
   "outputs": [],
   "source": []
  }
 ],
 "metadata": {
  "kernelspec": {
   "display_name": "Python 3 (ipykernel)",
   "language": "python",
   "name": "python3"
  },
  "language_info": {
   "codemirror_mode": {
    "name": "ipython",
    "version": 3
   },
   "file_extension": ".py",
   "mimetype": "text/x-python",
   "name": "python",
   "nbconvert_exporter": "python",
   "pygments_lexer": "ipython3",
   "version": "3.10.9"
  }
 },
 "nbformat": 4,
 "nbformat_minor": 5
}
