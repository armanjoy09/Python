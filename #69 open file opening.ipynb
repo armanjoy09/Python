{
 "cells": [
  {
   "cell_type": "code",
   "execution_count": 2,
   "id": "17d404f8",
   "metadata": {},
   "outputs": [
    {
     "name": "stdout",
     "output_type": "stream",
     "text": [
      "\n"
     ]
    }
   ],
   "source": [
    "tfile=open(\"text.txt\",\"r\")\n",
    "print(tfile.read())"
   ]
  },
  {
   "cell_type": "code",
   "execution_count": 1,
   "id": "101b41b9",
   "metadata": {},
   "outputs": [
    {
     "name": "stdout",
     "output_type": "stream",
     "text": [
      "\n"
     ]
    }
   ],
   "source": [
    "file=open(\"text.txt\",\"r\")\n",
    "print(file.read())"
   ]
  },
  {
   "cell_type": "code",
   "execution_count": 2,
   "id": "e5d6f346",
   "metadata": {},
   "outputs": [
    {
     "name": "stdout",
     "output_type": "stream",
     "text": [
      "\n"
     ]
    }
   ],
   "source": [
    "textfile=open(\"text.txt\",\"r\")\n",
    "print(textfile.read())"
   ]
  },
  {
   "cell_type": "code",
   "execution_count": 4,
   "id": "6a398435",
   "metadata": {},
   "outputs": [],
   "source": [
    "import os\n",
    "os.remove(\"#69 python file opening.ipynb\")"
   ]
  },
  {
   "cell_type": "code",
   "execution_count": null,
   "id": "f786691c",
   "metadata": {},
   "outputs": [],
   "source": []
  }
 ],
 "metadata": {
  "kernelspec": {
   "display_name": "Python 3 (ipykernel)",
   "language": "python",
   "name": "python3"
  },
  "language_info": {
   "codemirror_mode": {
    "name": "ipython",
    "version": 3
   },
   "file_extension": ".py",
   "mimetype": "text/x-python",
   "name": "python",
   "nbconvert_exporter": "python",
   "pygments_lexer": "ipython3",
   "version": "3.10.9"
  }
 },
 "nbformat": 4,
 "nbformat_minor": 5
}
