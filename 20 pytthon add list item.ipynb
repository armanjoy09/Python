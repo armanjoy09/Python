{
 "cells": [
  {
   "cell_type": "code",
   "execution_count": 1,
   "id": "b9b0ebdd",
   "metadata": {},
   "outputs": [
    {
     "name": "stdout",
     "output_type": "stream",
     "text": [
      "['apple', 'banana', 'cherry', 10]\n"
     ]
    }
   ],
   "source": [
    "# to add a list item last of the list we can use the append() method\n",
    "list=['apple','banana','cherry']\n",
    "list.append(10)\n",
    "print(list)\n"
   ]
  },
  {
   "cell_type": "code",
   "execution_count": 2,
   "id": "797fabcd",
   "metadata": {},
   "outputs": [
    {
     "name": "stdout",
     "output_type": "stream",
     "text": [
      "['apple', 'banana', 'cherry', 10, 'orange']\n"
     ]
    }
   ],
   "source": [
    "list.append('orange')\n",
    "print(list)"
   ]
  },
  {
   "cell_type": "code",
   "execution_count": 3,
   "id": "6489d1a9",
   "metadata": {},
   "outputs": [
    {
     "name": "stdout",
     "output_type": "stream",
     "text": [
      "['apple', 'banana', 'cherry', 'papaya', 10, 'orange']\n"
     ]
    }
   ],
   "source": [
    "#to add a list item at specific index of the list we can use the insert() method\n",
    "list.insert(3,'papaya')\n",
    "print(list)"
   ]
  },
  {
   "cell_type": "code",
   "execution_count": 5,
   "id": "9028277a",
   "metadata": {},
   "outputs": [
    {
     "name": "stdout",
     "output_type": "stream",
     "text": [
      "['apple', 'papaya', 'banana', 'cherry']\n"
     ]
    }
   ],
   "source": [
    "list=['apple','banana','cherry']\n",
    "list.insert(1,'papaya')\n",
    "print(list)"
   ]
  },
  {
   "cell_type": "code",
   "execution_count": 1,
   "id": "289a372e",
   "metadata": {},
   "outputs": [
    {
     "name": "stdout",
     "output_type": "stream",
     "text": [
      "['apple', 'banana', 'cherry', 'kiwi', 'mango']\n"
     ]
    }
   ],
   "source": [
    "fruitlist=[\"apple\",\"banana\",\"cherry\",\"kiwi\"]\n",
    "fruitlist.append(\"mango\")\n",
    "print(fruitlist)"
   ]
  },
  {
   "cell_type": "code",
   "execution_count": 2,
   "id": "06e18280",
   "metadata": {},
   "outputs": [
    {
     "name": "stdout",
     "output_type": "stream",
     "text": [
      "['porimoni', 'mrunal', 'kiara', 'anuska', 'tamanna']\n"
     ]
    }
   ],
   "source": [
    "crushlist=[\"porimoni\",\"mrunal\",\"kiara\",\"anuska\"]\n",
    "crushlist.append(\"tamanna\")\n",
    "print(crushlist)"
   ]
  },
  {
   "cell_type": "code",
   "execution_count": 3,
   "id": "449ba0da",
   "metadata": {},
   "outputs": [
    {
     "name": "stdout",
     "output_type": "stream",
     "text": [
      "['porimoni', 'mrunal', 'kiara', 'tamanna', 'anuska']\n"
     ]
    }
   ],
   "source": [
    "# if we add tamanna after kiara then we can use the insert() method\n",
    "crushlist=[\"porimoni\",\"mrunal\",\"kiara\",\"anuska\"]\n",
    "crushlist.insert(3,\"tamanna\")\n",
    "print(crushlist)"
   ]
  },
  {
   "cell_type": "code",
   "execution_count": null,
   "id": "60ddc8cd",
   "metadata": {},
   "outputs": [],
   "source": []
  }
 ],
 "metadata": {
  "kernelspec": {
   "display_name": "Python 3 (ipykernel)",
   "language": "python",
   "name": "python3"
  },
  "language_info": {
   "codemirror_mode": {
    "name": "ipython",
    "version": 3
   },
   "file_extension": ".py",
   "mimetype": "text/x-python",
   "name": "python",
   "nbconvert_exporter": "python",
   "pygments_lexer": "ipython3",
   "version": "3.10.9"
  }
 },
 "nbformat": 4,
 "nbformat_minor": 5
}
