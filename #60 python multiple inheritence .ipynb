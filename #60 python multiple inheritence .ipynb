{
 "cells": [
  {
   "cell_type": "code",
   "execution_count": 1,
   "id": "3f0211a6",
   "metadata": {},
   "outputs": [
    {
     "name": "stdout",
     "output_type": "stream",
     "text": [
      "walton\n"
     ]
    }
   ],
   "source": [
    "# multiple inheritance\n",
    "class baba:\n",
    "    car=\"BMW\"\n",
    "    tk=\"10 crore\"\n",
    "    \n",
    "class baba2:\n",
    "    laptop=\"macbook\"\n",
    "    bike=\"suzuki\"\n",
    "    \n",
    "class baba3:\n",
    "    ac=\"walton\"\n",
    "    tv=\"samsumg\"\n",
    "class kaka(baba,baba2,baba3):\n",
    "    brokenphone=\"anaan\"\n",
    "    \n",
    "k=kaka()\n",
    "print(k.ac)"
   ]
  },
  {
   "cell_type": "code",
   "execution_count": 2,
   "id": "9aae2dae",
   "metadata": {},
   "outputs": [
    {
     "name": "stdout",
     "output_type": "stream",
     "text": [
      "macbook\n"
     ]
    }
   ],
   "source": [
    "print(k.laptop)"
   ]
  },
  {
   "cell_type": "code",
   "execution_count": 3,
   "id": "65e79098",
   "metadata": {},
   "outputs": [
    {
     "name": "stdout",
     "output_type": "stream",
     "text": [
      "suzuki\n"
     ]
    }
   ],
   "source": [
    "print(k.bike)"
   ]
  },
  {
   "cell_type": "code",
   "execution_count": 4,
   "id": "a2d9aae7",
   "metadata": {},
   "outputs": [
    {
     "name": "stdout",
     "output_type": "stream",
     "text": [
      "BMW\n"
     ]
    }
   ],
   "source": [
    "print(k.car)"
   ]
  },
  {
   "cell_type": "code",
   "execution_count": 5,
   "id": "6a526bb7",
   "metadata": {},
   "outputs": [
    {
     "name": "stdout",
     "output_type": "stream",
     "text": [
      "10 crore\n"
     ]
    }
   ],
   "source": [
    "print(k.tk)"
   ]
  },
  {
   "cell_type": "code",
   "execution_count": 6,
   "id": "3b7d33ac",
   "metadata": {},
   "outputs": [
    {
     "name": "stdout",
     "output_type": "stream",
     "text": [
      "anaan\n"
     ]
    }
   ],
   "source": [
    "print(k.brokenphone)"
   ]
  },
  {
   "cell_type": "code",
   "execution_count": null,
   "id": "308bcbcc",
   "metadata": {},
   "outputs": [],
   "source": []
  }
 ],
 "metadata": {
  "kernelspec": {
   "display_name": "Python 3 (ipykernel)",
   "language": "python",
   "name": "python3"
  },
  "language_info": {
   "codemirror_mode": {
    "name": "ipython",
    "version": 3
   },
   "file_extension": ".py",
   "mimetype": "text/x-python",
   "name": "python",
   "nbconvert_exporter": "python",
   "pygments_lexer": "ipython3",
   "version": "3.10.9"
  }
 },
 "nbformat": 4,
 "nbformat_minor": 5
}
