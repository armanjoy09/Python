{
 "cells": [
  {
   "cell_type": "code",
   "execution_count": 1,
   "id": "3b373cc4",
   "metadata": {},
   "outputs": [
    {
     "name": "stdout",
     "output_type": "stream",
     "text": [
      "[2, 3, 4, 5, 2, 3, 4, 5]\n"
     ]
    }
   ],
   "source": [
    "# using + operator\n",
    "list1=['a','s','d','f']\n",
    "list2=[2,3,4,5]\n",
    "list3=list2+list2\n",
    "print(list3)"
   ]
  },
  {
   "cell_type": "code",
   "execution_count": 5,
   "id": "88b82e50",
   "metadata": {},
   "outputs": [
    {
     "name": "stdout",
     "output_type": "stream",
     "text": [
      "[3, 4, 5, 6]\n",
      "[3, 4, 5, 6, 7]\n",
      "[3, 4, 5, 6, 7, 8]\n"
     ]
    }
   ],
   "source": [
    "# using append() method\n",
    "list1=[3,4,5]\n",
    "list2=[6,7,8]\n",
    "for x in list2:\n",
    "    list1.append(x)\n",
    "    print(list1)"
   ]
  },
  {
   "cell_type": "code",
   "execution_count": 7,
   "id": "f81338b7",
   "metadata": {},
   "outputs": [
    {
     "name": "stdout",
     "output_type": "stream",
     "text": [
      "['a', 's', 'd', 'f', 2]\n",
      "['a', 's', 'd', 'f', 2, 3]\n",
      "['a', 's', 'd', 'f', 2, 3, 4]\n"
     ]
    }
   ],
   "source": [
    "list1=['a','s','d','f']\n",
    "list2=[2,3,4]\n",
    "for i in list2:\n",
    "    list1.append(i)\n",
    "    print(list1)"
   ]
  },
  {
   "cell_type": "code",
   "execution_count": 8,
   "id": "ee59b0f5",
   "metadata": {},
   "outputs": [
    {
     "name": "stdout",
     "output_type": "stream",
     "text": [
      "['a', 's', 'd', 'f', 2, 3, 4, 2, 3, 4]\n"
     ]
    }
   ],
   "source": [
    "# using extend method()\n",
    "list1.extend(list2)\n",
    "print(list1)"
   ]
  },
  {
   "cell_type": "code",
   "execution_count": 9,
   "id": "1579e1e5",
   "metadata": {},
   "outputs": [
    {
     "name": "stdout",
     "output_type": "stream",
     "text": [
      "['e', 'r', 't', 'j', 3, 4, 5, 6, 7]\n"
     ]
    }
   ],
   "source": [
    "list1=[3,4,5,6,7]\n",
    "list2=['e','r','t','j']\n",
    "list2.extend(list1)\n",
    "print(list2)"
   ]
  },
  {
   "cell_type": "code",
   "execution_count": 10,
   "id": "a5c0a8b3",
   "metadata": {},
   "outputs": [
    {
     "name": "stdout",
     "output_type": "stream",
     "text": [
      "[3, 4, 5, 6, 7, 'e', 'r', 't', 'j', 3, 4, 5, 6, 7]\n"
     ]
    }
   ],
   "source": [
    "list1.extend(list2)\n",
    "print(list1)"
   ]
  },
  {
   "cell_type": "code",
   "execution_count": 1,
   "id": "ff6a050d",
   "metadata": {},
   "outputs": [
    {
     "name": "stdout",
     "output_type": "stream",
     "text": [
      "['arman', 'joy', 'nehal', 'pritam', 'arhan', 2, 3, 4, 5, 6]\n"
     ]
    }
   ],
   "source": [
    "list1=[\"arman\",\"joy\",\"nehal\",\"pritam\",\"arhan\"]\n",
    "list2=[2,3,4,5,6]\n",
    "list3=list1+list2\n",
    "print(list3)"
   ]
  },
  {
   "cell_type": "code",
   "execution_count": 2,
   "id": "ed16c78f",
   "metadata": {},
   "outputs": [
    {
     "name": "stdout",
     "output_type": "stream",
     "text": [
      "['arman', 'joy', 'nehal', 'pritam', 'arhan', 2, 3, 4, 5, 6]\n"
     ]
    }
   ],
   "source": [
    "print(list1+list2)"
   ]
  },
  {
   "cell_type": "code",
   "execution_count": 3,
   "id": "451bf9a3",
   "metadata": {},
   "outputs": [
    {
     "name": "stdout",
     "output_type": "stream",
     "text": [
      "[2, 4, 5, 6, 30, 40, 50]\n"
     ]
    }
   ],
   "source": [
    "list1=[2,4,5,6]\n",
    "list2=[30,40,50]\n",
    "print(list1+list2)"
   ]
  },
  {
   "cell_type": "code",
   "execution_count": 4,
   "id": "29a82e85",
   "metadata": {},
   "outputs": [
    {
     "name": "stdout",
     "output_type": "stream",
     "text": [
      "['arman', 'joy', 'nehal', 'pritom', 'arhan', 1]\n",
      "['arman', 'joy', 'nehal', 'pritom', 'arhan', 1, 2]\n",
      "['arman', 'joy', 'nehal', 'pritom', 'arhan', 1, 2, 3]\n",
      "['arman', 'joy', 'nehal', 'pritom', 'arhan', 1, 2, 3, 4]\n",
      "['arman', 'joy', 'nehal', 'pritom', 'arhan', 1, 2, 3, 4, 5]\n"
     ]
    }
   ],
   "source": [
    "list1=[\"arman\",\"joy\",\"nehal\",\"pritom\",\"arhan\"]\n",
    "list2=[1,2,3,4,5]\n",
    "for i in list2:\n",
    "    list1.append(i)\n",
    "    print(list1)"
   ]
  },
  {
   "cell_type": "code",
   "execution_count": 5,
   "id": "472751b8",
   "metadata": {},
   "outputs": [
    {
     "name": "stdout",
     "output_type": "stream",
     "text": [
      "[1, 2, 3, 4, 5, 1]\n",
      "[1, 2, 3, 4, 5, 1, 2]\n",
      "[1, 2, 3, 4, 5, 1, 2, 3]\n",
      "[1, 2, 3, 4, 5, 1, 2, 3, 4]\n",
      "[1, 2, 3, 4, 5, 1, 2, 3, 4, 5]\n"
     ]
    }
   ],
   "source": [
    "list1=[1,2,3,4,5]\n",
    "list=[10,20,30]\n",
    "for i in list2:\n",
    "    list1.append(i)\n",
    "    print(list1)"
   ]
  },
  {
   "cell_type": "code",
   "execution_count": 6,
   "id": "62452ec7",
   "metadata": {},
   "outputs": [
    {
     "name": "stdout",
     "output_type": "stream",
     "text": [
      "['arman', 'joy', 'nehal', 'pritom', 'mamun', 'rana', 'chota']\n"
     ]
    }
   ],
   "source": [
    "mylist=[\"arman\",\"joy\",\"nehal\",\"pritom\"]\n",
    "newlist=[\"mamun\",\"rana\",\"chota\"]\n",
    "mylist.extend(newlist)\n",
    "print(mylist)"
   ]
  },
  {
   "cell_type": "code",
   "execution_count": 7,
   "id": "91d79e7f",
   "metadata": {},
   "outputs": [
    {
     "name": "stdout",
     "output_type": "stream",
     "text": [
      "['chota', 'rana', 'mamun', 'pritom', 'nehal', 'joy', 'arman']\n"
     ]
    }
   ],
   "source": [
    "mylist.reverse()\n",
    "print(mylist)"
   ]
  },
  {
   "cell_type": "code",
   "execution_count": 8,
   "id": "fc9741d9",
   "metadata": {},
   "outputs": [
    {
     "name": "stdout",
     "output_type": "stream",
     "text": [
      "['rana', 'pritom', 'nehal', 'mamun', 'joy', 'chota', 'arman']\n"
     ]
    }
   ],
   "source": [
    "mylist.sort(reverse=True)\n",
    "print(mylist)"
   ]
  },
  {
   "cell_type": "code",
   "execution_count": 9,
   "id": "c6471358",
   "metadata": {},
   "outputs": [
    {
     "name": "stdout",
     "output_type": "stream",
     "text": [
      "['arman', 'chota', 'joy', 'mamun', 'nehal', 'pritom', 'rana']\n"
     ]
    }
   ],
   "source": [
    "mylist.sort()\n",
    "print(mylist)"
   ]
  },
  {
   "cell_type": "code",
   "execution_count": null,
   "id": "e2370d65",
   "metadata": {},
   "outputs": [],
   "source": []
  }
 ],
 "metadata": {
  "kernelspec": {
   "display_name": "Python 3 (ipykernel)",
   "language": "python",
   "name": "python3"
  },
  "language_info": {
   "codemirror_mode": {
    "name": "ipython",
    "version": 3
   },
   "file_extension": ".py",
   "mimetype": "text/x-python",
   "name": "python",
   "nbconvert_exporter": "python",
   "pygments_lexer": "ipython3",
   "version": "3.10.9"
  }
 },
 "nbformat": 4,
 "nbformat_minor": 5
}
