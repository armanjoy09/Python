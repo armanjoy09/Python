{
 "cells": [
  {
   "cell_type": "code",
   "execution_count": 1,
   "id": "651bda0f",
   "metadata": {},
   "outputs": [
    {
     "name": "stdout",
     "output_type": "stream",
     "text": [
      "this is the class method\n"
     ]
    }
   ],
   "source": [
    "# classmethod\n",
    "class classname:\n",
    "    @classmethod\n",
    "    def classmethod(cls):\n",
    "        print(\"this is the class method\")\n",
    "        \n",
    "v1=classname()\n",
    "v1.classmethod()"
   ]
  },
  {
   "cell_type": "code",
   "execution_count": 2,
   "id": "34153ad9",
   "metadata": {},
   "outputs": [
    {
     "name": "stdout",
     "output_type": "stream",
     "text": [
      "this is the class method\n"
     ]
    }
   ],
   "source": [
    "class classname:\n",
    "    @classmethod\n",
    "    def classmethod(cls):\n",
    "        print(\"this is the class method\")\n",
    "        \n",
    "classname.classmethod()"
   ]
  },
  {
   "cell_type": "code",
   "execution_count": 3,
   "id": "d13807a4",
   "metadata": {},
   "outputs": [
    {
     "name": "stdout",
     "output_type": "stream",
     "text": [
      "this is the instance method\n"
     ]
    }
   ],
   "source": [
    "instance m,class classname:\n",
    "    def instancemethod(self):\n",
    "        print(\"this is the instance method\")\n",
    "        \n",
    "haha=classname()\n",
    "haha.instancemethod()"
   ]
  },
  {
   "cell_type": "code",
   "execution_count": 4,
   "id": "f63bf886",
   "metadata": {},
   "outputs": [
    {
     "name": "stdout",
     "output_type": "stream",
     "text": [
      "this is the static method\n"
     ]
    }
   ],
   "source": [
    "class classname:\n",
    "    def staticmethod():\n",
    "        print(\"this is the static method\")\n",
    "        \n",
    "classname.staticmethod()"
   ]
  },
  {
   "cell_type": "code",
   "execution_count": 5,
   "id": "ddabaf98",
   "metadata": {},
   "outputs": [
    {
     "name": "stdout",
     "output_type": "stream",
     "text": [
      "this is the static method\n"
     ]
    }
   ],
   "source": [
    "class classname:\n",
    "    def staticmethod():\n",
    "        print(\"this is the staticmethod\")\n",
    "        \n",
    "    classname.staticmethod()"
   ]
  },
  {
   "cell_type": "code",
   "execution_count": 9,
   "id": "fd0fa50d",
   "metadata": {},
   "outputs": [
    {
     "name": "stdout",
     "output_type": "stream",
     "text": [
      "this is the class method\n"
     ]
    }
   ],
   "source": [
    "class classname:\n",
    "    @classmethod\n",
    "    def classmethod(cls):\n",
    "        print(\"this is the class method\")\n",
    "        \n",
    "v1=classname\n",
    "v1.classmethod()"
   ]
  },
  {
   "cell_type": "code",
   "execution_count": null,
   "id": "1c9c9932",
   "metadata": {},
   "outputs": [],
   "source": []
  }
 ],
 "metadata": {
  "kernelspec": {
   "display_name": "Python 3 (ipykernel)",
   "language": "python",
   "name": "python3"
  },
  "language_info": {
   "codemirror_mode": {
    "name": "ipython",
    "version": 3
   },
   "file_extension": ".py",
   "mimetype": "text/x-python",
   "name": "python",
   "nbconvert_exporter": "python",
   "pygments_lexer": "ipython3",
   "version": "3.10.9"
  }
 },
 "nbformat": 4,
 "nbformat_minor": 5
}
